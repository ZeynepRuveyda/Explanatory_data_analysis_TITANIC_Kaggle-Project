{
 "cells": [
  {
   "cell_type": "markdown",
   "metadata": {},
   "source": [
    "# TITANIC EDA to PREDICT\n",
    "\n",
    "## Table of Contents\n",
    "<ul>\n",
    "<li><a href=\"#intro\">Introduction</a></li>\n",
    "<li><a href=\"#wrangling\">Data Wrangling</a></li>\n",
    "<li><a href=\"#eda\">Exploratory Data Analysis</a></li>\n",
    "<li><a href=\"#conclusions\">Conclusions</a></li>\n",
    "</ul>"
   ]
  },
  {
   "cell_type": "markdown",
   "metadata": {},
   "source": [
    "<a id='intro'></a>\n",
    "## Introduction\n",
    "\n",
    "\n",
    "\n",
    ">The sinking of the Titanic is one of the most infamous shipwrecks in history.\n",
    ">On April 15, 1912, during her maiden voyage, the widely considered “unsinkable” RMS Titanic sank after colliding with an iceberg. Unfortunately, there weren’t enough lifeboats for everyone onboard, resulting in the death of 1502 out of 2224 passengers and crew.\n",
    "\n",
    "> ### Data Dictionary\n",
    "\n",
    ">1. survival = Survival / 0 = No, 1 = Yes\n",
    "2. pclass = Ticket class / 1 = 1st, 2 = 2nd, 3 = 3rd\n",
    "3. sex = Sex \t\n",
    "4. Age = Age in years \t\n",
    "5. sibsp = of siblings / spouses aboard the Titanic \t\n",
    "6. parch = of parents / children aboard the Titanic \t\n",
    "7. ticket = Ticket number \t\n",
    "8. fare = Passenger fare \t\n",
    "9. cabin = Cabin number \t\n",
    "10. embarked = Port of Embarkation / C = Cherbourg, Q = Queenstown, S = Southampton\n",
    "\n",
    "> ### Variable Notes\n",
    "\n",
    ">pclass: A proxy for socio-economic status (SES)\n",
    "/1st = Upper\n",
    "/2nd = Middle\n",
    "/3rd = Lower\n",
    "\n",
    ">age: Age is fractional if less than 1. If the age is estimated, is it in the form of xx.5\n",
    "\n",
    ">sibsp: The dataset defines family relations in this way...\n",
    "/Sibling = brother, sister, stepbrother, stepsister\n",
    "/Spouse = husband, wife (mistresses and fiancés were ignored)\n",
    "\n",
    ">parch: The dataset defines family relations in this way...\n",
    "/Parent = mother, father\n",
    "/Child = daughter, son, stepdaughter, stepson\n",
    "/Some children travelled only with a nanny, therefore parch=0 for them.\n"
   ]
  },
  {
   "cell_type": "code",
   "execution_count": 77,
   "metadata": {},
   "outputs": [
    {
     "ename": "ModuleNotFoundError",
     "evalue": "No module named 'missingo'",
     "output_type": "error",
     "traceback": [
      "\u001b[0;31m---------------------------------------------------------------------------\u001b[0m",
      "\u001b[0;31mModuleNotFoundError\u001b[0m                       Traceback (most recent call last)",
      "\u001b[0;32m<ipython-input-77-2e38bc272d7e>\u001b[0m in \u001b[0;36m<module>\u001b[0;34m\u001b[0m\n\u001b[1;32m      2\u001b[0m \u001b[0;32mimport\u001b[0m \u001b[0mpandas\u001b[0m \u001b[0;32mas\u001b[0m \u001b[0mpd\u001b[0m\u001b[0;34m\u001b[0m\u001b[0;34m\u001b[0m\u001b[0m\n\u001b[1;32m      3\u001b[0m \u001b[0;32mimport\u001b[0m \u001b[0mnumpy\u001b[0m \u001b[0;32mas\u001b[0m \u001b[0mnp\u001b[0m\u001b[0;34m\u001b[0m\u001b[0;34m\u001b[0m\u001b[0m\n\u001b[0;32m----> 4\u001b[0;31m \u001b[0;32mimport\u001b[0m \u001b[0mmissingo\u001b[0m \u001b[0;32mas\u001b[0m \u001b[0mmsno\u001b[0m\u001b[0;34m\u001b[0m\u001b[0;34m\u001b[0m\u001b[0m\n\u001b[0m\u001b[1;32m      5\u001b[0m \u001b[0;34m\u001b[0m\u001b[0m\n\u001b[1;32m      6\u001b[0m \u001b[0;34m\u001b[0m\u001b[0m\n",
      "\u001b[0;31mModuleNotFoundError\u001b[0m: No module named 'missingo'"
     ]
    }
   ],
   "source": [
    "# data analysis and wrangling\n",
    "import pandas as pd\n",
    "import numpy as np\n",
    "import missingo as msno\n",
    "\n",
    "\n",
    "# visualization\n",
    "import seaborn as sns\n",
    "import matplotlib.pyplot as plt\n",
    "%matplotlib inline"
   ]
  },
  {
   "cell_type": "markdown",
   "metadata": {},
   "source": [
    "<a id='wrangling'></a>\n",
    "## Data Wrangling\n",
    "\n",
    "> After loading the datset, We are going to use Pandas to explore some helpful methods for assessing and building intuition about the dataset, then we are going to proceed with the cleaning process to include only the relavent data related to the questions I will apply on the dataset for the analysis process and delete the unused data."
   ]
  },
  {
   "cell_type": "code",
   "execution_count": 12,
   "metadata": {},
   "outputs": [
    {
     "data": {
      "text/html": [
       "<div>\n",
       "<style scoped>\n",
       "    .dataframe tbody tr th:only-of-type {\n",
       "        vertical-align: middle;\n",
       "    }\n",
       "\n",
       "    .dataframe tbody tr th {\n",
       "        vertical-align: top;\n",
       "    }\n",
       "\n",
       "    .dataframe thead th {\n",
       "        text-align: right;\n",
       "    }\n",
       "</style>\n",
       "<table border=\"1\" class=\"dataframe\">\n",
       "  <thead>\n",
       "    <tr style=\"text-align: right;\">\n",
       "      <th></th>\n",
       "      <th>PassengerId</th>\n",
       "      <th>Survived</th>\n",
       "      <th>Pclass</th>\n",
       "      <th>Name</th>\n",
       "      <th>Sex</th>\n",
       "      <th>Age</th>\n",
       "      <th>SibSp</th>\n",
       "      <th>Parch</th>\n",
       "      <th>Ticket</th>\n",
       "      <th>Fare</th>\n",
       "      <th>Cabin</th>\n",
       "      <th>Embarked</th>\n",
       "    </tr>\n",
       "  </thead>\n",
       "  <tbody>\n",
       "    <tr>\n",
       "      <th>0</th>\n",
       "      <td>1</td>\n",
       "      <td>0</td>\n",
       "      <td>3</td>\n",
       "      <td>Braund, Mr. Owen Harris</td>\n",
       "      <td>male</td>\n",
       "      <td>22.0</td>\n",
       "      <td>1</td>\n",
       "      <td>0</td>\n",
       "      <td>A/5 21171</td>\n",
       "      <td>7.2500</td>\n",
       "      <td>NaN</td>\n",
       "      <td>S</td>\n",
       "    </tr>\n",
       "    <tr>\n",
       "      <th>1</th>\n",
       "      <td>2</td>\n",
       "      <td>1</td>\n",
       "      <td>1</td>\n",
       "      <td>Cumings, Mrs. John Bradley (Florence Briggs Th...</td>\n",
       "      <td>female</td>\n",
       "      <td>38.0</td>\n",
       "      <td>1</td>\n",
       "      <td>0</td>\n",
       "      <td>PC 17599</td>\n",
       "      <td>71.2833</td>\n",
       "      <td>C85</td>\n",
       "      <td>C</td>\n",
       "    </tr>\n",
       "    <tr>\n",
       "      <th>2</th>\n",
       "      <td>3</td>\n",
       "      <td>1</td>\n",
       "      <td>3</td>\n",
       "      <td>Heikkinen, Miss. Laina</td>\n",
       "      <td>female</td>\n",
       "      <td>26.0</td>\n",
       "      <td>0</td>\n",
       "      <td>0</td>\n",
       "      <td>STON/O2. 3101282</td>\n",
       "      <td>7.9250</td>\n",
       "      <td>NaN</td>\n",
       "      <td>S</td>\n",
       "    </tr>\n",
       "    <tr>\n",
       "      <th>3</th>\n",
       "      <td>4</td>\n",
       "      <td>1</td>\n",
       "      <td>1</td>\n",
       "      <td>Futrelle, Mrs. Jacques Heath (Lily May Peel)</td>\n",
       "      <td>female</td>\n",
       "      <td>35.0</td>\n",
       "      <td>1</td>\n",
       "      <td>0</td>\n",
       "      <td>113803</td>\n",
       "      <td>53.1000</td>\n",
       "      <td>C123</td>\n",
       "      <td>S</td>\n",
       "    </tr>\n",
       "    <tr>\n",
       "      <th>4</th>\n",
       "      <td>5</td>\n",
       "      <td>0</td>\n",
       "      <td>3</td>\n",
       "      <td>Allen, Mr. William Henry</td>\n",
       "      <td>male</td>\n",
       "      <td>35.0</td>\n",
       "      <td>0</td>\n",
       "      <td>0</td>\n",
       "      <td>373450</td>\n",
       "      <td>8.0500</td>\n",
       "      <td>NaN</td>\n",
       "      <td>S</td>\n",
       "    </tr>\n",
       "  </tbody>\n",
       "</table>\n",
       "</div>"
      ],
      "text/plain": [
       "   PassengerId  Survived  Pclass  \\\n",
       "0            1         0       3   \n",
       "1            2         1       1   \n",
       "2            3         1       3   \n",
       "3            4         1       1   \n",
       "4            5         0       3   \n",
       "\n",
       "                                                Name     Sex   Age  SibSp  \\\n",
       "0                            Braund, Mr. Owen Harris    male  22.0      1   \n",
       "1  Cumings, Mrs. John Bradley (Florence Briggs Th...  female  38.0      1   \n",
       "2                             Heikkinen, Miss. Laina  female  26.0      0   \n",
       "3       Futrelle, Mrs. Jacques Heath (Lily May Peel)  female  35.0      1   \n",
       "4                           Allen, Mr. William Henry    male  35.0      0   \n",
       "\n",
       "   Parch            Ticket     Fare Cabin Embarked  \n",
       "0      0         A/5 21171   7.2500   NaN        S  \n",
       "1      0          PC 17599  71.2833   C85        C  \n",
       "2      0  STON/O2. 3101282   7.9250   NaN        S  \n",
       "3      0            113803  53.1000  C123        S  \n",
       "4      0            373450   8.0500   NaN        S  "
      ]
     },
     "execution_count": 12,
     "metadata": {},
     "output_type": "execute_result"
    }
   ],
   "source": [
    "# Load our data and print out a few lines. Perform operations to inspect data\n",
    "#   types and look for instances of missing or possibly errant data.\n",
    "\n",
    "#loading the csv file and storing it in 'train_df'\n",
    "train_df = pd.read_csv('train.csv')\n",
    "\n",
    "\n",
    "#printing first five rows\n",
    "train_df.head()"
   ]
  },
  {
   "cell_type": "code",
   "execution_count": 14,
   "metadata": {},
   "outputs": [
    {
     "data": {
      "text/html": [
       "<div>\n",
       "<style scoped>\n",
       "    .dataframe tbody tr th:only-of-type {\n",
       "        vertical-align: middle;\n",
       "    }\n",
       "\n",
       "    .dataframe tbody tr th {\n",
       "        vertical-align: top;\n",
       "    }\n",
       "\n",
       "    .dataframe thead th {\n",
       "        text-align: right;\n",
       "    }\n",
       "</style>\n",
       "<table border=\"1\" class=\"dataframe\">\n",
       "  <thead>\n",
       "    <tr style=\"text-align: right;\">\n",
       "      <th></th>\n",
       "      <th>PassengerId</th>\n",
       "      <th>Survived</th>\n",
       "      <th>Pclass</th>\n",
       "      <th>Name</th>\n",
       "      <th>Sex</th>\n",
       "      <th>Age</th>\n",
       "      <th>SibSp</th>\n",
       "      <th>Parch</th>\n",
       "      <th>Ticket</th>\n",
       "      <th>Fare</th>\n",
       "      <th>Cabin</th>\n",
       "      <th>Embarked</th>\n",
       "    </tr>\n",
       "  </thead>\n",
       "  <tbody>\n",
       "    <tr>\n",
       "      <th>886</th>\n",
       "      <td>887</td>\n",
       "      <td>0</td>\n",
       "      <td>2</td>\n",
       "      <td>Montvila, Rev. Juozas</td>\n",
       "      <td>male</td>\n",
       "      <td>27.0</td>\n",
       "      <td>0</td>\n",
       "      <td>0</td>\n",
       "      <td>211536</td>\n",
       "      <td>13.00</td>\n",
       "      <td>NaN</td>\n",
       "      <td>S</td>\n",
       "    </tr>\n",
       "    <tr>\n",
       "      <th>887</th>\n",
       "      <td>888</td>\n",
       "      <td>1</td>\n",
       "      <td>1</td>\n",
       "      <td>Graham, Miss. Margaret Edith</td>\n",
       "      <td>female</td>\n",
       "      <td>19.0</td>\n",
       "      <td>0</td>\n",
       "      <td>0</td>\n",
       "      <td>112053</td>\n",
       "      <td>30.00</td>\n",
       "      <td>B42</td>\n",
       "      <td>S</td>\n",
       "    </tr>\n",
       "    <tr>\n",
       "      <th>888</th>\n",
       "      <td>889</td>\n",
       "      <td>0</td>\n",
       "      <td>3</td>\n",
       "      <td>Johnston, Miss. Catherine Helen \"Carrie\"</td>\n",
       "      <td>female</td>\n",
       "      <td>NaN</td>\n",
       "      <td>1</td>\n",
       "      <td>2</td>\n",
       "      <td>W./C. 6607</td>\n",
       "      <td>23.45</td>\n",
       "      <td>NaN</td>\n",
       "      <td>S</td>\n",
       "    </tr>\n",
       "    <tr>\n",
       "      <th>889</th>\n",
       "      <td>890</td>\n",
       "      <td>1</td>\n",
       "      <td>1</td>\n",
       "      <td>Behr, Mr. Karl Howell</td>\n",
       "      <td>male</td>\n",
       "      <td>26.0</td>\n",
       "      <td>0</td>\n",
       "      <td>0</td>\n",
       "      <td>111369</td>\n",
       "      <td>30.00</td>\n",
       "      <td>C148</td>\n",
       "      <td>C</td>\n",
       "    </tr>\n",
       "    <tr>\n",
       "      <th>890</th>\n",
       "      <td>891</td>\n",
       "      <td>0</td>\n",
       "      <td>3</td>\n",
       "      <td>Dooley, Mr. Patrick</td>\n",
       "      <td>male</td>\n",
       "      <td>32.0</td>\n",
       "      <td>0</td>\n",
       "      <td>0</td>\n",
       "      <td>370376</td>\n",
       "      <td>7.75</td>\n",
       "      <td>NaN</td>\n",
       "      <td>Q</td>\n",
       "    </tr>\n",
       "  </tbody>\n",
       "</table>\n",
       "</div>"
      ],
      "text/plain": [
       "     PassengerId  Survived  Pclass                                      Name  \\\n",
       "886          887         0       2                     Montvila, Rev. Juozas   \n",
       "887          888         1       1              Graham, Miss. Margaret Edith   \n",
       "888          889         0       3  Johnston, Miss. Catherine Helen \"Carrie\"   \n",
       "889          890         1       1                     Behr, Mr. Karl Howell   \n",
       "890          891         0       3                       Dooley, Mr. Patrick   \n",
       "\n",
       "        Sex   Age  SibSp  Parch      Ticket   Fare Cabin Embarked  \n",
       "886    male  27.0      0      0      211536  13.00   NaN        S  \n",
       "887  female  19.0      0      0      112053  30.00   B42        S  \n",
       "888  female   NaN      1      2  W./C. 6607  23.45   NaN        S  \n",
       "889    male  26.0      0      0      111369  30.00  C148        C  \n",
       "890    male  32.0      0      0      370376   7.75   NaN        Q  "
      ]
     },
     "execution_count": 14,
     "metadata": {},
     "output_type": "execute_result"
    }
   ],
   "source": [
    "# the last 3 rows\n",
    "\n",
    "train_df.tail(5)"
   ]
  },
  {
   "cell_type": "code",
   "execution_count": 16,
   "metadata": {},
   "outputs": [
    {
     "data": {
      "text/plain": [
       "(891, 12)"
      ]
     },
     "execution_count": 16,
     "metadata": {},
     "output_type": "execute_result"
    }
   ],
   "source": [
    "# dimension\n",
    "\n",
    "train_df.shape"
   ]
  },
  {
   "cell_type": "markdown",
   "metadata": {},
   "source": [
    " > ### checking for cleaning"
   ]
  },
  {
   "cell_type": "code",
   "execution_count": 18,
   "metadata": {},
   "outputs": [
    {
     "data": {
      "text/plain": [
       "PassengerId      0\n",
       "Survived         0\n",
       "Pclass           0\n",
       "Name             0\n",
       "Sex              0\n",
       "Age            177\n",
       "SibSp            0\n",
       "Parch            0\n",
       "Ticket           0\n",
       "Fare             0\n",
       "Cabin          687\n",
       "Embarked         2\n",
       "dtype: int64"
      ]
     },
     "execution_count": 18,
     "metadata": {},
     "output_type": "execute_result"
    }
   ],
   "source": [
    "#checking for total null values\n",
    "\n",
    "train_df.isnull().sum() "
   ]
  },
  {
   "cell_type": "markdown",
   "metadata": {},
   "source": [
    "* The Age, Cabin and Embarked have null values. We will fix them after."
   ]
  },
  {
   "cell_type": "code",
   "execution_count": 32,
   "metadata": {},
   "outputs": [
    {
     "name": "stdout",
     "output_type": "stream",
     "text": [
      "<class 'pandas.core.frame.DataFrame'>\n",
      "RangeIndex: 891 entries, 0 to 890\n",
      "Data columns (total 12 columns):\n",
      " #   Column       Non-Null Count  Dtype  \n",
      "---  ------       --------------  -----  \n",
      " 0   PassengerId  891 non-null    int64  \n",
      " 1   Survived     891 non-null    int64  \n",
      " 2   Pclass       891 non-null    int64  \n",
      " 3   Name         891 non-null    object \n",
      " 4   Sex          891 non-null    object \n",
      " 5   Age          714 non-null    float64\n",
      " 6   SibSp        891 non-null    int64  \n",
      " 7   Parch        891 non-null    int64  \n",
      " 8   Ticket       891 non-null    object \n",
      " 9   Fare         891 non-null    float64\n",
      " 10  Cabin        204 non-null    object \n",
      " 11  Embarked     889 non-null    object \n",
      "dtypes: float64(2), int64(5), object(5)\n",
      "memory usage: 83.7+ KB\n"
     ]
    }
   ],
   "source": [
    "# format of our values\n",
    "\n",
    "train_df.info()"
   ]
  },
  {
   "cell_type": "code",
   "execution_count": 26,
   "metadata": {},
   "outputs": [
    {
     "data": {
      "text/plain": [
       "0"
      ]
     },
     "execution_count": 26,
     "metadata": {},
     "output_type": "execute_result"
    }
   ],
   "source": [
    "# check for duplicates in the data\n",
    "\n",
    "sum(train_df.duplicated())"
   ]
  },
  {
   "cell_type": "markdown",
   "metadata": {},
   "source": [
    "* There are no duplicate values"
   ]
  },
  {
   "cell_type": "markdown",
   "metadata": {},
   "source": [
    "### Data Cleaning (Removing the unused information from the dataset)\n",
    "\n",
    ">\n",
    ">1. Remove unnecessary columns such as 'Cabin', 'Ticket' columns.\n",
    "\n"
   ]
  },
  {
   "cell_type": "markdown",
   "metadata": {},
   "source": [
    "###  1.Remove unnecessary columns"
   ]
  },
  {
   "cell_type": "code",
   "execution_count": 33,
   "metadata": {},
   "outputs": [
    {
     "data": {
      "text/html": [
       "<div>\n",
       "<style scoped>\n",
       "    .dataframe tbody tr th:only-of-type {\n",
       "        vertical-align: middle;\n",
       "    }\n",
       "\n",
       "    .dataframe tbody tr th {\n",
       "        vertical-align: top;\n",
       "    }\n",
       "\n",
       "    .dataframe thead th {\n",
       "        text-align: right;\n",
       "    }\n",
       "</style>\n",
       "<table border=\"1\" class=\"dataframe\">\n",
       "  <thead>\n",
       "    <tr style=\"text-align: right;\">\n",
       "      <th></th>\n",
       "      <th>PassengerId</th>\n",
       "      <th>Survived</th>\n",
       "      <th>Pclass</th>\n",
       "      <th>Name</th>\n",
       "      <th>Sex</th>\n",
       "      <th>Age</th>\n",
       "      <th>SibSp</th>\n",
       "      <th>Parch</th>\n",
       "      <th>Fare</th>\n",
       "      <th>Embarked</th>\n",
       "    </tr>\n",
       "  </thead>\n",
       "  <tbody>\n",
       "    <tr>\n",
       "      <th>0</th>\n",
       "      <td>1</td>\n",
       "      <td>0</td>\n",
       "      <td>3</td>\n",
       "      <td>Braund, Mr. Owen Harris</td>\n",
       "      <td>male</td>\n",
       "      <td>22.0</td>\n",
       "      <td>1</td>\n",
       "      <td>0</td>\n",
       "      <td>7.2500</td>\n",
       "      <td>S</td>\n",
       "    </tr>\n",
       "    <tr>\n",
       "      <th>1</th>\n",
       "      <td>2</td>\n",
       "      <td>1</td>\n",
       "      <td>1</td>\n",
       "      <td>Cumings, Mrs. John Bradley (Florence Briggs Th...</td>\n",
       "      <td>female</td>\n",
       "      <td>38.0</td>\n",
       "      <td>1</td>\n",
       "      <td>0</td>\n",
       "      <td>71.2833</td>\n",
       "      <td>C</td>\n",
       "    </tr>\n",
       "    <tr>\n",
       "      <th>2</th>\n",
       "      <td>3</td>\n",
       "      <td>1</td>\n",
       "      <td>3</td>\n",
       "      <td>Heikkinen, Miss. Laina</td>\n",
       "      <td>female</td>\n",
       "      <td>26.0</td>\n",
       "      <td>0</td>\n",
       "      <td>0</td>\n",
       "      <td>7.9250</td>\n",
       "      <td>S</td>\n",
       "    </tr>\n",
       "    <tr>\n",
       "      <th>3</th>\n",
       "      <td>4</td>\n",
       "      <td>1</td>\n",
       "      <td>1</td>\n",
       "      <td>Futrelle, Mrs. Jacques Heath (Lily May Peel)</td>\n",
       "      <td>female</td>\n",
       "      <td>35.0</td>\n",
       "      <td>1</td>\n",
       "      <td>0</td>\n",
       "      <td>53.1000</td>\n",
       "      <td>S</td>\n",
       "    </tr>\n",
       "    <tr>\n",
       "      <th>4</th>\n",
       "      <td>5</td>\n",
       "      <td>0</td>\n",
       "      <td>3</td>\n",
       "      <td>Allen, Mr. William Henry</td>\n",
       "      <td>male</td>\n",
       "      <td>35.0</td>\n",
       "      <td>0</td>\n",
       "      <td>0</td>\n",
       "      <td>8.0500</td>\n",
       "      <td>S</td>\n",
       "    </tr>\n",
       "  </tbody>\n",
       "</table>\n",
       "</div>"
      ],
      "text/plain": [
       "   PassengerId  Survived  Pclass  \\\n",
       "0            1         0       3   \n",
       "1            2         1       1   \n",
       "2            3         1       3   \n",
       "3            4         1       1   \n",
       "4            5         0       3   \n",
       "\n",
       "                                                Name     Sex   Age  SibSp  \\\n",
       "0                            Braund, Mr. Owen Harris    male  22.0      1   \n",
       "1  Cumings, Mrs. John Bradley (Florence Briggs Th...  female  38.0      1   \n",
       "2                             Heikkinen, Miss. Laina  female  26.0      0   \n",
       "3       Futrelle, Mrs. Jacques Heath (Lily May Peel)  female  35.0      1   \n",
       "4                           Allen, Mr. William Henry    male  35.0      0   \n",
       "\n",
       "   Parch     Fare Embarked  \n",
       "0      0   7.2500        S  \n",
       "1      0  71.2833        C  \n",
       "2      0   7.9250        S  \n",
       "3      0  53.1000        S  \n",
       "4      0   8.0500        S  "
      ]
     },
     "execution_count": 33,
     "metadata": {},
     "output_type": "execute_result"
    }
   ],
   "source": [
    "# a list of columns we want to remove\n",
    "del_col = ['Cabin','Ticket' ]\n",
    "#deleting the columns from the database\n",
    "train_df = train_df.drop(del_col, 1)\n",
    "\n",
    "# previewing the new dataset\n",
    "train_df.head(5)"
   ]
  },
  {
   "cell_type": "markdown",
   "metadata": {},
   "source": [
    "# <a id='eda'></a>\n",
    "## Exploratory Data Analysis"
   ]
  },
  {
   "cell_type": "markdown",
   "metadata": {},
   "source": [
    "### 1. What is the number of survivors and non-survivors among those who boarded from which port by gender and in what class? "
   ]
  },
  {
   "cell_type": "code",
   "execution_count": 39,
   "metadata": {},
   "outputs": [
    {
     "data": {
      "text/html": [
       "<style  type=\"text/css\" >\n",
       "#T_bf757984_1615_11eb_957e_0f0cd8533ef1row0_col0,#T_bf757984_1615_11eb_957e_0f0cd8533ef1row1_col2{\n",
       "            background-color:  #fcfe66;\n",
       "            color:  #000000;\n",
       "        }#T_bf757984_1615_11eb_957e_0f0cd8533ef1row0_col1{\n",
       "            background-color:  #d2e866;\n",
       "            color:  #000000;\n",
       "        }#T_bf757984_1615_11eb_957e_0f0cd8533ef1row0_col2{\n",
       "            background-color:  #f2f866;\n",
       "            color:  #000000;\n",
       "        }#T_bf757984_1615_11eb_957e_0f0cd8533ef1row0_col3{\n",
       "            background-color:  #d8ec66;\n",
       "            color:  #000000;\n",
       "        }#T_bf757984_1615_11eb_957e_0f0cd8533ef1row0_col4,#T_bf757984_1615_11eb_957e_0f0cd8533ef1row2_col3{\n",
       "            background-color:  #e8f466;\n",
       "            color:  #000000;\n",
       "        }#T_bf757984_1615_11eb_957e_0f0cd8533ef1row1_col0,#T_bf757984_1615_11eb_957e_0f0cd8533ef1row3_col0,#T_bf757984_1615_11eb_957e_0f0cd8533ef1row3_col1,#T_bf757984_1615_11eb_957e_0f0cd8533ef1row3_col2,#T_bf757984_1615_11eb_957e_0f0cd8533ef1row3_col3,#T_bf757984_1615_11eb_957e_0f0cd8533ef1row3_col4,#T_bf757984_1615_11eb_957e_0f0cd8533ef1row4_col0,#T_bf757984_1615_11eb_957e_0f0cd8533ef1row4_col2,#T_bf757984_1615_11eb_957e_0f0cd8533ef1row4_col3,#T_bf757984_1615_11eb_957e_0f0cd8533ef1row4_col4{\n",
       "            background-color:  #ffff66;\n",
       "            color:  #000000;\n",
       "        }#T_bf757984_1615_11eb_957e_0f0cd8533ef1row1_col1,#T_bf757984_1615_11eb_957e_0f0cd8533ef1row6_col0{\n",
       "            background-color:  #f9fc66;\n",
       "            color:  #000000;\n",
       "        }#T_bf757984_1615_11eb_957e_0f0cd8533ef1row1_col3,#T_bf757984_1615_11eb_957e_0f0cd8533ef1row1_col4{\n",
       "            background-color:  #fbfd66;\n",
       "            color:  #000000;\n",
       "        }#T_bf757984_1615_11eb_957e_0f0cd8533ef1row2_col0,#T_bf757984_1615_11eb_957e_0f0cd8533ef1row5_col1{\n",
       "            background-color:  #e6f266;\n",
       "            color:  #000000;\n",
       "        }#T_bf757984_1615_11eb_957e_0f0cd8533ef1row2_col1{\n",
       "            background-color:  #f0f866;\n",
       "            color:  #000000;\n",
       "        }#T_bf757984_1615_11eb_957e_0f0cd8533ef1row2_col2{\n",
       "            background-color:  #eef666;\n",
       "            color:  #000000;\n",
       "        }#T_bf757984_1615_11eb_957e_0f0cd8533ef1row2_col4,#T_bf757984_1615_11eb_957e_0f0cd8533ef1row7_col0{\n",
       "            background-color:  #edf666;\n",
       "            color:  #000000;\n",
       "        }#T_bf757984_1615_11eb_957e_0f0cd8533ef1row4_col1{\n",
       "            background-color:  #fefe66;\n",
       "            color:  #000000;\n",
       "        }#T_bf757984_1615_11eb_957e_0f0cd8533ef1row5_col0{\n",
       "            background-color:  #e3f166;\n",
       "            color:  #000000;\n",
       "        }#T_bf757984_1615_11eb_957e_0f0cd8533ef1row5_col2{\n",
       "            background-color:  #ecf666;\n",
       "            color:  #000000;\n",
       "        }#T_bf757984_1615_11eb_957e_0f0cd8533ef1row5_col3{\n",
       "            background-color:  #f8fc66;\n",
       "            color:  #000000;\n",
       "        }#T_bf757984_1615_11eb_957e_0f0cd8533ef1row5_col4{\n",
       "            background-color:  #ebf566;\n",
       "            color:  #000000;\n",
       "        }#T_bf757984_1615_11eb_957e_0f0cd8533ef1row6_col1{\n",
       "            background-color:  #cde666;\n",
       "            color:  #000000;\n",
       "        }#T_bf757984_1615_11eb_957e_0f0cd8533ef1row6_col2{\n",
       "            background-color:  #e4f266;\n",
       "            color:  #000000;\n",
       "        }#T_bf757984_1615_11eb_957e_0f0cd8533ef1row6_col3{\n",
       "            background-color:  #bede66;\n",
       "            color:  #000000;\n",
       "        }#T_bf757984_1615_11eb_957e_0f0cd8533ef1row6_col4{\n",
       "            background-color:  #dbed66;\n",
       "            color:  #000000;\n",
       "        }#T_bf757984_1615_11eb_957e_0f0cd8533ef1row7_col1{\n",
       "            background-color:  #bdde66;\n",
       "            color:  #000000;\n",
       "        }#T_bf757984_1615_11eb_957e_0f0cd8533ef1row7_col2{\n",
       "            background-color:  #d3e966;\n",
       "            color:  #000000;\n",
       "        }#T_bf757984_1615_11eb_957e_0f0cd8533ef1row7_col3,#T_bf757984_1615_11eb_957e_0f0cd8533ef1row8_col1{\n",
       "            background-color:  #dcee66;\n",
       "            color:  #000000;\n",
       "        }#T_bf757984_1615_11eb_957e_0f0cd8533ef1row7_col4{\n",
       "            background-color:  #d1e866;\n",
       "            color:  #000000;\n",
       "        }#T_bf757984_1615_11eb_957e_0f0cd8533ef1row8_col0{\n",
       "            background-color:  #52a866;\n",
       "            color:  #000000;\n",
       "        }#T_bf757984_1615_11eb_957e_0f0cd8533ef1row8_col2{\n",
       "            background-color:  #81c066;\n",
       "            color:  #000000;\n",
       "        }#T_bf757984_1615_11eb_957e_0f0cd8533ef1row8_col3{\n",
       "            background-color:  #b0d866;\n",
       "            color:  #000000;\n",
       "        }#T_bf757984_1615_11eb_957e_0f0cd8533ef1row8_col4{\n",
       "            background-color:  #9acc66;\n",
       "            color:  #000000;\n",
       "        }#T_bf757984_1615_11eb_957e_0f0cd8533ef1row9_col0,#T_bf757984_1615_11eb_957e_0f0cd8533ef1row9_col1,#T_bf757984_1615_11eb_957e_0f0cd8533ef1row9_col2,#T_bf757984_1615_11eb_957e_0f0cd8533ef1row9_col3,#T_bf757984_1615_11eb_957e_0f0cd8533ef1row9_col4{\n",
       "            background-color:  #008066;\n",
       "            color:  #f1f1f1;\n",
       "        }</style><table id=\"T_bf757984_1615_11eb_957e_0f0cd8533ef1\" ><thead>    <tr>        <th class=\"blank\" ></th>        <th class=\"index_name level0\" >Sex</th>        <th class=\"col_heading level0 col0\" colspan=2>female</th>        <th class=\"col_heading level0 col2\" colspan=2>male</th>        <th class=\"col_heading level0 col4\" >All</th>    </tr>    <tr>        <th class=\"blank\" ></th>        <th class=\"index_name level1\" >Survived</th>        <th class=\"col_heading level1 col0\" >0</th>        <th class=\"col_heading level1 col1\" >1</th>        <th class=\"col_heading level1 col2\" >0</th>        <th class=\"col_heading level1 col3\" >1</th>        <th class=\"col_heading level1 col4\" ></th>    </tr>    <tr>        <th class=\"index_name level0\" >Embarked</th>        <th class=\"index_name level1\" >Pclass</th>        <th class=\"blank\" ></th>        <th class=\"blank\" ></th>        <th class=\"blank\" ></th>        <th class=\"blank\" ></th>        <th class=\"blank\" ></th>    </tr></thead><tbody>\n",
       "                <tr>\n",
       "                        <th id=\"T_bf757984_1615_11eb_957e_0f0cd8533ef1level0_row0\" class=\"row_heading level0 row0\" rowspan=3>C</th>\n",
       "                        <th id=\"T_bf757984_1615_11eb_957e_0f0cd8533ef1level1_row0\" class=\"row_heading level1 row0\" >1</th>\n",
       "                        <td id=\"T_bf757984_1615_11eb_957e_0f0cd8533ef1row0_col0\" class=\"data row0 col0\" >1</td>\n",
       "                        <td id=\"T_bf757984_1615_11eb_957e_0f0cd8533ef1row0_col1\" class=\"data row0 col1\" >42</td>\n",
       "                        <td id=\"T_bf757984_1615_11eb_957e_0f0cd8533ef1row0_col2\" class=\"data row0 col2\" >25</td>\n",
       "                        <td id=\"T_bf757984_1615_11eb_957e_0f0cd8533ef1row0_col3\" class=\"data row0 col3\" >17</td>\n",
       "                        <td id=\"T_bf757984_1615_11eb_957e_0f0cd8533ef1row0_col4\" class=\"data row0 col4\" >85</td>\n",
       "            </tr>\n",
       "            <tr>\n",
       "                                <th id=\"T_bf757984_1615_11eb_957e_0f0cd8533ef1level1_row1\" class=\"row_heading level1 row1\" >2</th>\n",
       "                        <td id=\"T_bf757984_1615_11eb_957e_0f0cd8533ef1row1_col0\" class=\"data row1 col0\" >0</td>\n",
       "                        <td id=\"T_bf757984_1615_11eb_957e_0f0cd8533ef1row1_col1\" class=\"data row1 col1\" >7</td>\n",
       "                        <td id=\"T_bf757984_1615_11eb_957e_0f0cd8533ef1row1_col2\" class=\"data row1 col2\" >8</td>\n",
       "                        <td id=\"T_bf757984_1615_11eb_957e_0f0cd8533ef1row1_col3\" class=\"data row1 col3\" >2</td>\n",
       "                        <td id=\"T_bf757984_1615_11eb_957e_0f0cd8533ef1row1_col4\" class=\"data row1 col4\" >17</td>\n",
       "            </tr>\n",
       "            <tr>\n",
       "                                <th id=\"T_bf757984_1615_11eb_957e_0f0cd8533ef1level1_row2\" class=\"row_heading level1 row2\" >3</th>\n",
       "                        <td id=\"T_bf757984_1615_11eb_957e_0f0cd8533ef1row2_col0\" class=\"data row2 col0\" >8</td>\n",
       "                        <td id=\"T_bf757984_1615_11eb_957e_0f0cd8533ef1row2_col1\" class=\"data row2 col1\" >15</td>\n",
       "                        <td id=\"T_bf757984_1615_11eb_957e_0f0cd8533ef1row2_col2\" class=\"data row2 col2\" >33</td>\n",
       "                        <td id=\"T_bf757984_1615_11eb_957e_0f0cd8533ef1row2_col3\" class=\"data row2 col3\" >10</td>\n",
       "                        <td id=\"T_bf757984_1615_11eb_957e_0f0cd8533ef1row2_col4\" class=\"data row2 col4\" >66</td>\n",
       "            </tr>\n",
       "            <tr>\n",
       "                        <th id=\"T_bf757984_1615_11eb_957e_0f0cd8533ef1level0_row3\" class=\"row_heading level0 row3\" rowspan=3>Q</th>\n",
       "                        <th id=\"T_bf757984_1615_11eb_957e_0f0cd8533ef1level1_row3\" class=\"row_heading level1 row3\" >1</th>\n",
       "                        <td id=\"T_bf757984_1615_11eb_957e_0f0cd8533ef1row3_col0\" class=\"data row3 col0\" >0</td>\n",
       "                        <td id=\"T_bf757984_1615_11eb_957e_0f0cd8533ef1row3_col1\" class=\"data row3 col1\" >1</td>\n",
       "                        <td id=\"T_bf757984_1615_11eb_957e_0f0cd8533ef1row3_col2\" class=\"data row3 col2\" >1</td>\n",
       "                        <td id=\"T_bf757984_1615_11eb_957e_0f0cd8533ef1row3_col3\" class=\"data row3 col3\" >0</td>\n",
       "                        <td id=\"T_bf757984_1615_11eb_957e_0f0cd8533ef1row3_col4\" class=\"data row3 col4\" >2</td>\n",
       "            </tr>\n",
       "            <tr>\n",
       "                                <th id=\"T_bf757984_1615_11eb_957e_0f0cd8533ef1level1_row4\" class=\"row_heading level1 row4\" >2</th>\n",
       "                        <td id=\"T_bf757984_1615_11eb_957e_0f0cd8533ef1row4_col0\" class=\"data row4 col0\" >0</td>\n",
       "                        <td id=\"T_bf757984_1615_11eb_957e_0f0cd8533ef1row4_col1\" class=\"data row4 col1\" >2</td>\n",
       "                        <td id=\"T_bf757984_1615_11eb_957e_0f0cd8533ef1row4_col2\" class=\"data row4 col2\" >1</td>\n",
       "                        <td id=\"T_bf757984_1615_11eb_957e_0f0cd8533ef1row4_col3\" class=\"data row4 col3\" >0</td>\n",
       "                        <td id=\"T_bf757984_1615_11eb_957e_0f0cd8533ef1row4_col4\" class=\"data row4 col4\" >3</td>\n",
       "            </tr>\n",
       "            <tr>\n",
       "                                <th id=\"T_bf757984_1615_11eb_957e_0f0cd8533ef1level1_row5\" class=\"row_heading level1 row5\" >3</th>\n",
       "                        <td id=\"T_bf757984_1615_11eb_957e_0f0cd8533ef1row5_col0\" class=\"data row5 col0\" >9</td>\n",
       "                        <td id=\"T_bf757984_1615_11eb_957e_0f0cd8533ef1row5_col1\" class=\"data row5 col1\" >24</td>\n",
       "                        <td id=\"T_bf757984_1615_11eb_957e_0f0cd8533ef1row5_col2\" class=\"data row5 col2\" >36</td>\n",
       "                        <td id=\"T_bf757984_1615_11eb_957e_0f0cd8533ef1row5_col3\" class=\"data row5 col3\" >3</td>\n",
       "                        <td id=\"T_bf757984_1615_11eb_957e_0f0cd8533ef1row5_col4\" class=\"data row5 col4\" >72</td>\n",
       "            </tr>\n",
       "            <tr>\n",
       "                        <th id=\"T_bf757984_1615_11eb_957e_0f0cd8533ef1level0_row6\" class=\"row_heading level0 row6\" rowspan=3>S</th>\n",
       "                        <th id=\"T_bf757984_1615_11eb_957e_0f0cd8533ef1level1_row6\" class=\"row_heading level1 row6\" >1</th>\n",
       "                        <td id=\"T_bf757984_1615_11eb_957e_0f0cd8533ef1row6_col0\" class=\"data row6 col0\" >2</td>\n",
       "                        <td id=\"T_bf757984_1615_11eb_957e_0f0cd8533ef1row6_col1\" class=\"data row6 col1\" >46</td>\n",
       "                        <td id=\"T_bf757984_1615_11eb_957e_0f0cd8533ef1row6_col2\" class=\"data row6 col2\" >51</td>\n",
       "                        <td id=\"T_bf757984_1615_11eb_957e_0f0cd8533ef1row6_col3\" class=\"data row6 col3\" >28</td>\n",
       "                        <td id=\"T_bf757984_1615_11eb_957e_0f0cd8533ef1row6_col4\" class=\"data row6 col4\" >127</td>\n",
       "            </tr>\n",
       "            <tr>\n",
       "                                <th id=\"T_bf757984_1615_11eb_957e_0f0cd8533ef1level1_row7\" class=\"row_heading level1 row7\" >2</th>\n",
       "                        <td id=\"T_bf757984_1615_11eb_957e_0f0cd8533ef1row7_col0\" class=\"data row7 col0\" >6</td>\n",
       "                        <td id=\"T_bf757984_1615_11eb_957e_0f0cd8533ef1row7_col1\" class=\"data row7 col1\" >61</td>\n",
       "                        <td id=\"T_bf757984_1615_11eb_957e_0f0cd8533ef1row7_col2\" class=\"data row7 col2\" >82</td>\n",
       "                        <td id=\"T_bf757984_1615_11eb_957e_0f0cd8533ef1row7_col3\" class=\"data row7 col3\" >15</td>\n",
       "                        <td id=\"T_bf757984_1615_11eb_957e_0f0cd8533ef1row7_col4\" class=\"data row7 col4\" >164</td>\n",
       "            </tr>\n",
       "            <tr>\n",
       "                                <th id=\"T_bf757984_1615_11eb_957e_0f0cd8533ef1level1_row8\" class=\"row_heading level1 row8\" >3</th>\n",
       "                        <td id=\"T_bf757984_1615_11eb_957e_0f0cd8533ef1row8_col0\" class=\"data row8 col0\" >55</td>\n",
       "                        <td id=\"T_bf757984_1615_11eb_957e_0f0cd8533ef1row8_col1\" class=\"data row8 col1\" >33</td>\n",
       "                        <td id=\"T_bf757984_1615_11eb_957e_0f0cd8533ef1row8_col2\" class=\"data row8 col2\" >231</td>\n",
       "                        <td id=\"T_bf757984_1615_11eb_957e_0f0cd8533ef1row8_col3\" class=\"data row8 col3\" >34</td>\n",
       "                        <td id=\"T_bf757984_1615_11eb_957e_0f0cd8533ef1row8_col4\" class=\"data row8 col4\" >353</td>\n",
       "            </tr>\n",
       "            <tr>\n",
       "                        <th id=\"T_bf757984_1615_11eb_957e_0f0cd8533ef1level0_row9\" class=\"row_heading level0 row9\" >All</th>\n",
       "                        <th id=\"T_bf757984_1615_11eb_957e_0f0cd8533ef1level1_row9\" class=\"row_heading level1 row9\" ></th>\n",
       "                        <td id=\"T_bf757984_1615_11eb_957e_0f0cd8533ef1row9_col0\" class=\"data row9 col0\" >81</td>\n",
       "                        <td id=\"T_bf757984_1615_11eb_957e_0f0cd8533ef1row9_col1\" class=\"data row9 col1\" >231</td>\n",
       "                        <td id=\"T_bf757984_1615_11eb_957e_0f0cd8533ef1row9_col2\" class=\"data row9 col2\" >468</td>\n",
       "                        <td id=\"T_bf757984_1615_11eb_957e_0f0cd8533ef1row9_col3\" class=\"data row9 col3\" >109</td>\n",
       "                        <td id=\"T_bf757984_1615_11eb_957e_0f0cd8533ef1row9_col4\" class=\"data row9 col4\" >889</td>\n",
       "            </tr>\n",
       "    </tbody></table>"
      ],
      "text/plain": [
       "<pandas.io.formats.style.Styler at 0x7f0437475c10>"
      ]
     },
     "execution_count": 39,
     "metadata": {},
     "output_type": "execute_result"
    }
   ],
   "source": [
    "\n",
    "pd.crosstab([train_df.Embarked,train_df.Pclass],[train_df.Sex,train_df.Survived],margins=True).style.background_gradient(cmap='summer_r')\n",
    "\n"
   ]
  },
  {
   "cell_type": "markdown",
   "metadata": {},
   "source": [
    "*The highest number of women and men who lost their lives are 3rd class passengers at Southampton Embarkation port.\n",
    "*The number of people who lost their lives was in the 3rd class most in total."
   ]
  },
  {
   "cell_type": "markdown",
   "metadata": {},
   "source": [
    "### 2. What are the Passengers' survival percentages by class and gender?"
   ]
  },
  {
   "cell_type": "code",
   "execution_count": 40,
   "metadata": {},
   "outputs": [
    {
     "data": {
      "text/html": [
       "<style  type=\"text/css\" >\n",
       "#T_3337fe0e_1617_11eb_957e_0f0cd8533ef1row0_col0,#T_3337fe0e_1617_11eb_957e_0f0cd8533ef1row0_col1,#T_3337fe0e_1617_11eb_957e_0f0cd8533ef1row0_col3,#T_3337fe0e_1617_11eb_957e_0f0cd8533ef1row3_col2{\n",
       "            background-color:  #ffff66;\n",
       "            color:  #000000;\n",
       "        }#T_3337fe0e_1617_11eb_957e_0f0cd8533ef1row0_col2,#T_3337fe0e_1617_11eb_957e_0f0cd8533ef1row1_col2{\n",
       "            background-color:  #f1f866;\n",
       "            color:  #000000;\n",
       "        }#T_3337fe0e_1617_11eb_957e_0f0cd8533ef1row1_col0{\n",
       "            background-color:  #96cb66;\n",
       "            color:  #000000;\n",
       "        }#T_3337fe0e_1617_11eb_957e_0f0cd8533ef1row1_col1{\n",
       "            background-color:  #a3d166;\n",
       "            color:  #000000;\n",
       "        }#T_3337fe0e_1617_11eb_957e_0f0cd8533ef1row1_col3{\n",
       "            background-color:  #cfe766;\n",
       "            color:  #000000;\n",
       "        }#T_3337fe0e_1617_11eb_957e_0f0cd8533ef1row2_col0{\n",
       "            background-color:  #a7d366;\n",
       "            color:  #000000;\n",
       "        }#T_3337fe0e_1617_11eb_957e_0f0cd8533ef1row2_col1,#T_3337fe0e_1617_11eb_957e_0f0cd8533ef1row2_col3{\n",
       "            background-color:  #85c266;\n",
       "            color:  #000000;\n",
       "        }#T_3337fe0e_1617_11eb_957e_0f0cd8533ef1row2_col2{\n",
       "            background-color:  #6eb666;\n",
       "            color:  #000000;\n",
       "        }#T_3337fe0e_1617_11eb_957e_0f0cd8533ef1row3_col0{\n",
       "            background-color:  #cde666;\n",
       "            color:  #000000;\n",
       "        }#T_3337fe0e_1617_11eb_957e_0f0cd8533ef1row3_col1{\n",
       "            background-color:  #f0f866;\n",
       "            color:  #000000;\n",
       "        }#T_3337fe0e_1617_11eb_957e_0f0cd8533ef1row3_col3{\n",
       "            background-color:  #f7fb66;\n",
       "            color:  #000000;\n",
       "        }#T_3337fe0e_1617_11eb_957e_0f0cd8533ef1row4_col0,#T_3337fe0e_1617_11eb_957e_0f0cd8533ef1row4_col1,#T_3337fe0e_1617_11eb_957e_0f0cd8533ef1row4_col2,#T_3337fe0e_1617_11eb_957e_0f0cd8533ef1row4_col3{\n",
       "            background-color:  #008066;\n",
       "            color:  #f1f1f1;\n",
       "        }</style><table id=\"T_3337fe0e_1617_11eb_957e_0f0cd8533ef1\" ><thead>    <tr>        <th class=\"blank\" ></th>        <th class=\"index_name level0\" >Pclass</th>        <th class=\"col_heading level0 col0\" >1</th>        <th class=\"col_heading level0 col1\" >2</th>        <th class=\"col_heading level0 col2\" >3</th>        <th class=\"col_heading level0 col3\" >All</th>    </tr>    <tr>        <th class=\"index_name level0\" >Sex</th>        <th class=\"index_name level1\" >Survived</th>        <th class=\"blank\" ></th>        <th class=\"blank\" ></th>        <th class=\"blank\" ></th>        <th class=\"blank\" ></th>    </tr></thead><tbody>\n",
       "                <tr>\n",
       "                        <th id=\"T_3337fe0e_1617_11eb_957e_0f0cd8533ef1level0_row0\" class=\"row_heading level0 row0\" rowspan=2>female</th>\n",
       "                        <th id=\"T_3337fe0e_1617_11eb_957e_0f0cd8533ef1level1_row0\" class=\"row_heading level1 row0\" >0</th>\n",
       "                        <td id=\"T_3337fe0e_1617_11eb_957e_0f0cd8533ef1row0_col0\" class=\"data row0 col0\" >3</td>\n",
       "                        <td id=\"T_3337fe0e_1617_11eb_957e_0f0cd8533ef1row0_col1\" class=\"data row0 col1\" >6</td>\n",
       "                        <td id=\"T_3337fe0e_1617_11eb_957e_0f0cd8533ef1row0_col2\" class=\"data row0 col2\" >72</td>\n",
       "                        <td id=\"T_3337fe0e_1617_11eb_957e_0f0cd8533ef1row0_col3\" class=\"data row0 col3\" >81</td>\n",
       "            </tr>\n",
       "            <tr>\n",
       "                                <th id=\"T_3337fe0e_1617_11eb_957e_0f0cd8533ef1level1_row1\" class=\"row_heading level1 row1\" >1</th>\n",
       "                        <td id=\"T_3337fe0e_1617_11eb_957e_0f0cd8533ef1row1_col0\" class=\"data row1 col0\" >91</td>\n",
       "                        <td id=\"T_3337fe0e_1617_11eb_957e_0f0cd8533ef1row1_col1\" class=\"data row1 col1\" >70</td>\n",
       "                        <td id=\"T_3337fe0e_1617_11eb_957e_0f0cd8533ef1row1_col2\" class=\"data row1 col2\" >72</td>\n",
       "                        <td id=\"T_3337fe0e_1617_11eb_957e_0f0cd8533ef1row1_col3\" class=\"data row1 col3\" >233</td>\n",
       "            </tr>\n",
       "            <tr>\n",
       "                        <th id=\"T_3337fe0e_1617_11eb_957e_0f0cd8533ef1level0_row2\" class=\"row_heading level0 row2\" rowspan=2>male</th>\n",
       "                        <th id=\"T_3337fe0e_1617_11eb_957e_0f0cd8533ef1level1_row2\" class=\"row_heading level1 row2\" >0</th>\n",
       "                        <td id=\"T_3337fe0e_1617_11eb_957e_0f0cd8533ef1row2_col0\" class=\"data row2 col0\" >77</td>\n",
       "                        <td id=\"T_3337fe0e_1617_11eb_957e_0f0cd8533ef1row2_col1\" class=\"data row2 col1\" >91</td>\n",
       "                        <td id=\"T_3337fe0e_1617_11eb_957e_0f0cd8533ef1row2_col2\" class=\"data row2 col2\" >300</td>\n",
       "                        <td id=\"T_3337fe0e_1617_11eb_957e_0f0cd8533ef1row2_col3\" class=\"data row2 col3\" >468</td>\n",
       "            </tr>\n",
       "            <tr>\n",
       "                                <th id=\"T_3337fe0e_1617_11eb_957e_0f0cd8533ef1level1_row3\" class=\"row_heading level1 row3\" >1</th>\n",
       "                        <td id=\"T_3337fe0e_1617_11eb_957e_0f0cd8533ef1row3_col0\" class=\"data row3 col0\" >45</td>\n",
       "                        <td id=\"T_3337fe0e_1617_11eb_957e_0f0cd8533ef1row3_col1\" class=\"data row3 col1\" >17</td>\n",
       "                        <td id=\"T_3337fe0e_1617_11eb_957e_0f0cd8533ef1row3_col2\" class=\"data row3 col2\" >47</td>\n",
       "                        <td id=\"T_3337fe0e_1617_11eb_957e_0f0cd8533ef1row3_col3\" class=\"data row3 col3\" >109</td>\n",
       "            </tr>\n",
       "            <tr>\n",
       "                        <th id=\"T_3337fe0e_1617_11eb_957e_0f0cd8533ef1level0_row4\" class=\"row_heading level0 row4\" >All</th>\n",
       "                        <th id=\"T_3337fe0e_1617_11eb_957e_0f0cd8533ef1level1_row4\" class=\"row_heading level1 row4\" ></th>\n",
       "                        <td id=\"T_3337fe0e_1617_11eb_957e_0f0cd8533ef1row4_col0\" class=\"data row4 col0\" >216</td>\n",
       "                        <td id=\"T_3337fe0e_1617_11eb_957e_0f0cd8533ef1row4_col1\" class=\"data row4 col1\" >184</td>\n",
       "                        <td id=\"T_3337fe0e_1617_11eb_957e_0f0cd8533ef1row4_col2\" class=\"data row4 col2\" >491</td>\n",
       "                        <td id=\"T_3337fe0e_1617_11eb_957e_0f0cd8533ef1row4_col3\" class=\"data row4 col3\" >891</td>\n",
       "            </tr>\n",
       "    </tbody></table>"
      ],
      "text/plain": [
       "<pandas.io.formats.style.Styler at 0x7f04790b6550>"
      ]
     },
     "execution_count": 40,
     "metadata": {},
     "output_type": "execute_result"
    }
   ],
   "source": [
    "\n",
    "\n",
    "pd.crosstab([train_df.Sex,train_df.Survived],train_df.Pclass,margins=True).style.background_gradient(cmap='summer_r')\n",
    "\n"
   ]
  },
  {
   "cell_type": "code",
   "execution_count": 50,
   "metadata": {},
   "outputs": [
    {
     "name": "stderr",
     "output_type": "stream",
     "text": [
      "/home/criuser/.local/lib/python3.8/site-packages/seaborn/categorical.py:3704: UserWarning: The `factorplot` function has been renamed to `catplot`. The original name will be removed in a future release. Please update your code. Note that the default `kind` in `factorplot` (`'point'`) has changed `'strip'` in `catplot`.\n",
      "  warnings.warn(msg)\n",
      "/home/criuser/.local/lib/python3.8/site-packages/seaborn/_decorators.py:36: FutureWarning: Pass the following variables as keyword args: x, y. From version 0.12, the only valid positional argument will be `data`, and passing other arguments without an explicit keyword will result in an error or misinterpretation.\n",
      "  warnings.warn(\n"
     ]
    },
    {
     "data": {
      "image/png": "[encoded data removed]",
      "text/plain": [
       "<Figure size 430.5x360 with 1 Axes>"
      ]
     },
     "metadata": {
      "needs_background": "light"
     },
     "output_type": "display_data"
    }
   ],
   "source": [
    "sns.factorplot('Pclass','Survived',hue='Sex',data=train_df)\n",
    "plt.show()"
   ]
  },
  {
   "cell_type": "markdown",
   "metadata": {},
   "source": [
    "*Almost all the women (% 97) in the 1st class survived.\n",
    "*Although the number of passengers in the 2nd class is less than the number of passengers in the 1st class, the number of survivors in the 1st class is higher."
   ]
  },
  {
   "cell_type": "markdown",
   "metadata": {},
   "source": [
    "### 4.What are the Passengers' survival percentages for passengers with parents / children on board?"
   ]
  },
  {
   "cell_type": "code",
   "execution_count": null,
   "metadata": {},
   "outputs": [],
   "source": []
  },
  {
   "cell_type": "markdown",
   "metadata": {},
   "source": [
    "### 5. What is the number of survivors and non-survivors among siblings and spouse(except mistresses and fiancés )? "
   ]
  },
  {
   "cell_type": "code",
   "execution_count": 44,
   "metadata": {},
   "outputs": [
    {
     "data": {
      "text/html": [
       "<style  type=\"text/css\" >\n",
       "#T_c51a97da_1619_11eb_957e_0f0cd8533ef1row0_col0,#T_c51a97da_1619_11eb_957e_0f0cd8533ef1row0_col1{\n",
       "            background-color:  #008066;\n",
       "            color:  #f1f1f1;\n",
       "        }#T_c51a97da_1619_11eb_957e_0f0cd8533ef1row1_col0{\n",
       "            background-color:  #c4e266;\n",
       "            color:  #000000;\n",
       "        }#T_c51a97da_1619_11eb_957e_0f0cd8533ef1row1_col1{\n",
       "            background-color:  #77bb66;\n",
       "            color:  #000000;\n",
       "        }#T_c51a97da_1619_11eb_957e_0f0cd8533ef1row2_col0,#T_c51a97da_1619_11eb_957e_0f0cd8533ef1row4_col0{\n",
       "            background-color:  #f9fc66;\n",
       "            color:  #000000;\n",
       "        }#T_c51a97da_1619_11eb_957e_0f0cd8533ef1row2_col1{\n",
       "            background-color:  #f0f866;\n",
       "            color:  #000000;\n",
       "        }#T_c51a97da_1619_11eb_957e_0f0cd8533ef1row3_col0,#T_c51a97da_1619_11eb_957e_0f0cd8533ef1row3_col1{\n",
       "            background-color:  #fbfd66;\n",
       "            color:  #000000;\n",
       "        }#T_c51a97da_1619_11eb_957e_0f0cd8533ef1row4_col1{\n",
       "            background-color:  #fcfe66;\n",
       "            color:  #000000;\n",
       "        }#T_c51a97da_1619_11eb_957e_0f0cd8533ef1row5_col0,#T_c51a97da_1619_11eb_957e_0f0cd8533ef1row5_col1,#T_c51a97da_1619_11eb_957e_0f0cd8533ef1row6_col1{\n",
       "            background-color:  #ffff66;\n",
       "            color:  #000000;\n",
       "        }#T_c51a97da_1619_11eb_957e_0f0cd8533ef1row6_col0{\n",
       "            background-color:  #fefe66;\n",
       "            color:  #000000;\n",
       "        }</style><table id=\"T_c51a97da_1619_11eb_957e_0f0cd8533ef1\" ><thead>    <tr>        <th class=\"index_name level0\" >Survived</th>        <th class=\"col_heading level0 col0\" >0</th>        <th class=\"col_heading level0 col1\" >1</th>    </tr>    <tr>        <th class=\"index_name level0\" >SibSp</th>        <th class=\"blank\" ></th>        <th class=\"blank\" ></th>    </tr></thead><tbody>\n",
       "                <tr>\n",
       "                        <th id=\"T_c51a97da_1619_11eb_957e_0f0cd8533ef1level0_row0\" class=\"row_heading level0 row0\" >0</th>\n",
       "                        <td id=\"T_c51a97da_1619_11eb_957e_0f0cd8533ef1row0_col0\" class=\"data row0 col0\" >398</td>\n",
       "                        <td id=\"T_c51a97da_1619_11eb_957e_0f0cd8533ef1row0_col1\" class=\"data row0 col1\" >210</td>\n",
       "            </tr>\n",
       "            <tr>\n",
       "                        <th id=\"T_c51a97da_1619_11eb_957e_0f0cd8533ef1level0_row1\" class=\"row_heading level0 row1\" >1</th>\n",
       "                        <td id=\"T_c51a97da_1619_11eb_957e_0f0cd8533ef1row1_col0\" class=\"data row1 col0\" >97</td>\n",
       "                        <td id=\"T_c51a97da_1619_11eb_957e_0f0cd8533ef1row1_col1\" class=\"data row1 col1\" >112</td>\n",
       "            </tr>\n",
       "            <tr>\n",
       "                        <th id=\"T_c51a97da_1619_11eb_957e_0f0cd8533ef1level0_row2\" class=\"row_heading level0 row2\" >2</th>\n",
       "                        <td id=\"T_c51a97da_1619_11eb_957e_0f0cd8533ef1row2_col0\" class=\"data row2 col0\" >15</td>\n",
       "                        <td id=\"T_c51a97da_1619_11eb_957e_0f0cd8533ef1row2_col1\" class=\"data row2 col1\" >13</td>\n",
       "            </tr>\n",
       "            <tr>\n",
       "                        <th id=\"T_c51a97da_1619_11eb_957e_0f0cd8533ef1level0_row3\" class=\"row_heading level0 row3\" >3</th>\n",
       "                        <td id=\"T_c51a97da_1619_11eb_957e_0f0cd8533ef1row3_col0\" class=\"data row3 col0\" >12</td>\n",
       "                        <td id=\"T_c51a97da_1619_11eb_957e_0f0cd8533ef1row3_col1\" class=\"data row3 col1\" >4</td>\n",
       "            </tr>\n",
       "            <tr>\n",
       "                        <th id=\"T_c51a97da_1619_11eb_957e_0f0cd8533ef1level0_row4\" class=\"row_heading level0 row4\" >4</th>\n",
       "                        <td id=\"T_c51a97da_1619_11eb_957e_0f0cd8533ef1row4_col0\" class=\"data row4 col0\" >15</td>\n",
       "                        <td id=\"T_c51a97da_1619_11eb_957e_0f0cd8533ef1row4_col1\" class=\"data row4 col1\" >3</td>\n",
       "            </tr>\n",
       "            <tr>\n",
       "                        <th id=\"T_c51a97da_1619_11eb_957e_0f0cd8533ef1level0_row5\" class=\"row_heading level0 row5\" >5</th>\n",
       "                        <td id=\"T_c51a97da_1619_11eb_957e_0f0cd8533ef1row5_col0\" class=\"data row5 col0\" >5</td>\n",
       "                        <td id=\"T_c51a97da_1619_11eb_957e_0f0cd8533ef1row5_col1\" class=\"data row5 col1\" >0</td>\n",
       "            </tr>\n",
       "            <tr>\n",
       "                        <th id=\"T_c51a97da_1619_11eb_957e_0f0cd8533ef1level0_row6\" class=\"row_heading level0 row6\" >8</th>\n",
       "                        <td id=\"T_c51a97da_1619_11eb_957e_0f0cd8533ef1row6_col0\" class=\"data row6 col0\" >7</td>\n",
       "                        <td id=\"T_c51a97da_1619_11eb_957e_0f0cd8533ef1row6_col1\" class=\"data row6 col1\" >0</td>\n",
       "            </tr>\n",
       "    </tbody></table>"
      ],
      "text/plain": [
       "<pandas.io.formats.style.Styler at 0x7f04377b7310>"
      ]
     },
     "execution_count": 44,
     "metadata": {},
     "output_type": "execute_result"
    }
   ],
   "source": [
    "pd.crosstab([train_df.SibSp],train_df.Survived).style.background_gradient(cmap='summer_r')"
   ]
  },
  {
   "cell_type": "code",
   "execution_count": 53,
   "metadata": {},
   "outputs": [
    {
     "name": "stderr",
     "output_type": "stream",
     "text": [
      "/home/criuser/.local/lib/python3.8/site-packages/seaborn/_decorators.py:36: FutureWarning: Pass the following variables as keyword args: x, y. From version 0.12, the only valid positional argument will be `data`, and passing other arguments without an explicit keyword will result in an error or misinterpretation.\n",
      "  warnings.warn(\n",
      "/home/criuser/.local/lib/python3.8/site-packages/seaborn/categorical.py:3704: UserWarning: The `factorplot` function has been renamed to `catplot`. The original name will be removed in a future release. Please update your code. Note that the default `kind` in `factorplot` (`'point'`) has changed `'strip'` in `catplot`.\n",
      "  warnings.warn(msg)\n",
      "/home/criuser/.local/lib/python3.8/site-packages/seaborn/_decorators.py:36: FutureWarning: Pass the following variables as keyword args: x, y. From version 0.12, the only valid positional argument will be `data`, and passing other arguments without an explicit keyword will result in an error or misinterpretation.\n",
      "  warnings.warn(\n",
      "/home/criuser/.local/lib/python3.8/site-packages/seaborn/categorical.py:3762: UserWarning: catplot is a figure-level function and does not accept target axes. You may wish to try pointplot\n",
      "  warnings.warn(msg, UserWarning)\n"
     ]
    },
    {
     "data": {
      "image/png": "[encoded data removed]",
      "text/plain": [
       "<Figure size 1440x576 with 2 Axes>"
      ]
     },
     "metadata": {
      "needs_background": "light"
     },
     "output_type": "display_data"
    }
   ],
   "source": [
    "f,ax=plt.subplots(1,2,figsize=(20,8))\n",
    "sns.barplot('SibSp','Survived',data=train_df,ax=ax[0])\n",
    "ax[0].set_title('SibSp vs Survived')\n",
    "sns.factorplot('SibSp','Survived',data=train_df,ax=ax[1])\n",
    "ax[1].set_title('SibSp vs Survived')\n",
    "plt.close(2)\n",
    "plt.show()"
   ]
  },
  {
   "cell_type": "markdown",
   "metadata": {},
   "source": [
    "### Visualization"
   ]
  },
  {
   "cell_type": "code",
   "execution_count": 76,
   "metadata": {},
   "outputs": [],
   "source": [
    "#Sex and Embarked columns to check if there's any correlation between them and the Survived data\n",
    "\n",
    "train_df['Sex_data'] = train_df['Sex'].map({'male': 1,'female': 0})\n",
    "train_df['Embarked_data'] = train_df['Embarked'].map({'S': 0,'C': 1, 'Q': 2})\n",
    "\n"
   ]
  },
  {
   "cell_type": "code",
   "execution_count": 74,
   "metadata": {},
   "outputs": [
    {
     "data": {
      "text/html": [
       "<div>\n",
       "<style scoped>\n",
       "    .dataframe tbody tr th:only-of-type {\n",
       "        vertical-align: middle;\n",
       "    }\n",
       "\n",
       "    .dataframe tbody tr th {\n",
       "        vertical-align: top;\n",
       "    }\n",
       "\n",
       "    .dataframe thead th {\n",
       "        text-align: right;\n",
       "    }\n",
       "</style>\n",
       "<table border=\"1\" class=\"dataframe\">\n",
       "  <thead>\n",
       "    <tr style=\"text-align: right;\">\n",
       "      <th></th>\n",
       "      <th>PassengerId</th>\n",
       "      <th>Survived</th>\n",
       "      <th>Pclass</th>\n",
       "      <th>Sex</th>\n",
       "      <th>Age</th>\n",
       "      <th>SibSp</th>\n",
       "      <th>Parch</th>\n",
       "      <th>Fare</th>\n",
       "      <th>Embarked</th>\n",
       "      <th>Sex_data</th>\n",
       "      <th>Embarked_data</th>\n",
       "    </tr>\n",
       "  </thead>\n",
       "  <tbody>\n",
       "    <tr>\n",
       "      <th>PassengerId</th>\n",
       "      <td>1.000000</td>\n",
       "      <td>-0.005007</td>\n",
       "      <td>-0.035144</td>\n",
       "      <td>0.042939</td>\n",
       "      <td>0.036847</td>\n",
       "      <td>-0.057527</td>\n",
       "      <td>-0.001652</td>\n",
       "      <td>0.012658</td>\n",
       "      <td>-0.030555</td>\n",
       "      <td>NaN</td>\n",
       "      <td>NaN</td>\n",
       "    </tr>\n",
       "    <tr>\n",
       "      <th>Survived</th>\n",
       "      <td>-0.005007</td>\n",
       "      <td>1.000000</td>\n",
       "      <td>-0.338481</td>\n",
       "      <td>-0.543351</td>\n",
       "      <td>-0.077221</td>\n",
       "      <td>-0.035322</td>\n",
       "      <td>0.081629</td>\n",
       "      <td>0.257307</td>\n",
       "      <td>0.108669</td>\n",
       "      <td>NaN</td>\n",
       "      <td>NaN</td>\n",
       "    </tr>\n",
       "    <tr>\n",
       "      <th>Pclass</th>\n",
       "      <td>-0.035144</td>\n",
       "      <td>-0.338481</td>\n",
       "      <td>1.000000</td>\n",
       "      <td>0.131900</td>\n",
       "      <td>-0.369226</td>\n",
       "      <td>0.083081</td>\n",
       "      <td>0.018443</td>\n",
       "      <td>-0.549500</td>\n",
       "      <td>0.043835</td>\n",
       "      <td>NaN</td>\n",
       "      <td>NaN</td>\n",
       "    </tr>\n",
       "    <tr>\n",
       "      <th>Sex</th>\n",
       "      <td>0.042939</td>\n",
       "      <td>-0.543351</td>\n",
       "      <td>0.131900</td>\n",
       "      <td>1.000000</td>\n",
       "      <td>0.093254</td>\n",
       "      <td>-0.114631</td>\n",
       "      <td>-0.245489</td>\n",
       "      <td>-0.182333</td>\n",
       "      <td>-0.118593</td>\n",
       "      <td>NaN</td>\n",
       "      <td>NaN</td>\n",
       "    </tr>\n",
       "    <tr>\n",
       "      <th>Age</th>\n",
       "      <td>0.036847</td>\n",
       "      <td>-0.077221</td>\n",
       "      <td>-0.369226</td>\n",
       "      <td>0.093254</td>\n",
       "      <td>1.000000</td>\n",
       "      <td>-0.308247</td>\n",
       "      <td>-0.189119</td>\n",
       "      <td>0.096067</td>\n",
       "      <td>0.012186</td>\n",
       "      <td>NaN</td>\n",
       "      <td>NaN</td>\n",
       "    </tr>\n",
       "    <tr>\n",
       "      <th>SibSp</th>\n",
       "      <td>-0.057527</td>\n",
       "      <td>-0.035322</td>\n",
       "      <td>0.083081</td>\n",
       "      <td>-0.114631</td>\n",
       "      <td>-0.308247</td>\n",
       "      <td>1.000000</td>\n",
       "      <td>0.414838</td>\n",
       "      <td>0.159651</td>\n",
       "      <td>-0.060606</td>\n",
       "      <td>NaN</td>\n",
       "      <td>NaN</td>\n",
       "    </tr>\n",
       "    <tr>\n",
       "      <th>Parch</th>\n",
       "      <td>-0.001652</td>\n",
       "      <td>0.081629</td>\n",
       "      <td>0.018443</td>\n",
       "      <td>-0.245489</td>\n",
       "      <td>-0.189119</td>\n",
       "      <td>0.414838</td>\n",
       "      <td>1.000000</td>\n",
       "      <td>0.216225</td>\n",
       "      <td>-0.079320</td>\n",
       "      <td>NaN</td>\n",
       "      <td>NaN</td>\n",
       "    </tr>\n",
       "    <tr>\n",
       "      <th>Fare</th>\n",
       "      <td>0.012658</td>\n",
       "      <td>0.257307</td>\n",
       "      <td>-0.549500</td>\n",
       "      <td>-0.182333</td>\n",
       "      <td>0.096067</td>\n",
       "      <td>0.159651</td>\n",
       "      <td>0.216225</td>\n",
       "      <td>1.000000</td>\n",
       "      <td>0.063462</td>\n",
       "      <td>NaN</td>\n",
       "      <td>NaN</td>\n",
       "    </tr>\n",
       "    <tr>\n",
       "      <th>Embarked</th>\n",
       "      <td>-0.030555</td>\n",
       "      <td>0.108669</td>\n",
       "      <td>0.043835</td>\n",
       "      <td>-0.118593</td>\n",
       "      <td>0.012186</td>\n",
       "      <td>-0.060606</td>\n",
       "      <td>-0.079320</td>\n",
       "      <td>0.063462</td>\n",
       "      <td>1.000000</td>\n",
       "      <td>NaN</td>\n",
       "      <td>NaN</td>\n",
       "    </tr>\n",
       "    <tr>\n",
       "      <th>Sex_data</th>\n",
       "      <td>NaN</td>\n",
       "      <td>NaN</td>\n",
       "      <td>NaN</td>\n",
       "      <td>NaN</td>\n",
       "      <td>NaN</td>\n",
       "      <td>NaN</td>\n",
       "      <td>NaN</td>\n",
       "      <td>NaN</td>\n",
       "      <td>NaN</td>\n",
       "      <td>NaN</td>\n",
       "      <td>NaN</td>\n",
       "    </tr>\n",
       "    <tr>\n",
       "      <th>Embarked_data</th>\n",
       "      <td>NaN</td>\n",
       "      <td>NaN</td>\n",
       "      <td>NaN</td>\n",
       "      <td>NaN</td>\n",
       "      <td>NaN</td>\n",
       "      <td>NaN</td>\n",
       "      <td>NaN</td>\n",
       "      <td>NaN</td>\n",
       "      <td>NaN</td>\n",
       "      <td>NaN</td>\n",
       "      <td>NaN</td>\n",
       "    </tr>\n",
       "  </tbody>\n",
       "</table>\n",
       "</div>"
      ],
      "text/plain": [
       "               PassengerId  Survived    Pclass       Sex       Age     SibSp  \\\n",
       "PassengerId       1.000000 -0.005007 -0.035144  0.042939  0.036847 -0.057527   \n",
       "Survived         -0.005007  1.000000 -0.338481 -0.543351 -0.077221 -0.035322   \n",
       "Pclass           -0.035144 -0.338481  1.000000  0.131900 -0.369226  0.083081   \n",
       "Sex               0.042939 -0.543351  0.131900  1.000000  0.093254 -0.114631   \n",
       "Age               0.036847 -0.077221 -0.369226  0.093254  1.000000 -0.308247   \n",
       "SibSp            -0.057527 -0.035322  0.083081 -0.114631 -0.308247  1.000000   \n",
       "Parch            -0.001652  0.081629  0.018443 -0.245489 -0.189119  0.414838   \n",
       "Fare              0.012658  0.257307 -0.549500 -0.182333  0.096067  0.159651   \n",
       "Embarked         -0.030555  0.108669  0.043835 -0.118593  0.012186 -0.060606   \n",
       "Sex_data               NaN       NaN       NaN       NaN       NaN       NaN   \n",
       "Embarked_data          NaN       NaN       NaN       NaN       NaN       NaN   \n",
       "\n",
       "                  Parch      Fare  Embarked  Sex_data  Embarked_data  \n",
       "PassengerId   -0.001652  0.012658 -0.030555       NaN            NaN  \n",
       "Survived       0.081629  0.257307  0.108669       NaN            NaN  \n",
       "Pclass         0.018443 -0.549500  0.043835       NaN            NaN  \n",
       "Sex           -0.245489 -0.182333 -0.118593       NaN            NaN  \n",
       "Age           -0.189119  0.096067  0.012186       NaN            NaN  \n",
       "SibSp          0.414838  0.159651 -0.060606       NaN            NaN  \n",
       "Parch          1.000000  0.216225 -0.079320       NaN            NaN  \n",
       "Fare           0.216225  1.000000  0.063462       NaN            NaN  \n",
       "Embarked      -0.079320  0.063462  1.000000       NaN            NaN  \n",
       "Sex_data            NaN       NaN       NaN       NaN            NaN  \n",
       "Embarked_data       NaN       NaN       NaN       NaN            NaN  "
      ]
     },
     "execution_count": 74,
     "metadata": {},
     "output_type": "execute_result"
    }
   ],
   "source": [
    "train_df.corr()"
   ]
  },
  {
   "cell_type": "code",
   "execution_count": 73,
   "metadata": {},
   "outputs": [
    {
     "data": {
      "text/plain": [
       "Text(0.5, 1.0, 'Correlation')"
      ]
     },
     "execution_count": 73,
     "metadata": {},
     "output_type": "execute_result"
    },
    {
     "data": {
      "image/png": "[encoded data removed]",
      "text/plain": [
       "<Figure size 432x288 with 2 Axes>"
      ]
     },
     "metadata": {
      "needs_background": "light"
     },
     "output_type": "display_data"
    }
   ],
   "source": [
    "sns.heatmap(train_df.corr(), cmap='icefire')\n",
    "plt.title('Correlation', fontsize=24)"
   ]
  },
  {
   "cell_type": "markdown",
   "metadata": {},
   "source": [
    "*In our analysis we see a low correlation between embarked and sex."
   ]
  },
  {
   "cell_type": "code",
   "execution_count": 59,
   "metadata": {},
   "outputs": [
    {
     "data": {
      "text/plain": [
       "0    549\n",
       "1    342\n",
       "Name: Survived, dtype: int64"
      ]
     },
     "execution_count": 59,
     "metadata": {},
     "output_type": "execute_result"
    }
   ],
   "source": [
    "#Visualization of 'Survived' (Target column)\n",
    "train_df.Survived.value_counts()"
   ]
  },
  {
   "cell_type": "code",
   "execution_count": 62,
   "metadata": {},
   "outputs": [
    {
     "data": {
      "text/plain": [
       "Text(0, 0.5, 'Passenger Count')"
      ]
     },
     "execution_count": 62,
     "metadata": {},
     "output_type": "execute_result"
    },
    {
     "data": {
      "image/png": "[encoded data removed]",
      "text/plain": [
       "<Figure size 432x288 with 1 Axes>"
      ]
     },
     "metadata": {
      "needs_background": "light"
     },
     "output_type": "display_data"
    }
   ],
   "source": [
    "\n",
    "\n",
    "train = train_df.Survived.value_counts().plot(kind='bar')\n",
    "train.set_xlabel('Survived or not')\n",
    "train.set_ylabel('Passenger Count')\n",
    "\n"
   ]
  },
  {
   "cell_type": "markdown",
   "metadata": {},
   "source": [
    "*Based on the information we have, we can see that only 342 people out of 891 passengers survived on our graph."
   ]
  },
  {
   "cell_type": "code",
   "execution_count": 64,
   "metadata": {},
   "outputs": [
    {
     "data": {
      "text/plain": [
       "Text(0, 0.5, 'Survival Probability')"
      ]
     },
     "execution_count": 64,
     "metadata": {},
     "output_type": "execute_result"
    },
    {
     "data": {
      "image/png": "[encoded data removed]",
      "text/plain": [
       "<Figure size 432x288 with 1 Axes>"
      ]
     },
     "metadata": {
      "needs_background": "light"
     },
     "output_type": "display_data"
    }
   ],
   "source": [
    "train = train_df[['Pclass', 'Survived']].groupby('Pclass').mean().Survived.plot(kind='bar')\n",
    "train.set_xlabel('Pclass')\n",
    "train.set_ylabel('Survival Probability')"
   ]
  },
  {
   "cell_type": "markdown",
   "metadata": {},
   "source": [
    "*Based on the information we have, we can see that first class has the most survived passengers."
   ]
  },
  {
   "cell_type": "code",
   "execution_count": null,
   "metadata": {},
   "outputs": [],
   "source": []
  }
 ],
 "metadata": {
  "kernelspec": {
   "display_name": "Python 3",
   "language": "python",
   "name": "python3"
  },
  "language_info": {
   "codemirror_mode": {
    "name": "ipython",
    "version": 3
   },
   "file_extension": ".py",
   "mimetype": "text/x-python",
   "name": "python",
   "nbconvert_exporter": "python",
   "pygments_lexer": "ipython3",
   "version": "3.8.5"
  }
 },
 "nbformat": 4,
 "nbformat_minor": 4
}
