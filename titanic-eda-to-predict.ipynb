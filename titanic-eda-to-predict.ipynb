{
 "cells": [
  {
   "cell_type": "code",
   "execution_count": 79,
   "metadata": {
    "_cell_guid": "b1076dfc-b9ad-4769-8c92-a6c4dae69d19",
    "_uuid": "8f2839f25d086af736a60e9eeb907d3b93b6e0e5",
    "execution": {
     "iopub.execute_input": "2020-11-02T21:01:43.725189Z",
     "iopub.status.busy": "2020-11-02T21:01:43.723712Z",
     "iopub.status.idle": "2020-11-02T21:01:43.730413Z",
     "shell.execute_reply": "2020-11-02T21:01:43.729559Z"
    },
    "papermill": {
     "duration": 0.071258,
     "end_time": "2020-11-02T21:01:43.730549",
     "exception": false,
     "start_time": "2020-11-02T21:01:43.659291",
     "status": "completed"
    },
    "tags": []
   },
   "outputs": [],
   "source": [
    "# This Python 3 environment comes with many helpful analytics libraries installed\n",
    "# It is defined by the kaggle/python Docker image: https://github.com/kaggle/docker-python\n",
    "# For example, here's several helpful packages to load\n",
    "\n",
    "import numpy as np # linear algebra\n",
    "import pandas as pd # data processing, CSV file I/O (e.g. pd.read_csv)\n",
    "\n",
    "# Input data files are available in the read-only \"../input/\" directory\n",
    "# For example, running this (by clicking run or pressing Shift+Enter) will list all files under the input directory\n",
    "\n",
    "import os\n",
    "for dirname, _, filenames in os.walk('/kaggle/input'):\n",
    "    for filename in filenames:\n",
    "        print(os.path.join(dirname, filename))\n",
    "\n",
    "# You can write up to 5GB to the current directory (/kaggle/working/) that gets preserved as output when you create a version using \"Save & Run All\" \n",
    "# You can also write temporary files to /kaggle/temp/, but they won't be saved outside of the current session"
   ]
  },
  {
   "cell_type": "markdown",
   "metadata": {
    "_cell_guid": "79c7e3d0-c299-4dcb-8224-4455121ee9b0",
    "_uuid": "d629ff2d2480ee46fbb7e2d37f6b5fab8052498a",
    "papermill": {
     "duration": 0.052425,
     "end_time": "2020-11-02T21:01:43.837009",
     "exception": false,
     "start_time": "2020-11-02T21:01:43.784584",
     "status": "completed"
    },
    "tags": []
   },
   "source": [
    "\n",
    "# Titanic EDA to Predict\n",
    "## Table of Contents\n",
    "<ul>\n",
    "<li><a href=\"#intro\">Introduction</a></li>\n",
    "<li><a href=\"#wrangling\">Data Wrangling</a></li>\n",
    "<li><a href=\"#eda\">Exploratory Data Analysis</a></li>\n",
    "<li><a href=\"ml\">Applying Several ML Algorithms</a></li>\n",
    "<li><a href=\"conclusion\">Conclusion and Final Comments</a></li>\n",
    "\n",
    "</ul>"
   ]
  },
  {
   "cell_type": "markdown",
   "metadata": {
    "papermill": {
     "duration": 0.053462,
     "end_time": "2020-11-02T21:01:43.941978",
     "exception": false,
     "start_time": "2020-11-02T21:01:43.888516",
     "status": "completed"
    },
    "tags": []
   },
   "source": [
    "<a id='intro'></a>\n",
    "## Introduction\n",
    "\n",
    "\n",
    "\n",
    ">The sinking of the Titanic is one of the most infamous shipwrecks in history.\n",
    ">On April 15, 1912, during her maiden voyage, the widely considered “unsinkable” RMS Titanic sank after colliding with an iceberg. Unfortunately, there weren’t enough lifeboats for everyone onboard, resulting in the death of 1502 out of 2224 passengers and crew.\n",
    "\n",
    "> ### Data Dictionary\n",
    "\n",
    ">1. survival = Survival / 0 = No, 1 = Yes\n",
    "2. pclass = Ticket class / 1 = 1st, 2 = 2nd, 3 = 3rd\n",
    "3. sex = Sex \t\n",
    "4. Age = Age in years \t\n",
    "5. sibsp = of siblings / spouses aboard the Titanic \t\n",
    "6. parch = of parents / children aboard the Titanic \t\n",
    "7. ticket = Ticket number \t\n",
    "8. fare = Passenger fare \t\n",
    "9. cabin = Cabin number \t\n",
    "10. embarked = Port of Embarkation / C = Cherbourg, Q = Queenstown, S = Southampton\n",
    "\n",
    "> ### Variable Notes\n",
    "\n",
    ">pclass: A proxy for socio-economic status (SES)\n",
    "/1st = Upper\n",
    "/2nd = Middle\n",
    "/3rd = Lower\n",
    "\n",
    ">age: Age is fractional if less than 1. If the age is estimated, is it in the form of xx.5\n",
    "\n",
    ">sibsp: The dataset defines family relations in this way...\n",
    "/Sibling = brother, sister, stepbrother, stepsister\n",
    "/Spouse = husband, wife (mistresses and fiancés were ignored)\n",
    "\n",
    ">parch: The dataset defines family relations in this way...\n",
    "/Parent = mother, father\n",
    "/Child = daughter, son, stepdaughter, stepson\n",
    "/Some children travelled only with a nanny, therefore parch=0 for them.\n"
   ]
  },
  {
   "cell_type": "markdown",
   "metadata": {
    "papermill": {
     "duration": 0.051506,
     "end_time": "2020-11-02T21:01:44.045644",
     "exception": false,
     "start_time": "2020-11-02T21:01:43.994138",
     "status": "completed"
    },
    "tags": []
   },
   "source": [
    "### Which questions will we find answers in the Exploratory Data Analysis section?\n",
    "\n",
    "> 1. What is the number of survivors and non-survivors among those who boarded from which port by gender and in what class?\n",
    ">\n",
    "> 2. What are the Passengers' survival percentages by class and gender?\n",
    ">\n",
    "> 3. What are the number  of survived/drowned passengers  by age and gender?\n",
    ">\n",
    "> 4. What are the Passengers' survival/drowned distribution for passengers with parents / children on board?\n",
    "> \n",
    "> 5. What is the proportion of survivors and non-survivors among siblings and spouse(except mistresses and fiancés )?\n",
    ">\n"
   ]
  },
  {
   "cell_type": "markdown",
   "metadata": {
    "papermill": {
     "duration": 0.055103,
     "end_time": "2020-11-02T21:01:44.152562",
     "exception": false,
     "start_time": "2020-11-02T21:01:44.097459",
     "status": "completed"
    },
    "tags": []
   },
   "source": [
    "<a id='wrangling'></a>\n",
    "## Data Wrangling\n",
    "\n",
    "> After uploading the data, We will perform the clearing, deleting, editing and explore operations in this section in order to get it ready for analysis. Therefore, We need some important libraries which are has been imported at below."
   ]
  },
  {
   "cell_type": "code",
   "execution_count": 80,
   "metadata": {
    "execution": {
     "iopub.execute_input": "2020-11-02T21:01:44.266270Z",
     "iopub.status.busy": "2020-11-02T21:01:44.265179Z",
     "iopub.status.idle": "2020-11-02T21:01:45.810368Z",
     "shell.execute_reply": "2020-11-02T21:01:45.809725Z"
    },
    "papermill": {
     "duration": 1.607048,
     "end_time": "2020-11-02T21:01:45.810529",
     "exception": false,
     "start_time": "2020-11-02T21:01:44.203481",
     "status": "completed"
    },
    "tags": []
   },
   "outputs": [],
   "source": [
    "import pandas as pd\n",
    "import numpy as np\n",
    "import seaborn as sns\n",
    "from matplotlib import pyplot as plt\n",
    "import missingno as msno\n",
    "from sklearn.neighbors import KNeighborsClassifier\n",
    "from sklearn.linear_model import LogisticRegression\n",
    "from sklearn.discriminant_analysis import LinearDiscriminantAnalysis\n",
    "from sklearn.model_selection import train_test_split\n",
    "from sklearn.preprocessing import StandardScaler\n",
    "import math\n",
    "from scipy import interpolate\n",
    "from sklearn.tree import DecisionTreeClassifier\n",
    "from sklearn.tree import export_graphviz\n",
    "import graphviz"
   ]
  },
  {
   "cell_type": "code",
   "execution_count": 3,
   "metadata": {
    "execution": {
     "iopub.execute_input": "2020-11-02T21:01:45.923751Z",
     "iopub.status.busy": "2020-11-02T21:01:45.922711Z",
     "iopub.status.idle": "2020-11-02T21:01:45.938008Z",
     "shell.execute_reply": "2020-11-02T21:01:45.937394Z"
    },
    "papermill": {
     "duration": 0.07697,
     "end_time": "2020-11-02T21:01:45.938209",
     "exception": false,
     "start_time": "2020-11-02T21:01:45.861239",
     "status": "completed"
    },
    "tags": []
   },
   "outputs": [],
   "source": [
    "train_df = pd.read_csv(\"train.csv\")"
   ]
  },
  {
   "cell_type": "code",
   "execution_count": 4,
   "metadata": {
    "execution": {
     "iopub.execute_input": "2020-11-02T21:01:46.073488Z",
     "iopub.status.busy": "2020-11-02T21:01:46.062635Z",
     "iopub.status.idle": "2020-11-02T21:01:46.085007Z",
     "shell.execute_reply": "2020-11-02T21:01:46.085489Z"
    },
    "papermill": {
     "duration": 0.090046,
     "end_time": "2020-11-02T21:01:46.085652",
     "exception": false,
     "start_time": "2020-11-02T21:01:45.995606",
     "status": "completed"
    },
    "tags": []
   },
   "outputs": [
    {
     "data": {
      "text/html": [
       "<div>\n",
       "<style scoped>\n",
       "    .dataframe tbody tr th:only-of-type {\n",
       "        vertical-align: middle;\n",
       "    }\n",
       "\n",
       "    .dataframe tbody tr th {\n",
       "        vertical-align: top;\n",
       "    }\n",
       "\n",
       "    .dataframe thead th {\n",
       "        text-align: right;\n",
       "    }\n",
       "</style>\n",
       "<table border=\"1\" class=\"dataframe\">\n",
       "  <thead>\n",
       "    <tr style=\"text-align: right;\">\n",
       "      <th></th>\n",
       "      <th>PassengerId</th>\n",
       "      <th>Survived</th>\n",
       "      <th>Pclass</th>\n",
       "      <th>Name</th>\n",
       "      <th>Sex</th>\n",
       "      <th>Age</th>\n",
       "      <th>SibSp</th>\n",
       "      <th>Parch</th>\n",
       "      <th>Ticket</th>\n",
       "      <th>Fare</th>\n",
       "      <th>Cabin</th>\n",
       "      <th>Embarked</th>\n",
       "    </tr>\n",
       "  </thead>\n",
       "  <tbody>\n",
       "    <tr>\n",
       "      <th>0</th>\n",
       "      <td>1</td>\n",
       "      <td>0</td>\n",
       "      <td>3</td>\n",
       "      <td>Braund, Mr. Owen Harris</td>\n",
       "      <td>male</td>\n",
       "      <td>22.0</td>\n",
       "      <td>1</td>\n",
       "      <td>0</td>\n",
       "      <td>A/5 21171</td>\n",
       "      <td>7.2500</td>\n",
       "      <td>NaN</td>\n",
       "      <td>S</td>\n",
       "    </tr>\n",
       "    <tr>\n",
       "      <th>1</th>\n",
       "      <td>2</td>\n",
       "      <td>1</td>\n",
       "      <td>1</td>\n",
       "      <td>Cumings, Mrs. John Bradley (Florence Briggs Th...</td>\n",
       "      <td>female</td>\n",
       "      <td>38.0</td>\n",
       "      <td>1</td>\n",
       "      <td>0</td>\n",
       "      <td>PC 17599</td>\n",
       "      <td>71.2833</td>\n",
       "      <td>C85</td>\n",
       "      <td>C</td>\n",
       "    </tr>\n",
       "    <tr>\n",
       "      <th>2</th>\n",
       "      <td>3</td>\n",
       "      <td>1</td>\n",
       "      <td>3</td>\n",
       "      <td>Heikkinen, Miss. Laina</td>\n",
       "      <td>female</td>\n",
       "      <td>26.0</td>\n",
       "      <td>0</td>\n",
       "      <td>0</td>\n",
       "      <td>STON/O2. 3101282</td>\n",
       "      <td>7.9250</td>\n",
       "      <td>NaN</td>\n",
       "      <td>S</td>\n",
       "    </tr>\n",
       "    <tr>\n",
       "      <th>3</th>\n",
       "      <td>4</td>\n",
       "      <td>1</td>\n",
       "      <td>1</td>\n",
       "      <td>Futrelle, Mrs. Jacques Heath (Lily May Peel)</td>\n",
       "      <td>female</td>\n",
       "      <td>35.0</td>\n",
       "      <td>1</td>\n",
       "      <td>0</td>\n",
       "      <td>113803</td>\n",
       "      <td>53.1000</td>\n",
       "      <td>C123</td>\n",
       "      <td>S</td>\n",
       "    </tr>\n",
       "    <tr>\n",
       "      <th>4</th>\n",
       "      <td>5</td>\n",
       "      <td>0</td>\n",
       "      <td>3</td>\n",
       "      <td>Allen, Mr. William Henry</td>\n",
       "      <td>male</td>\n",
       "      <td>35.0</td>\n",
       "      <td>0</td>\n",
       "      <td>0</td>\n",
       "      <td>373450</td>\n",
       "      <td>8.0500</td>\n",
       "      <td>NaN</td>\n",
       "      <td>S</td>\n",
       "    </tr>\n",
       "  </tbody>\n",
       "</table>\n",
       "</div>"
      ],
      "text/plain": [
       "   PassengerId  Survived  Pclass  \\\n",
       "0            1         0       3   \n",
       "1            2         1       1   \n",
       "2            3         1       3   \n",
       "3            4         1       1   \n",
       "4            5         0       3   \n",
       "\n",
       "                                                Name     Sex   Age  SibSp  \\\n",
       "0                            Braund, Mr. Owen Harris    male  22.0      1   \n",
       "1  Cumings, Mrs. John Bradley (Florence Briggs Th...  female  38.0      1   \n",
       "2                             Heikkinen, Miss. Laina  female  26.0      0   \n",
       "3       Futrelle, Mrs. Jacques Heath (Lily May Peel)  female  35.0      1   \n",
       "4                           Allen, Mr. William Henry    male  35.0      0   \n",
       "\n",
       "   Parch            Ticket     Fare Cabin Embarked  \n",
       "0      0         A/5 21171   7.2500   NaN        S  \n",
       "1      0          PC 17599  71.2833   C85        C  \n",
       "2      0  STON/O2. 3101282   7.9250   NaN        S  \n",
       "3      0            113803  53.1000  C123        S  \n",
       "4      0            373450   8.0500   NaN        S  "
      ]
     },
     "execution_count": 4,
     "metadata": {},
     "output_type": "execute_result"
    }
   ],
   "source": [
    "# take look our data frame\n",
    "train_df.head()"
   ]
  },
  {
   "cell_type": "code",
   "execution_count": 5,
   "metadata": {
    "execution": {
     "iopub.execute_input": "2020-11-02T21:01:46.211874Z",
     "iopub.status.busy": "2020-11-02T21:01:46.210923Z",
     "iopub.status.idle": "2020-11-02T21:01:46.217268Z",
     "shell.execute_reply": "2020-11-02T21:01:46.216604Z"
    },
    "papermill": {
     "duration": 0.078779,
     "end_time": "2020-11-02T21:01:46.217401",
     "exception": false,
     "start_time": "2020-11-02T21:01:46.138622",
     "status": "completed"
    },
    "tags": []
   },
   "outputs": [
    {
     "data": {
      "text/html": [
       "<div>\n",
       "<style scoped>\n",
       "    .dataframe tbody tr th:only-of-type {\n",
       "        vertical-align: middle;\n",
       "    }\n",
       "\n",
       "    .dataframe tbody tr th {\n",
       "        vertical-align: top;\n",
       "    }\n",
       "\n",
       "    .dataframe thead th {\n",
       "        text-align: right;\n",
       "    }\n",
       "</style>\n",
       "<table border=\"1\" class=\"dataframe\">\n",
       "  <thead>\n",
       "    <tr style=\"text-align: right;\">\n",
       "      <th></th>\n",
       "      <th>PassengerId</th>\n",
       "      <th>Survived</th>\n",
       "      <th>Pclass</th>\n",
       "      <th>Name</th>\n",
       "      <th>Sex</th>\n",
       "      <th>Age</th>\n",
       "      <th>SibSp</th>\n",
       "      <th>Parch</th>\n",
       "      <th>Ticket</th>\n",
       "      <th>Fare</th>\n",
       "      <th>Cabin</th>\n",
       "      <th>Embarked</th>\n",
       "    </tr>\n",
       "  </thead>\n",
       "  <tbody>\n",
       "    <tr>\n",
       "      <th>886</th>\n",
       "      <td>887</td>\n",
       "      <td>0</td>\n",
       "      <td>2</td>\n",
       "      <td>Montvila, Rev. Juozas</td>\n",
       "      <td>male</td>\n",
       "      <td>27.0</td>\n",
       "      <td>0</td>\n",
       "      <td>0</td>\n",
       "      <td>211536</td>\n",
       "      <td>13.00</td>\n",
       "      <td>NaN</td>\n",
       "      <td>S</td>\n",
       "    </tr>\n",
       "    <tr>\n",
       "      <th>887</th>\n",
       "      <td>888</td>\n",
       "      <td>1</td>\n",
       "      <td>1</td>\n",
       "      <td>Graham, Miss. Margaret Edith</td>\n",
       "      <td>female</td>\n",
       "      <td>19.0</td>\n",
       "      <td>0</td>\n",
       "      <td>0</td>\n",
       "      <td>112053</td>\n",
       "      <td>30.00</td>\n",
       "      <td>B42</td>\n",
       "      <td>S</td>\n",
       "    </tr>\n",
       "    <tr>\n",
       "      <th>888</th>\n",
       "      <td>889</td>\n",
       "      <td>0</td>\n",
       "      <td>3</td>\n",
       "      <td>Johnston, Miss. Catherine Helen \"Carrie\"</td>\n",
       "      <td>female</td>\n",
       "      <td>NaN</td>\n",
       "      <td>1</td>\n",
       "      <td>2</td>\n",
       "      <td>W./C. 6607</td>\n",
       "      <td>23.45</td>\n",
       "      <td>NaN</td>\n",
       "      <td>S</td>\n",
       "    </tr>\n",
       "    <tr>\n",
       "      <th>889</th>\n",
       "      <td>890</td>\n",
       "      <td>1</td>\n",
       "      <td>1</td>\n",
       "      <td>Behr, Mr. Karl Howell</td>\n",
       "      <td>male</td>\n",
       "      <td>26.0</td>\n",
       "      <td>0</td>\n",
       "      <td>0</td>\n",
       "      <td>111369</td>\n",
       "      <td>30.00</td>\n",
       "      <td>C148</td>\n",
       "      <td>C</td>\n",
       "    </tr>\n",
       "    <tr>\n",
       "      <th>890</th>\n",
       "      <td>891</td>\n",
       "      <td>0</td>\n",
       "      <td>3</td>\n",
       "      <td>Dooley, Mr. Patrick</td>\n",
       "      <td>male</td>\n",
       "      <td>32.0</td>\n",
       "      <td>0</td>\n",
       "      <td>0</td>\n",
       "      <td>370376</td>\n",
       "      <td>7.75</td>\n",
       "      <td>NaN</td>\n",
       "      <td>Q</td>\n",
       "    </tr>\n",
       "  </tbody>\n",
       "</table>\n",
       "</div>"
      ],
      "text/plain": [
       "     PassengerId  Survived  Pclass                                      Name  \\\n",
       "886          887         0       2                     Montvila, Rev. Juozas   \n",
       "887          888         1       1              Graham, Miss. Margaret Edith   \n",
       "888          889         0       3  Johnston, Miss. Catherine Helen \"Carrie\"   \n",
       "889          890         1       1                     Behr, Mr. Karl Howell   \n",
       "890          891         0       3                       Dooley, Mr. Patrick   \n",
       "\n",
       "        Sex   Age  SibSp  Parch      Ticket   Fare Cabin Embarked  \n",
       "886    male  27.0      0      0      211536  13.00   NaN        S  \n",
       "887  female  19.0      0      0      112053  30.00   B42        S  \n",
       "888  female   NaN      1      2  W./C. 6607  23.45   NaN        S  \n",
       "889    male  26.0      0      0      111369  30.00  C148        C  \n",
       "890    male  32.0      0      0      370376   7.75   NaN        Q  "
      ]
     },
     "execution_count": 5,
     "metadata": {},
     "output_type": "execute_result"
    }
   ],
   "source": [
    "# let's look from bottom\n",
    "train_df.tail()"
   ]
  },
  {
   "cell_type": "code",
   "execution_count": 6,
   "metadata": {
    "execution": {
     "iopub.execute_input": "2020-11-02T21:01:46.335156Z",
     "iopub.status.busy": "2020-11-02T21:01:46.332964Z",
     "iopub.status.idle": "2020-11-02T21:01:46.337477Z",
     "shell.execute_reply": "2020-11-02T21:01:46.337972Z"
    },
    "papermill": {
     "duration": 0.065738,
     "end_time": "2020-11-02T21:01:46.338143",
     "exception": false,
     "start_time": "2020-11-02T21:01:46.272405",
     "status": "completed"
    },
    "tags": []
   },
   "outputs": [
    {
     "data": {
      "text/plain": [
       "PassengerId      int64\n",
       "Survived         int64\n",
       "Pclass           int64\n",
       "Name            object\n",
       "Sex             object\n",
       "Age            float64\n",
       "SibSp            int64\n",
       "Parch            int64\n",
       "Ticket          object\n",
       "Fare           float64\n",
       "Cabin           object\n",
       "Embarked        object\n",
       "dtype: object"
      ]
     },
     "execution_count": 6,
     "metadata": {},
     "output_type": "execute_result"
    }
   ],
   "source": [
    "#Check data type\n",
    "train_df.dtypes"
   ]
  },
  {
   "cell_type": "code",
   "execution_count": 7,
   "metadata": {
    "execution": {
     "iopub.execute_input": "2020-11-02T21:01:46.458658Z",
     "iopub.status.busy": "2020-11-02T21:01:46.457899Z",
     "iopub.status.idle": "2020-11-02T21:01:47.288177Z",
     "shell.execute_reply": "2020-11-02T21:01:47.287432Z"
    },
    "papermill": {
     "duration": 0.892014,
     "end_time": "2020-11-02T21:01:47.288308",
     "exception": false,
     "start_time": "2020-11-02T21:01:46.396294",
     "status": "completed"
    },
    "tags": []
   },
   "outputs": [
    {
     "data": {
      "text/plain": [
       "<AxesSubplot:>"
      ]
     },
     "execution_count": 7,
     "metadata": {},
     "output_type": "execute_result"
    },
    {
     "data": {
      "image/png": "[encoded data removed]",
      "text/plain": [
       "<Figure size 720x360 with 3 Axes>"
      ]
     },
     "metadata": {
      "needs_background": "light"
     },
     "output_type": "display_data"
    }
   ],
   "source": [
    "msno.bar(train_df,color=\"dodgerblue\", sort=\"ascending\", figsize=(10,5), fontsize=12)"
   ]
  },
  {
   "cell_type": "code",
   "execution_count": 8,
   "metadata": {
    "execution": {
     "iopub.execute_input": "2020-11-02T21:01:47.425705Z",
     "iopub.status.busy": "2020-11-02T21:01:47.424572Z",
     "iopub.status.idle": "2020-11-02T21:01:47.428680Z",
     "shell.execute_reply": "2020-11-02T21:01:47.429195Z"
    },
    "papermill": {
     "duration": 0.079065,
     "end_time": "2020-11-02T21:01:47.429384",
     "exception": false,
     "start_time": "2020-11-02T21:01:47.350319",
     "status": "completed"
    },
    "tags": []
   },
   "outputs": [
    {
     "data": {
      "text/plain": [
       "PassengerId      0\n",
       "Survived         0\n",
       "Pclass           0\n",
       "Name             0\n",
       "Sex              0\n",
       "Age            177\n",
       "SibSp            0\n",
       "Parch            0\n",
       "Ticket           0\n",
       "Fare             0\n",
       "Cabin          687\n",
       "Embarked         2\n",
       "dtype: int64"
      ]
     },
     "execution_count": 8,
     "metadata": {},
     "output_type": "execute_result"
    }
   ],
   "source": [
    "#let's look at list if sum of null values\n",
    "train_df.isnull().sum()"
   ]
  },
  {
   "cell_type": "code",
   "execution_count": 9,
   "metadata": {
    "execution": {
     "iopub.execute_input": "2020-11-02T21:01:47.564411Z",
     "iopub.status.busy": "2020-11-02T21:01:47.563560Z",
     "iopub.status.idle": "2020-11-02T21:01:47.980324Z",
     "shell.execute_reply": "2020-11-02T21:01:47.979626Z"
    },
    "papermill": {
     "duration": 0.487406,
     "end_time": "2020-11-02T21:01:47.980456",
     "exception": false,
     "start_time": "2020-11-02T21:01:47.493050",
     "status": "completed"
    },
    "tags": []
   },
   "outputs": [
    {
     "data": {
      "text/plain": [
       "<AxesSubplot:>"
      ]
     },
     "execution_count": 9,
     "metadata": {},
     "output_type": "execute_result"
    },
    {
     "data": {
      "image/png": "[encoded data removed]",
      "text/plain": [
       "<Figure size 1800x720 with 2 Axes>"
      ]
     },
     "metadata": {
      "needs_background": "light"
     },
     "output_type": "display_data"
    }
   ],
   "source": [
    "# we can look at our missing value with matris that is provide us to understand those missing values are rondom or not\n",
    "msno.matrix(train_df)\n"
   ]
  },
  {
   "cell_type": "code",
   "execution_count": 10,
   "metadata": {
    "execution": {
     "iopub.execute_input": "2020-11-02T21:01:48.135702Z",
     "iopub.status.busy": "2020-11-02T21:01:48.134774Z",
     "iopub.status.idle": "2020-11-02T21:01:48.139710Z",
     "shell.execute_reply": "2020-11-02T21:01:48.139012Z"
    },
    "papermill": {
     "duration": 0.091632,
     "end_time": "2020-11-02T21:01:48.139841",
     "exception": false,
     "start_time": "2020-11-02T21:01:48.048209",
     "status": "completed"
    },
    "tags": []
   },
   "outputs": [
    {
     "data": {
      "text/html": [
       "<div>\n",
       "<style scoped>\n",
       "    .dataframe tbody tr th:only-of-type {\n",
       "        vertical-align: middle;\n",
       "    }\n",
       "\n",
       "    .dataframe tbody tr th {\n",
       "        vertical-align: top;\n",
       "    }\n",
       "\n",
       "    .dataframe thead th {\n",
       "        text-align: right;\n",
       "    }\n",
       "</style>\n",
       "<table border=\"1\" class=\"dataframe\">\n",
       "  <thead>\n",
       "    <tr style=\"text-align: right;\">\n",
       "      <th></th>\n",
       "      <th>PassengerId</th>\n",
       "      <th>Survived</th>\n",
       "      <th>Pclass</th>\n",
       "      <th>Name</th>\n",
       "      <th>Sex</th>\n",
       "      <th>Age</th>\n",
       "      <th>SibSp</th>\n",
       "      <th>Parch</th>\n",
       "      <th>Ticket</th>\n",
       "      <th>Fare</th>\n",
       "      <th>Cabin</th>\n",
       "      <th>Embarked</th>\n",
       "    </tr>\n",
       "  </thead>\n",
       "  <tbody>\n",
       "    <tr>\n",
       "      <th>0</th>\n",
       "      <td>1</td>\n",
       "      <td>0</td>\n",
       "      <td>3</td>\n",
       "      <td>Braund, Mr. Owen Harris</td>\n",
       "      <td>0</td>\n",
       "      <td>22.0</td>\n",
       "      <td>1</td>\n",
       "      <td>0</td>\n",
       "      <td>A/5 21171</td>\n",
       "      <td>7.2500</td>\n",
       "      <td>NaN</td>\n",
       "      <td>S</td>\n",
       "    </tr>\n",
       "    <tr>\n",
       "      <th>1</th>\n",
       "      <td>2</td>\n",
       "      <td>1</td>\n",
       "      <td>1</td>\n",
       "      <td>Cumings, Mrs. John Bradley (Florence Briggs Th...</td>\n",
       "      <td>1</td>\n",
       "      <td>38.0</td>\n",
       "      <td>1</td>\n",
       "      <td>0</td>\n",
       "      <td>PC 17599</td>\n",
       "      <td>71.2833</td>\n",
       "      <td>C85</td>\n",
       "      <td>C</td>\n",
       "    </tr>\n",
       "    <tr>\n",
       "      <th>2</th>\n",
       "      <td>3</td>\n",
       "      <td>1</td>\n",
       "      <td>3</td>\n",
       "      <td>Heikkinen, Miss. Laina</td>\n",
       "      <td>1</td>\n",
       "      <td>26.0</td>\n",
       "      <td>0</td>\n",
       "      <td>0</td>\n",
       "      <td>STON/O2. 3101282</td>\n",
       "      <td>7.9250</td>\n",
       "      <td>NaN</td>\n",
       "      <td>S</td>\n",
       "    </tr>\n",
       "    <tr>\n",
       "      <th>3</th>\n",
       "      <td>4</td>\n",
       "      <td>1</td>\n",
       "      <td>1</td>\n",
       "      <td>Futrelle, Mrs. Jacques Heath (Lily May Peel)</td>\n",
       "      <td>1</td>\n",
       "      <td>35.0</td>\n",
       "      <td>1</td>\n",
       "      <td>0</td>\n",
       "      <td>113803</td>\n",
       "      <td>53.1000</td>\n",
       "      <td>C123</td>\n",
       "      <td>S</td>\n",
       "    </tr>\n",
       "    <tr>\n",
       "      <th>4</th>\n",
       "      <td>5</td>\n",
       "      <td>0</td>\n",
       "      <td>3</td>\n",
       "      <td>Allen, Mr. William Henry</td>\n",
       "      <td>0</td>\n",
       "      <td>35.0</td>\n",
       "      <td>0</td>\n",
       "      <td>0</td>\n",
       "      <td>373450</td>\n",
       "      <td>8.0500</td>\n",
       "      <td>NaN</td>\n",
       "      <td>S</td>\n",
       "    </tr>\n",
       "  </tbody>\n",
       "</table>\n",
       "</div>"
      ],
      "text/plain": [
       "   PassengerId  Survived  Pclass  \\\n",
       "0            1         0       3   \n",
       "1            2         1       1   \n",
       "2            3         1       3   \n",
       "3            4         1       1   \n",
       "4            5         0       3   \n",
       "\n",
       "                                                Name  Sex   Age  SibSp  Parch  \\\n",
       "0                            Braund, Mr. Owen Harris    0  22.0      1      0   \n",
       "1  Cumings, Mrs. John Bradley (Florence Briggs Th...    1  38.0      1      0   \n",
       "2                             Heikkinen, Miss. Laina    1  26.0      0      0   \n",
       "3       Futrelle, Mrs. Jacques Heath (Lily May Peel)    1  35.0      1      0   \n",
       "4                           Allen, Mr. William Henry    0  35.0      0      0   \n",
       "\n",
       "             Ticket     Fare Cabin Embarked  \n",
       "0         A/5 21171   7.2500   NaN        S  \n",
       "1          PC 17599  71.2833   C85        C  \n",
       "2  STON/O2. 3101282   7.9250   NaN        S  \n",
       "3            113803  53.1000  C123        S  \n",
       "4            373450   8.0500   NaN        S  "
      ]
     },
     "execution_count": 10,
     "metadata": {},
     "output_type": "execute_result"
    }
   ],
   "source": [
    "# Before the look correlations for missing values we should convert the a few columns that are not numerical and might have more corretion with missings.\n",
    "\n",
    "train_df['Sex'] = train_df['Sex'].map( {'female': 1, 'male': 0} ).astype(int)\n",
    "\n",
    "\n",
    "train_df.head()\n",
    "\n"
   ]
  },
  {
   "cell_type": "code",
   "execution_count": 11,
   "metadata": {
    "execution": {
     "iopub.execute_input": "2020-11-02T21:01:48.275842Z",
     "iopub.status.busy": "2020-11-02T21:01:48.274937Z",
     "iopub.status.idle": "2020-11-02T21:01:48.296478Z",
     "shell.execute_reply": "2020-11-02T21:01:48.297245Z"
    },
    "papermill": {
     "duration": 0.091981,
     "end_time": "2020-11-02T21:01:48.297485",
     "exception": false,
     "start_time": "2020-11-02T21:01:48.205504",
     "status": "completed"
    },
    "tags": []
   },
   "outputs": [
    {
     "data": {
      "text/html": [
       "<div>\n",
       "<style scoped>\n",
       "    .dataframe tbody tr th:only-of-type {\n",
       "        vertical-align: middle;\n",
       "    }\n",
       "\n",
       "    .dataframe tbody tr th {\n",
       "        vertical-align: top;\n",
       "    }\n",
       "\n",
       "    .dataframe thead th {\n",
       "        text-align: right;\n",
       "    }\n",
       "</style>\n",
       "<table border=\"1\" class=\"dataframe\">\n",
       "  <thead>\n",
       "    <tr style=\"text-align: right;\">\n",
       "      <th></th>\n",
       "      <th>PassengerId</th>\n",
       "      <th>Survived</th>\n",
       "      <th>Pclass</th>\n",
       "      <th>Sex</th>\n",
       "      <th>Age</th>\n",
       "      <th>SibSp</th>\n",
       "      <th>Parch</th>\n",
       "      <th>Fare</th>\n",
       "    </tr>\n",
       "  </thead>\n",
       "  <tbody>\n",
       "    <tr>\n",
       "      <th>PassengerId</th>\n",
       "      <td>1.000000</td>\n",
       "      <td>-0.005007</td>\n",
       "      <td>-0.035144</td>\n",
       "      <td>-0.042939</td>\n",
       "      <td>0.036847</td>\n",
       "      <td>-0.057527</td>\n",
       "      <td>-0.001652</td>\n",
       "      <td>0.012658</td>\n",
       "    </tr>\n",
       "    <tr>\n",
       "      <th>Survived</th>\n",
       "      <td>-0.005007</td>\n",
       "      <td>1.000000</td>\n",
       "      <td>-0.338481</td>\n",
       "      <td>0.543351</td>\n",
       "      <td>-0.077221</td>\n",
       "      <td>-0.035322</td>\n",
       "      <td>0.081629</td>\n",
       "      <td>0.257307</td>\n",
       "    </tr>\n",
       "    <tr>\n",
       "      <th>Pclass</th>\n",
       "      <td>-0.035144</td>\n",
       "      <td>-0.338481</td>\n",
       "      <td>1.000000</td>\n",
       "      <td>-0.131900</td>\n",
       "      <td>-0.369226</td>\n",
       "      <td>0.083081</td>\n",
       "      <td>0.018443</td>\n",
       "      <td>-0.549500</td>\n",
       "    </tr>\n",
       "    <tr>\n",
       "      <th>Sex</th>\n",
       "      <td>-0.042939</td>\n",
       "      <td>0.543351</td>\n",
       "      <td>-0.131900</td>\n",
       "      <td>1.000000</td>\n",
       "      <td>-0.093254</td>\n",
       "      <td>0.114631</td>\n",
       "      <td>0.245489</td>\n",
       "      <td>0.182333</td>\n",
       "    </tr>\n",
       "    <tr>\n",
       "      <th>Age</th>\n",
       "      <td>0.036847</td>\n",
       "      <td>-0.077221</td>\n",
       "      <td>-0.369226</td>\n",
       "      <td>-0.093254</td>\n",
       "      <td>1.000000</td>\n",
       "      <td>-0.308247</td>\n",
       "      <td>-0.189119</td>\n",
       "      <td>0.096067</td>\n",
       "    </tr>\n",
       "    <tr>\n",
       "      <th>SibSp</th>\n",
       "      <td>-0.057527</td>\n",
       "      <td>-0.035322</td>\n",
       "      <td>0.083081</td>\n",
       "      <td>0.114631</td>\n",
       "      <td>-0.308247</td>\n",
       "      <td>1.000000</td>\n",
       "      <td>0.414838</td>\n",
       "      <td>0.159651</td>\n",
       "    </tr>\n",
       "    <tr>\n",
       "      <th>Parch</th>\n",
       "      <td>-0.001652</td>\n",
       "      <td>0.081629</td>\n",
       "      <td>0.018443</td>\n",
       "      <td>0.245489</td>\n",
       "      <td>-0.189119</td>\n",
       "      <td>0.414838</td>\n",
       "      <td>1.000000</td>\n",
       "      <td>0.216225</td>\n",
       "    </tr>\n",
       "    <tr>\n",
       "      <th>Fare</th>\n",
       "      <td>0.012658</td>\n",
       "      <td>0.257307</td>\n",
       "      <td>-0.549500</td>\n",
       "      <td>0.182333</td>\n",
       "      <td>0.096067</td>\n",
       "      <td>0.159651</td>\n",
       "      <td>0.216225</td>\n",
       "      <td>1.000000</td>\n",
       "    </tr>\n",
       "  </tbody>\n",
       "</table>\n",
       "</div>"
      ],
      "text/plain": [
       "             PassengerId  Survived    Pclass       Sex       Age     SibSp  \\\n",
       "PassengerId     1.000000 -0.005007 -0.035144 -0.042939  0.036847 -0.057527   \n",
       "Survived       -0.005007  1.000000 -0.338481  0.543351 -0.077221 -0.035322   \n",
       "Pclass         -0.035144 -0.338481  1.000000 -0.131900 -0.369226  0.083081   \n",
       "Sex            -0.042939  0.543351 -0.131900  1.000000 -0.093254  0.114631   \n",
       "Age             0.036847 -0.077221 -0.369226 -0.093254  1.000000 -0.308247   \n",
       "SibSp          -0.057527 -0.035322  0.083081  0.114631 -0.308247  1.000000   \n",
       "Parch          -0.001652  0.081629  0.018443  0.245489 -0.189119  0.414838   \n",
       "Fare            0.012658  0.257307 -0.549500  0.182333  0.096067  0.159651   \n",
       "\n",
       "                Parch      Fare  \n",
       "PassengerId -0.001652  0.012658  \n",
       "Survived     0.081629  0.257307  \n",
       "Pclass       0.018443 -0.549500  \n",
       "Sex          0.245489  0.182333  \n",
       "Age         -0.189119  0.096067  \n",
       "SibSp        0.414838  0.159651  \n",
       "Parch        1.000000  0.216225  \n",
       "Fare         0.216225  1.000000  "
      ]
     },
     "execution_count": 11,
     "metadata": {},
     "output_type": "execute_result"
    }
   ],
   "source": [
    "#Let's look at correlation between ages.\n",
    "train_df.corr()"
   ]
  },
  {
   "cell_type": "markdown",
   "metadata": {
    "papermill": {
     "duration": 0.063917,
     "end_time": "2020-11-02T21:01:48.424768",
     "exception": false,
     "start_time": "2020-11-02T21:01:48.360851",
     "status": "completed"
    },
    "tags": []
   },
   "source": [
    "### Final Decide for Missing Values\n",
    "#### Embarked :\n",
    "> We found two approach for handle the missing values.\n",
    ">\n",
    "> First, that is total MCAR(Missing completely at random) we can delete that rows for just when we are analyze with embarked.\n",
    ">\n",
    "> Second, Looking at the two missing values for 'Embarked', we can see that the passengers traveled together, as they have the same ticket number. We then look at the price they have paid for the ticket and compare it with a range of passengers who paid a similar fee and traveled in the same class. From those passengers, we calculate the mode and use this value as our two missing Embarked values.\n",
    "#### Age : \n",
    "> This could be a case of MAR(Missing at random) as we cannot directly observe the reason for missingness of data in these columns. We should fill them. There are various approach to fill it. We will figure out this missing values with find median of combination with columns(Gender and Class) which have more correlation between age column.\n",
    "#### Cabin : \n",
    ">There are a lot of missing in this column we are not going to use in our analyze therefore,we can drop that column.\n"
   ]
  },
  {
   "cell_type": "code",
   "execution_count": 12,
   "metadata": {
    "execution": {
     "iopub.execute_input": "2020-11-02T21:01:48.567448Z",
     "iopub.status.busy": "2020-11-02T21:01:48.561950Z",
     "iopub.status.idle": "2020-11-02T21:01:48.574662Z",
     "shell.execute_reply": "2020-11-02T21:01:48.573556Z"
    },
    "papermill": {
     "duration": 0.085374,
     "end_time": "2020-11-02T21:01:48.574849",
     "exception": false,
     "start_time": "2020-11-02T21:01:48.489475",
     "status": "completed"
    },
    "tags": []
   },
   "outputs": [],
   "source": [
    "# Filling of Embarked Column\n",
    "train_df[train_df['Embarked'].isna()] #Passengers travelling together\n",
    "\n",
    "sub_embarked = train_df[(train_df['Fare'] > 79) & (train_df['Fare'] < 81) & (train_df['Pclass'] == 1)]\n",
    "fill_mode = sub_embarked[\"Embarked\"].mode()[0]\n",
    "\n",
    "\n",
    "train_df = train_df.fillna({'Embarked': fill_mode})"
   ]
  },
  {
   "cell_type": "code",
   "execution_count": 13,
   "metadata": {
    "execution": {
     "iopub.execute_input": "2020-11-02T21:01:48.714277Z",
     "iopub.status.busy": "2020-11-02T21:01:48.713220Z",
     "iopub.status.idle": "2020-11-02T21:01:48.718003Z",
     "shell.execute_reply": "2020-11-02T21:01:48.716100Z"
    },
    "papermill": {
     "duration": 0.078846,
     "end_time": "2020-11-02T21:01:48.718221",
     "exception": false,
     "start_time": "2020-11-02T21:01:48.639375",
     "status": "completed"
    },
    "tags": []
   },
   "outputs": [],
   "source": [
    "# Drop cabin column\n",
    "train_df = train_df.drop(['Cabin'], axis=1)\n",
    "# Also we can drop ticket column now because we will not use future analyza and predict.\n",
    "train_df = train_df.drop([\"Ticket\"], axis=1)"
   ]
  },
  {
   "cell_type": "code",
   "execution_count": 14,
   "metadata": {
    "execution": {
     "iopub.execute_input": "2020-11-02T21:01:48.850419Z",
     "iopub.status.busy": "2020-11-02T21:01:48.849580Z",
     "iopub.status.idle": "2020-11-02T21:01:48.858631Z",
     "shell.execute_reply": "2020-11-02T21:01:48.857717Z"
    },
    "papermill": {
     "duration": 0.077781,
     "end_time": "2020-11-02T21:01:48.859159",
     "exception": false,
     "start_time": "2020-11-02T21:01:48.781378",
     "status": "completed"
    },
    "tags": []
   },
   "outputs": [
    {
     "data": {
      "text/plain": [
       "array([[0., 0., 0.],\n",
       "       [0., 0., 0.]])"
      ]
     },
     "execution_count": 14,
     "metadata": {},
     "output_type": "execute_result"
    }
   ],
   "source": [
    "# Let's create one matrix for guess based on Sex and Pclass column.\n",
    "ags = np.zeros((2,3))\n",
    "ags"
   ]
  },
  {
   "cell_type": "code",
   "execution_count": 15,
   "metadata": {
    "execution": {
     "iopub.execute_input": "2020-11-02T21:01:49.090627Z",
     "iopub.status.busy": "2020-11-02T21:01:49.085000Z",
     "iopub.status.idle": "2020-11-02T21:01:49.095351Z",
     "shell.execute_reply": "2020-11-02T21:01:49.094548Z"
    },
    "papermill": {
     "duration": 0.171964,
     "end_time": "2020-11-02T21:01:49.095491",
     "exception": false,
     "start_time": "2020-11-02T21:01:48.923527",
     "status": "completed"
    },
    "tags": []
   },
   "outputs": [],
   "source": [
    "# We created function we will use also test data in Applying Several ML Algorithms section.\n",
    "def find_ages(df):\n",
    "    for i in range(0, 2):\n",
    "        for j in range(0, 3):\n",
    "            g_df = df[(df['Sex'] == i) & (df['Pclass'] == j+1)]['Age'].dropna()\n",
    "\n",
    "\n",
    "            guess = g_df.median()\n",
    "\n",
    "            # Convert random age float to nearest .5 age\n",
    "            ags[i,j] = int( guess/0.5 + 0.5 ) * 0.5\n",
    "            \n",
    "    for i in range(0, 2):\n",
    "        for j in range(0, 3):\n",
    "            df.loc[ (df.Age.isnull()) & (df.Sex == i) & (df.Pclass == j+1),'Age'] = ags[i,j]\n",
    "\n",
    "    df['Age'] = df['Age'].astype(int)\n"
   ]
  },
  {
   "cell_type": "code",
   "execution_count": 16,
   "metadata": {
    "execution": {
     "iopub.execute_input": "2020-11-02T21:01:49.276162Z",
     "iopub.status.busy": "2020-11-02T21:01:49.264953Z",
     "iopub.status.idle": "2020-11-02T21:01:49.279551Z",
     "shell.execute_reply": "2020-11-02T21:01:49.280464Z"
    },
    "papermill": {
     "duration": 0.125008,
     "end_time": "2020-11-02T21:01:49.280671",
     "exception": false,
     "start_time": "2020-11-02T21:01:49.155663",
     "status": "completed"
    },
    "tags": []
   },
   "outputs": [],
   "source": [
    "#Call function with train data set\n",
    "find_ages(train_df)"
   ]
  },
  {
   "cell_type": "code",
   "execution_count": 17,
   "metadata": {
    "execution": {
     "iopub.execute_input": "2020-11-02T21:01:49.475985Z",
     "iopub.status.busy": "2020-11-02T21:01:49.475195Z",
     "iopub.status.idle": "2020-11-02T21:01:49.488825Z",
     "shell.execute_reply": "2020-11-02T21:01:49.489437Z"
    },
    "papermill": {
     "duration": 0.121175,
     "end_time": "2020-11-02T21:01:49.489601",
     "exception": false,
     "start_time": "2020-11-02T21:01:49.368426",
     "status": "completed"
    },
    "tags": []
   },
   "outputs": [
    {
     "name": "stdout",
     "output_type": "stream",
     "text": [
      "<class 'pandas.core.frame.DataFrame'>\n",
      "RangeIndex: 891 entries, 0 to 890\n",
      "Data columns (total 10 columns):\n",
      " #   Column       Non-Null Count  Dtype  \n",
      "---  ------       --------------  -----  \n",
      " 0   PassengerId  891 non-null    int64  \n",
      " 1   Survived     891 non-null    int64  \n",
      " 2   Pclass       891 non-null    int64  \n",
      " 3   Name         891 non-null    object \n",
      " 4   Sex          891 non-null    int64  \n",
      " 5   Age          891 non-null    int64  \n",
      " 6   SibSp        891 non-null    int64  \n",
      " 7   Parch        891 non-null    int64  \n",
      " 8   Fare         891 non-null    float64\n",
      " 9   Embarked     891 non-null    object \n",
      "dtypes: float64(1), int64(7), object(2)\n",
      "memory usage: 69.7+ KB\n"
     ]
    }
   ],
   "source": [
    "# Check to missing values again\n",
    "train_df.info()"
   ]
  },
  {
   "cell_type": "markdown",
   "metadata": {
    "papermill": {
     "duration": 0.066225,
     "end_time": "2020-11-02T21:01:49.623520",
     "exception": false,
     "start_time": "2020-11-02T21:01:49.557295",
     "status": "completed"
    },
    "tags": []
   },
   "source": [
    "<a id='eda'></a>\n",
    "## Exploratory Data Analysis\n",
    "\n",
    "> \n",
    "> Now our data is clean and ready to analyze !\n",
    "\n",
    "### Question 1: What is the number of survivors and non-survivors among those who boarded from which port by gender and in what class?"
   ]
  },
  {
   "cell_type": "code",
   "execution_count": 18,
   "metadata": {
    "execution": {
     "iopub.execute_input": "2020-11-02T21:01:49.809099Z",
     "iopub.status.busy": "2020-11-02T21:01:49.808145Z",
     "iopub.status.idle": "2020-11-02T21:01:50.064186Z",
     "shell.execute_reply": "2020-11-02T21:01:50.064872Z"
    },
    "papermill": {
     "duration": 0.355063,
     "end_time": "2020-11-02T21:01:50.065033",
     "exception": false,
     "start_time": "2020-11-02T21:01:49.709970",
     "status": "completed"
    },
    "tags": []
   },
   "outputs": [
    {
     "data": {
      "text/html": [
       "<style  type=\"text/css\" >\n",
       "#T_6b6e4f20_212b_11eb_89b9_abfb7f6f79adrow0_col0{\n",
       "            background-color:  #f2f866;\n",
       "            color:  #000000;\n",
       "        }#T_6b6e4f20_212b_11eb_89b9_abfb7f6f79adrow0_col1{\n",
       "            background-color:  #d8ec66;\n",
       "            color:  #000000;\n",
       "        }#T_6b6e4f20_212b_11eb_89b9_abfb7f6f79adrow0_col2,#T_6b6e4f20_212b_11eb_89b9_abfb7f6f79adrow1_col0{\n",
       "            background-color:  #fcfe66;\n",
       "            color:  #000000;\n",
       "        }#T_6b6e4f20_212b_11eb_89b9_abfb7f6f79adrow0_col3{\n",
       "            background-color:  #d0e866;\n",
       "            color:  #000000;\n",
       "        }#T_6b6e4f20_212b_11eb_89b9_abfb7f6f79adrow0_col4{\n",
       "            background-color:  #e7f366;\n",
       "            color:  #000000;\n",
       "        }#T_6b6e4f20_212b_11eb_89b9_abfb7f6f79adrow1_col1,#T_6b6e4f20_212b_11eb_89b9_abfb7f6f79adrow1_col4{\n",
       "            background-color:  #fbfd66;\n",
       "            color:  #000000;\n",
       "        }#T_6b6e4f20_212b_11eb_89b9_abfb7f6f79adrow1_col2,#T_6b6e4f20_212b_11eb_89b9_abfb7f6f79adrow3_col0,#T_6b6e4f20_212b_11eb_89b9_abfb7f6f79adrow3_col1,#T_6b6e4f20_212b_11eb_89b9_abfb7f6f79adrow3_col2,#T_6b6e4f20_212b_11eb_89b9_abfb7f6f79adrow3_col3,#T_6b6e4f20_212b_11eb_89b9_abfb7f6f79adrow3_col4,#T_6b6e4f20_212b_11eb_89b9_abfb7f6f79adrow4_col0,#T_6b6e4f20_212b_11eb_89b9_abfb7f6f79adrow4_col1,#T_6b6e4f20_212b_11eb_89b9_abfb7f6f79adrow4_col2,#T_6b6e4f20_212b_11eb_89b9_abfb7f6f79adrow4_col4{\n",
       "            background-color:  #ffff66;\n",
       "            color:  #000000;\n",
       "        }#T_6b6e4f20_212b_11eb_89b9_abfb7f6f79adrow1_col3,#T_6b6e4f20_212b_11eb_89b9_abfb7f6f79adrow6_col2{\n",
       "            background-color:  #f9fc66;\n",
       "            color:  #000000;\n",
       "        }#T_6b6e4f20_212b_11eb_89b9_abfb7f6f79adrow2_col0{\n",
       "            background-color:  #eef666;\n",
       "            color:  #000000;\n",
       "        }#T_6b6e4f20_212b_11eb_89b9_abfb7f6f79adrow2_col1{\n",
       "            background-color:  #e8f466;\n",
       "            color:  #000000;\n",
       "        }#T_6b6e4f20_212b_11eb_89b9_abfb7f6f79adrow2_col2,#T_6b6e4f20_212b_11eb_89b9_abfb7f6f79adrow5_col3{\n",
       "            background-color:  #e6f266;\n",
       "            color:  #000000;\n",
       "        }#T_6b6e4f20_212b_11eb_89b9_abfb7f6f79adrow2_col3{\n",
       "            background-color:  #f0f866;\n",
       "            color:  #000000;\n",
       "        }#T_6b6e4f20_212b_11eb_89b9_abfb7f6f79adrow2_col4,#T_6b6e4f20_212b_11eb_89b9_abfb7f6f79adrow7_col2{\n",
       "            background-color:  #edf666;\n",
       "            color:  #000000;\n",
       "        }#T_6b6e4f20_212b_11eb_89b9_abfb7f6f79adrow4_col3{\n",
       "            background-color:  #fefe66;\n",
       "            color:  #000000;\n",
       "        }#T_6b6e4f20_212b_11eb_89b9_abfb7f6f79adrow5_col0{\n",
       "            background-color:  #ecf666;\n",
       "            color:  #000000;\n",
       "        }#T_6b6e4f20_212b_11eb_89b9_abfb7f6f79adrow5_col1{\n",
       "            background-color:  #f8fc66;\n",
       "            color:  #000000;\n",
       "        }#T_6b6e4f20_212b_11eb_89b9_abfb7f6f79adrow5_col2{\n",
       "            background-color:  #e3f166;\n",
       "            color:  #000000;\n",
       "        }#T_6b6e4f20_212b_11eb_89b9_abfb7f6f79adrow5_col4{\n",
       "            background-color:  #ebf566;\n",
       "            color:  #000000;\n",
       "        }#T_6b6e4f20_212b_11eb_89b9_abfb7f6f79adrow6_col0{\n",
       "            background-color:  #e4f266;\n",
       "            color:  #000000;\n",
       "        }#T_6b6e4f20_212b_11eb_89b9_abfb7f6f79adrow6_col1{\n",
       "            background-color:  #bede66;\n",
       "            color:  #000000;\n",
       "        }#T_6b6e4f20_212b_11eb_89b9_abfb7f6f79adrow6_col3{\n",
       "            background-color:  #cee666;\n",
       "            color:  #000000;\n",
       "        }#T_6b6e4f20_212b_11eb_89b9_abfb7f6f79adrow6_col4,#T_6b6e4f20_212b_11eb_89b9_abfb7f6f79adrow7_col1,#T_6b6e4f20_212b_11eb_89b9_abfb7f6f79adrow8_col3{\n",
       "            background-color:  #dcee66;\n",
       "            color:  #000000;\n",
       "        }#T_6b6e4f20_212b_11eb_89b9_abfb7f6f79adrow7_col0{\n",
       "            background-color:  #d3e966;\n",
       "            color:  #000000;\n",
       "        }#T_6b6e4f20_212b_11eb_89b9_abfb7f6f79adrow7_col3{\n",
       "            background-color:  #bdde66;\n",
       "            color:  #000000;\n",
       "        }#T_6b6e4f20_212b_11eb_89b9_abfb7f6f79adrow7_col4{\n",
       "            background-color:  #d1e866;\n",
       "            color:  #000000;\n",
       "        }#T_6b6e4f20_212b_11eb_89b9_abfb7f6f79adrow8_col0{\n",
       "            background-color:  #81c066;\n",
       "            color:  #000000;\n",
       "        }#T_6b6e4f20_212b_11eb_89b9_abfb7f6f79adrow8_col1{\n",
       "            background-color:  #b0d866;\n",
       "            color:  #000000;\n",
       "        }#T_6b6e4f20_212b_11eb_89b9_abfb7f6f79adrow8_col2{\n",
       "            background-color:  #52a866;\n",
       "            color:  #000000;\n",
       "        }#T_6b6e4f20_212b_11eb_89b9_abfb7f6f79adrow8_col4{\n",
       "            background-color:  #9acc66;\n",
       "            color:  #000000;\n",
       "        }#T_6b6e4f20_212b_11eb_89b9_abfb7f6f79adrow9_col0,#T_6b6e4f20_212b_11eb_89b9_abfb7f6f79adrow9_col1,#T_6b6e4f20_212b_11eb_89b9_abfb7f6f79adrow9_col2,#T_6b6e4f20_212b_11eb_89b9_abfb7f6f79adrow9_col3,#T_6b6e4f20_212b_11eb_89b9_abfb7f6f79adrow9_col4{\n",
       "            background-color:  #008066;\n",
       "            color:  #f1f1f1;\n",
       "        }</style><table id=\"T_6b6e4f20_212b_11eb_89b9_abfb7f6f79ad\" ><thead>    <tr>        <th class=\"blank\" ></th>        <th class=\"index_name level0\" >Sex</th>        <th class=\"col_heading level0 col0\" colspan=2>0</th>        <th class=\"col_heading level0 col2\" colspan=2>1</th>        <th class=\"col_heading level0 col4\" >All</th>    </tr>    <tr>        <th class=\"blank\" ></th>        <th class=\"index_name level1\" >Survived</th>        <th class=\"col_heading level1 col0\" >0</th>        <th class=\"col_heading level1 col1\" >1</th>        <th class=\"col_heading level1 col2\" >0</th>        <th class=\"col_heading level1 col3\" >1</th>        <th class=\"col_heading level1 col4\" ></th>    </tr>    <tr>        <th class=\"index_name level0\" >Embarked</th>        <th class=\"index_name level1\" >Pclass</th>        <th class=\"blank\" ></th>        <th class=\"blank\" ></th>        <th class=\"blank\" ></th>        <th class=\"blank\" ></th>        <th class=\"blank\" ></th>    </tr></thead><tbody>\n",
       "                <tr>\n",
       "                        <th id=\"T_6b6e4f20_212b_11eb_89b9_abfb7f6f79adlevel0_row0\" class=\"row_heading level0 row0\" rowspan=3>C</th>\n",
       "                        <th id=\"T_6b6e4f20_212b_11eb_89b9_abfb7f6f79adlevel1_row0\" class=\"row_heading level1 row0\" >1</th>\n",
       "                        <td id=\"T_6b6e4f20_212b_11eb_89b9_abfb7f6f79adrow0_col0\" class=\"data row0 col0\" >25</td>\n",
       "                        <td id=\"T_6b6e4f20_212b_11eb_89b9_abfb7f6f79adrow0_col1\" class=\"data row0 col1\" >17</td>\n",
       "                        <td id=\"T_6b6e4f20_212b_11eb_89b9_abfb7f6f79adrow0_col2\" class=\"data row0 col2\" >1</td>\n",
       "                        <td id=\"T_6b6e4f20_212b_11eb_89b9_abfb7f6f79adrow0_col3\" class=\"data row0 col3\" >44</td>\n",
       "                        <td id=\"T_6b6e4f20_212b_11eb_89b9_abfb7f6f79adrow0_col4\" class=\"data row0 col4\" >87</td>\n",
       "            </tr>\n",
       "            <tr>\n",
       "                                <th id=\"T_6b6e4f20_212b_11eb_89b9_abfb7f6f79adlevel1_row1\" class=\"row_heading level1 row1\" >2</th>\n",
       "                        <td id=\"T_6b6e4f20_212b_11eb_89b9_abfb7f6f79adrow1_col0\" class=\"data row1 col0\" >8</td>\n",
       "                        <td id=\"T_6b6e4f20_212b_11eb_89b9_abfb7f6f79adrow1_col1\" class=\"data row1 col1\" >2</td>\n",
       "                        <td id=\"T_6b6e4f20_212b_11eb_89b9_abfb7f6f79adrow1_col2\" class=\"data row1 col2\" >0</td>\n",
       "                        <td id=\"T_6b6e4f20_212b_11eb_89b9_abfb7f6f79adrow1_col3\" class=\"data row1 col3\" >7</td>\n",
       "                        <td id=\"T_6b6e4f20_212b_11eb_89b9_abfb7f6f79adrow1_col4\" class=\"data row1 col4\" >17</td>\n",
       "            </tr>\n",
       "            <tr>\n",
       "                                <th id=\"T_6b6e4f20_212b_11eb_89b9_abfb7f6f79adlevel1_row2\" class=\"row_heading level1 row2\" >3</th>\n",
       "                        <td id=\"T_6b6e4f20_212b_11eb_89b9_abfb7f6f79adrow2_col0\" class=\"data row2 col0\" >33</td>\n",
       "                        <td id=\"T_6b6e4f20_212b_11eb_89b9_abfb7f6f79adrow2_col1\" class=\"data row2 col1\" >10</td>\n",
       "                        <td id=\"T_6b6e4f20_212b_11eb_89b9_abfb7f6f79adrow2_col2\" class=\"data row2 col2\" >8</td>\n",
       "                        <td id=\"T_6b6e4f20_212b_11eb_89b9_abfb7f6f79adrow2_col3\" class=\"data row2 col3\" >15</td>\n",
       "                        <td id=\"T_6b6e4f20_212b_11eb_89b9_abfb7f6f79adrow2_col4\" class=\"data row2 col4\" >66</td>\n",
       "            </tr>\n",
       "            <tr>\n",
       "                        <th id=\"T_6b6e4f20_212b_11eb_89b9_abfb7f6f79adlevel0_row3\" class=\"row_heading level0 row3\" rowspan=3>Q</th>\n",
       "                        <th id=\"T_6b6e4f20_212b_11eb_89b9_abfb7f6f79adlevel1_row3\" class=\"row_heading level1 row3\" >1</th>\n",
       "                        <td id=\"T_6b6e4f20_212b_11eb_89b9_abfb7f6f79adrow3_col0\" class=\"data row3 col0\" >1</td>\n",
       "                        <td id=\"T_6b6e4f20_212b_11eb_89b9_abfb7f6f79adrow3_col1\" class=\"data row3 col1\" >0</td>\n",
       "                        <td id=\"T_6b6e4f20_212b_11eb_89b9_abfb7f6f79adrow3_col2\" class=\"data row3 col2\" >0</td>\n",
       "                        <td id=\"T_6b6e4f20_212b_11eb_89b9_abfb7f6f79adrow3_col3\" class=\"data row3 col3\" >1</td>\n",
       "                        <td id=\"T_6b6e4f20_212b_11eb_89b9_abfb7f6f79adrow3_col4\" class=\"data row3 col4\" >2</td>\n",
       "            </tr>\n",
       "            <tr>\n",
       "                                <th id=\"T_6b6e4f20_212b_11eb_89b9_abfb7f6f79adlevel1_row4\" class=\"row_heading level1 row4\" >2</th>\n",
       "                        <td id=\"T_6b6e4f20_212b_11eb_89b9_abfb7f6f79adrow4_col0\" class=\"data row4 col0\" >1</td>\n",
       "                        <td id=\"T_6b6e4f20_212b_11eb_89b9_abfb7f6f79adrow4_col1\" class=\"data row4 col1\" >0</td>\n",
       "                        <td id=\"T_6b6e4f20_212b_11eb_89b9_abfb7f6f79adrow4_col2\" class=\"data row4 col2\" >0</td>\n",
       "                        <td id=\"T_6b6e4f20_212b_11eb_89b9_abfb7f6f79adrow4_col3\" class=\"data row4 col3\" >2</td>\n",
       "                        <td id=\"T_6b6e4f20_212b_11eb_89b9_abfb7f6f79adrow4_col4\" class=\"data row4 col4\" >3</td>\n",
       "            </tr>\n",
       "            <tr>\n",
       "                                <th id=\"T_6b6e4f20_212b_11eb_89b9_abfb7f6f79adlevel1_row5\" class=\"row_heading level1 row5\" >3</th>\n",
       "                        <td id=\"T_6b6e4f20_212b_11eb_89b9_abfb7f6f79adrow5_col0\" class=\"data row5 col0\" >36</td>\n",
       "                        <td id=\"T_6b6e4f20_212b_11eb_89b9_abfb7f6f79adrow5_col1\" class=\"data row5 col1\" >3</td>\n",
       "                        <td id=\"T_6b6e4f20_212b_11eb_89b9_abfb7f6f79adrow5_col2\" class=\"data row5 col2\" >9</td>\n",
       "                        <td id=\"T_6b6e4f20_212b_11eb_89b9_abfb7f6f79adrow5_col3\" class=\"data row5 col3\" >24</td>\n",
       "                        <td id=\"T_6b6e4f20_212b_11eb_89b9_abfb7f6f79adrow5_col4\" class=\"data row5 col4\" >72</td>\n",
       "            </tr>\n",
       "            <tr>\n",
       "                        <th id=\"T_6b6e4f20_212b_11eb_89b9_abfb7f6f79adlevel0_row6\" class=\"row_heading level0 row6\" rowspan=3>S</th>\n",
       "                        <th id=\"T_6b6e4f20_212b_11eb_89b9_abfb7f6f79adlevel1_row6\" class=\"row_heading level1 row6\" >1</th>\n",
       "                        <td id=\"T_6b6e4f20_212b_11eb_89b9_abfb7f6f79adrow6_col0\" class=\"data row6 col0\" >51</td>\n",
       "                        <td id=\"T_6b6e4f20_212b_11eb_89b9_abfb7f6f79adrow6_col1\" class=\"data row6 col1\" >28</td>\n",
       "                        <td id=\"T_6b6e4f20_212b_11eb_89b9_abfb7f6f79adrow6_col2\" class=\"data row6 col2\" >2</td>\n",
       "                        <td id=\"T_6b6e4f20_212b_11eb_89b9_abfb7f6f79adrow6_col3\" class=\"data row6 col3\" >46</td>\n",
       "                        <td id=\"T_6b6e4f20_212b_11eb_89b9_abfb7f6f79adrow6_col4\" class=\"data row6 col4\" >127</td>\n",
       "            </tr>\n",
       "            <tr>\n",
       "                                <th id=\"T_6b6e4f20_212b_11eb_89b9_abfb7f6f79adlevel1_row7\" class=\"row_heading level1 row7\" >2</th>\n",
       "                        <td id=\"T_6b6e4f20_212b_11eb_89b9_abfb7f6f79adrow7_col0\" class=\"data row7 col0\" >82</td>\n",
       "                        <td id=\"T_6b6e4f20_212b_11eb_89b9_abfb7f6f79adrow7_col1\" class=\"data row7 col1\" >15</td>\n",
       "                        <td id=\"T_6b6e4f20_212b_11eb_89b9_abfb7f6f79adrow7_col2\" class=\"data row7 col2\" >6</td>\n",
       "                        <td id=\"T_6b6e4f20_212b_11eb_89b9_abfb7f6f79adrow7_col3\" class=\"data row7 col3\" >61</td>\n",
       "                        <td id=\"T_6b6e4f20_212b_11eb_89b9_abfb7f6f79adrow7_col4\" class=\"data row7 col4\" >164</td>\n",
       "            </tr>\n",
       "            <tr>\n",
       "                                <th id=\"T_6b6e4f20_212b_11eb_89b9_abfb7f6f79adlevel1_row8\" class=\"row_heading level1 row8\" >3</th>\n",
       "                        <td id=\"T_6b6e4f20_212b_11eb_89b9_abfb7f6f79adrow8_col0\" class=\"data row8 col0\" >231</td>\n",
       "                        <td id=\"T_6b6e4f20_212b_11eb_89b9_abfb7f6f79adrow8_col1\" class=\"data row8 col1\" >34</td>\n",
       "                        <td id=\"T_6b6e4f20_212b_11eb_89b9_abfb7f6f79adrow8_col2\" class=\"data row8 col2\" >55</td>\n",
       "                        <td id=\"T_6b6e4f20_212b_11eb_89b9_abfb7f6f79adrow8_col3\" class=\"data row8 col3\" >33</td>\n",
       "                        <td id=\"T_6b6e4f20_212b_11eb_89b9_abfb7f6f79adrow8_col4\" class=\"data row8 col4\" >353</td>\n",
       "            </tr>\n",
       "            <tr>\n",
       "                        <th id=\"T_6b6e4f20_212b_11eb_89b9_abfb7f6f79adlevel0_row9\" class=\"row_heading level0 row9\" >All</th>\n",
       "                        <th id=\"T_6b6e4f20_212b_11eb_89b9_abfb7f6f79adlevel1_row9\" class=\"row_heading level1 row9\" ></th>\n",
       "                        <td id=\"T_6b6e4f20_212b_11eb_89b9_abfb7f6f79adrow9_col0\" class=\"data row9 col0\" >468</td>\n",
       "                        <td id=\"T_6b6e4f20_212b_11eb_89b9_abfb7f6f79adrow9_col1\" class=\"data row9 col1\" >109</td>\n",
       "                        <td id=\"T_6b6e4f20_212b_11eb_89b9_abfb7f6f79adrow9_col2\" class=\"data row9 col2\" >81</td>\n",
       "                        <td id=\"T_6b6e4f20_212b_11eb_89b9_abfb7f6f79adrow9_col3\" class=\"data row9 col3\" >233</td>\n",
       "                        <td id=\"T_6b6e4f20_212b_11eb_89b9_abfb7f6f79adrow9_col4\" class=\"data row9 col4\" >891</td>\n",
       "            </tr>\n",
       "    </tbody></table>"
      ],
      "text/plain": [
       "<pandas.io.formats.style.Styler at 0x7fe55ad07430>"
      ]
     },
     "execution_count": 18,
     "metadata": {},
     "output_type": "execute_result"
    }
   ],
   "source": [
    "pd.crosstab([train_df.Embarked,train_df.Pclass],[train_df.Sex,train_df.Survived],margins=True).style.background_gradient(cmap='summer_r')"
   ]
  },
  {
   "cell_type": "markdown",
   "metadata": {
    "papermill": {
     "duration": 0.062692,
     "end_time": "2020-11-02T21:01:50.188489",
     "exception": false,
     "start_time": "2020-11-02T21:01:50.125797",
     "status": "completed"
    },
    "tags": []
   },
   "source": [
    "#### Question 1 Comment:\n",
    ">The highest number of women and men who lost their lives are 3rd class passengers at Southampton Embarkation port.\n",
    ">\n",
    ">The number of people who lost their lives was in the 3rd class most in total."
   ]
  },
  {
   "cell_type": "markdown",
   "metadata": {
    "papermill": {
     "duration": 0.070153,
     "end_time": "2020-11-02T21:01:50.333154",
     "exception": false,
     "start_time": "2020-11-02T21:01:50.263001",
     "status": "completed"
    },
    "tags": []
   },
   "source": [
    "### Question 2: What are the Passengers' survival percentages by class and gender?"
   ]
  },
  {
   "cell_type": "code",
   "execution_count": 19,
   "metadata": {
    "execution": {
     "iopub.execute_input": "2020-11-02T21:01:50.471012Z",
     "iopub.status.busy": "2020-11-02T21:01:50.470040Z",
     "iopub.status.idle": "2020-11-02T21:01:50.532678Z",
     "shell.execute_reply": "2020-11-02T21:01:50.531965Z"
    },
    "papermill": {
     "duration": 0.137345,
     "end_time": "2020-11-02T21:01:50.532808",
     "exception": false,
     "start_time": "2020-11-02T21:01:50.395463",
     "status": "completed"
    },
    "tags": []
   },
   "outputs": [
    {
     "data": {
      "text/html": [
       "<style  type=\"text/css\" >\n",
       "#T_6b6e4f21_212b_11eb_89b9_abfb7f6f79adrow0_col0{\n",
       "            background-color:  #a7d366;\n",
       "            color:  #000000;\n",
       "        }#T_6b6e4f21_212b_11eb_89b9_abfb7f6f79adrow0_col1,#T_6b6e4f21_212b_11eb_89b9_abfb7f6f79adrow0_col3{\n",
       "            background-color:  #85c266;\n",
       "            color:  #000000;\n",
       "        }#T_6b6e4f21_212b_11eb_89b9_abfb7f6f79adrow0_col2{\n",
       "            background-color:  #6eb666;\n",
       "            color:  #000000;\n",
       "        }#T_6b6e4f21_212b_11eb_89b9_abfb7f6f79adrow1_col0{\n",
       "            background-color:  #cde666;\n",
       "            color:  #000000;\n",
       "        }#T_6b6e4f21_212b_11eb_89b9_abfb7f6f79adrow1_col1{\n",
       "            background-color:  #f0f866;\n",
       "            color:  #000000;\n",
       "        }#T_6b6e4f21_212b_11eb_89b9_abfb7f6f79adrow1_col2,#T_6b6e4f21_212b_11eb_89b9_abfb7f6f79adrow2_col0,#T_6b6e4f21_212b_11eb_89b9_abfb7f6f79adrow2_col1,#T_6b6e4f21_212b_11eb_89b9_abfb7f6f79adrow2_col3{\n",
       "            background-color:  #ffff66;\n",
       "            color:  #000000;\n",
       "        }#T_6b6e4f21_212b_11eb_89b9_abfb7f6f79adrow1_col3{\n",
       "            background-color:  #f7fb66;\n",
       "            color:  #000000;\n",
       "        }#T_6b6e4f21_212b_11eb_89b9_abfb7f6f79adrow2_col2,#T_6b6e4f21_212b_11eb_89b9_abfb7f6f79adrow3_col2{\n",
       "            background-color:  #f1f866;\n",
       "            color:  #000000;\n",
       "        }#T_6b6e4f21_212b_11eb_89b9_abfb7f6f79adrow3_col0{\n",
       "            background-color:  #96cb66;\n",
       "            color:  #000000;\n",
       "        }#T_6b6e4f21_212b_11eb_89b9_abfb7f6f79adrow3_col1{\n",
       "            background-color:  #a3d166;\n",
       "            color:  #000000;\n",
       "        }#T_6b6e4f21_212b_11eb_89b9_abfb7f6f79adrow3_col3{\n",
       "            background-color:  #cfe766;\n",
       "            color:  #000000;\n",
       "        }#T_6b6e4f21_212b_11eb_89b9_abfb7f6f79adrow4_col0,#T_6b6e4f21_212b_11eb_89b9_abfb7f6f79adrow4_col1,#T_6b6e4f21_212b_11eb_89b9_abfb7f6f79adrow4_col2,#T_6b6e4f21_212b_11eb_89b9_abfb7f6f79adrow4_col3{\n",
       "            background-color:  #008066;\n",
       "            color:  #f1f1f1;\n",
       "        }</style><table id=\"T_6b6e4f21_212b_11eb_89b9_abfb7f6f79ad\" ><thead>    <tr>        <th class=\"blank\" ></th>        <th class=\"index_name level0\" >Pclass</th>        <th class=\"col_heading level0 col0\" >1</th>        <th class=\"col_heading level0 col1\" >2</th>        <th class=\"col_heading level0 col2\" >3</th>        <th class=\"col_heading level0 col3\" >All</th>    </tr>    <tr>        <th class=\"index_name level0\" >Sex</th>        <th class=\"index_name level1\" >Survived</th>        <th class=\"blank\" ></th>        <th class=\"blank\" ></th>        <th class=\"blank\" ></th>        <th class=\"blank\" ></th>    </tr></thead><tbody>\n",
       "                <tr>\n",
       "                        <th id=\"T_6b6e4f21_212b_11eb_89b9_abfb7f6f79adlevel0_row0\" class=\"row_heading level0 row0\" rowspan=2>0</th>\n",
       "                        <th id=\"T_6b6e4f21_212b_11eb_89b9_abfb7f6f79adlevel1_row0\" class=\"row_heading level1 row0\" >0</th>\n",
       "                        <td id=\"T_6b6e4f21_212b_11eb_89b9_abfb7f6f79adrow0_col0\" class=\"data row0 col0\" >77</td>\n",
       "                        <td id=\"T_6b6e4f21_212b_11eb_89b9_abfb7f6f79adrow0_col1\" class=\"data row0 col1\" >91</td>\n",
       "                        <td id=\"T_6b6e4f21_212b_11eb_89b9_abfb7f6f79adrow0_col2\" class=\"data row0 col2\" >300</td>\n",
       "                        <td id=\"T_6b6e4f21_212b_11eb_89b9_abfb7f6f79adrow0_col3\" class=\"data row0 col3\" >468</td>\n",
       "            </tr>\n",
       "            <tr>\n",
       "                                <th id=\"T_6b6e4f21_212b_11eb_89b9_abfb7f6f79adlevel1_row1\" class=\"row_heading level1 row1\" >1</th>\n",
       "                        <td id=\"T_6b6e4f21_212b_11eb_89b9_abfb7f6f79adrow1_col0\" class=\"data row1 col0\" >45</td>\n",
       "                        <td id=\"T_6b6e4f21_212b_11eb_89b9_abfb7f6f79adrow1_col1\" class=\"data row1 col1\" >17</td>\n",
       "                        <td id=\"T_6b6e4f21_212b_11eb_89b9_abfb7f6f79adrow1_col2\" class=\"data row1 col2\" >47</td>\n",
       "                        <td id=\"T_6b6e4f21_212b_11eb_89b9_abfb7f6f79adrow1_col3\" class=\"data row1 col3\" >109</td>\n",
       "            </tr>\n",
       "            <tr>\n",
       "                        <th id=\"T_6b6e4f21_212b_11eb_89b9_abfb7f6f79adlevel0_row2\" class=\"row_heading level0 row2\" rowspan=2>1</th>\n",
       "                        <th id=\"T_6b6e4f21_212b_11eb_89b9_abfb7f6f79adlevel1_row2\" class=\"row_heading level1 row2\" >0</th>\n",
       "                        <td id=\"T_6b6e4f21_212b_11eb_89b9_abfb7f6f79adrow2_col0\" class=\"data row2 col0\" >3</td>\n",
       "                        <td id=\"T_6b6e4f21_212b_11eb_89b9_abfb7f6f79adrow2_col1\" class=\"data row2 col1\" >6</td>\n",
       "                        <td id=\"T_6b6e4f21_212b_11eb_89b9_abfb7f6f79adrow2_col2\" class=\"data row2 col2\" >72</td>\n",
       "                        <td id=\"T_6b6e4f21_212b_11eb_89b9_abfb7f6f79adrow2_col3\" class=\"data row2 col3\" >81</td>\n",
       "            </tr>\n",
       "            <tr>\n",
       "                                <th id=\"T_6b6e4f21_212b_11eb_89b9_abfb7f6f79adlevel1_row3\" class=\"row_heading level1 row3\" >1</th>\n",
       "                        <td id=\"T_6b6e4f21_212b_11eb_89b9_abfb7f6f79adrow3_col0\" class=\"data row3 col0\" >91</td>\n",
       "                        <td id=\"T_6b6e4f21_212b_11eb_89b9_abfb7f6f79adrow3_col1\" class=\"data row3 col1\" >70</td>\n",
       "                        <td id=\"T_6b6e4f21_212b_11eb_89b9_abfb7f6f79adrow3_col2\" class=\"data row3 col2\" >72</td>\n",
       "                        <td id=\"T_6b6e4f21_212b_11eb_89b9_abfb7f6f79adrow3_col3\" class=\"data row3 col3\" >233</td>\n",
       "            </tr>\n",
       "            <tr>\n",
       "                        <th id=\"T_6b6e4f21_212b_11eb_89b9_abfb7f6f79adlevel0_row4\" class=\"row_heading level0 row4\" >All</th>\n",
       "                        <th id=\"T_6b6e4f21_212b_11eb_89b9_abfb7f6f79adlevel1_row4\" class=\"row_heading level1 row4\" ></th>\n",
       "                        <td id=\"T_6b6e4f21_212b_11eb_89b9_abfb7f6f79adrow4_col0\" class=\"data row4 col0\" >216</td>\n",
       "                        <td id=\"T_6b6e4f21_212b_11eb_89b9_abfb7f6f79adrow4_col1\" class=\"data row4 col1\" >184</td>\n",
       "                        <td id=\"T_6b6e4f21_212b_11eb_89b9_abfb7f6f79adrow4_col2\" class=\"data row4 col2\" >491</td>\n",
       "                        <td id=\"T_6b6e4f21_212b_11eb_89b9_abfb7f6f79adrow4_col3\" class=\"data row4 col3\" >891</td>\n",
       "            </tr>\n",
       "    </tbody></table>"
      ],
      "text/plain": [
       "<pandas.io.formats.style.Styler at 0x7fe55abf5a00>"
      ]
     },
     "execution_count": 19,
     "metadata": {},
     "output_type": "execute_result"
    }
   ],
   "source": [
    "pd.crosstab([train_df.Sex,train_df.Survived],train_df.Pclass,margins=True).style.background_gradient(cmap='summer_r')"
   ]
  },
  {
   "cell_type": "markdown",
   "metadata": {
    "papermill": {
     "duration": 0.062828,
     "end_time": "2020-11-02T21:01:50.657582",
     "exception": false,
     "start_time": "2020-11-02T21:01:50.594754",
     "status": "completed"
    },
    "tags": []
   },
   "source": [
    "#### Question 4 Comment :\n",
    ">Almost all the women (% 97) in the 1st class survived.\n",
    ">\n",
    ">Although the number of passengers in the 2nd class is less than the number of passengers in the 1st class, the number of survivors in the 1st class is higher."
   ]
  },
  {
   "cell_type": "markdown",
   "metadata": {
    "papermill": {
     "duration": 0.065006,
     "end_time": "2020-11-02T21:01:50.788808",
     "exception": false,
     "start_time": "2020-11-02T21:01:50.723802",
     "status": "completed"
    },
    "tags": []
   },
   "source": [
    "### Question 3 : Number  of survived/drowned passengers  by age and gender?"
   ]
  },
  {
   "cell_type": "code",
   "execution_count": 20,
   "metadata": {
    "execution": {
     "iopub.execute_input": "2020-11-02T21:01:50.934914Z",
     "iopub.status.busy": "2020-11-02T21:01:50.929212Z",
     "iopub.status.idle": "2020-11-02T21:01:51.319991Z",
     "shell.execute_reply": "2020-11-02T21:01:51.319414Z"
    },
    "papermill": {
     "duration": 0.46586,
     "end_time": "2020-11-02T21:01:51.320133",
     "exception": false,
     "start_time": "2020-11-02T21:01:50.854273",
     "status": "completed"
    },
    "tags": []
   },
   "outputs": [
    {
     "data": {
      "text/plain": [
       "<matplotlib.legend.Legend at 0x7fe55ab0d2b0>"
      ]
     },
     "execution_count": 20,
     "metadata": {},
     "output_type": "execute_result"
    },
    {
     "data": {
      "image/png": "[encoded data removed]",
      "text/plain": [
       "<Figure size 1440x576 with 2 Axes>"
      ]
     },
     "metadata": {
      "needs_background": "light"
     },
     "output_type": "display_data"
    }
   ],
   "source": [
    "def age_buckets(x): \n",
    "    if x < 18: return '0-18' \n",
    "    elif x < 30: return '18-29'\n",
    "    elif x < 40: return '30-39' \n",
    "    elif x < 50: return '40-49' \n",
    "    elif x < 60: return '50-59' \n",
    "    elif x < 70: return '60-69' \n",
    "    elif x >=70: return '70+' \n",
    "    else: return 'other'\n",
    "    \n",
    "    \n",
    "train_df[\"Age\"] = train_df[\"Age\"].astype(int)\n",
    "\n",
    "train_df[\"Age_Range\"] = train_df[\"Age\"].apply(lambda x: age_buckets(x))\n",
    "\n",
    "fig, (ax1,ax2) = plt.subplots(1,2, figsize=(20,8))  \n",
    "\n",
    "grouped_by_age_female = train_df[train_df[\"Sex\"] == 1].groupby([\"Age_Range\"])[\"Survived\"].value_counts().unstack()\n",
    "grouped_by_age_female.plot.bar(stacked=True, color=['#99CCFF', '#BCE2C8'], rot=0,ax=ax1, title=\"Number of female survived/drowned passengers age group\")\n",
    "ax1.legend(('Drowned', 'Survived'))\n",
    "\n",
    "grouped_by_age_men = train_df[train_df[\"Sex\"] == 0].groupby([\"Age_Range\"])[\"Survived\"].value_counts().unstack()\n",
    "grouped_by_age_men.plot.bar(stacked=True, color=['#99CCFF', '#BCE2C8'], rot=0,ax=ax2, title=\"Number of male survived/drowned passengers per age group\")\n",
    "ax2.legend(('Drowned', 'Survived'))"
   ]
  },
  {
   "cell_type": "markdown",
   "metadata": {
    "papermill": {
     "duration": 0.064051,
     "end_time": "2020-11-02T21:01:51.446697",
     "exception": false,
     "start_time": "2020-11-02T21:01:51.382646",
     "status": "completed"
    },
    "tags": []
   },
   "source": [
    "#### Question 3 Comment:\n",
    ">We can conclude that the number of female survivors per age group is higher than the number of females per age group that drowned.\n",
    ">\n",
    ">When looking at the number of male survivors, we can observe that male passenger were more likely to drown in all age groups."
   ]
  },
  {
   "cell_type": "markdown",
   "metadata": {
    "papermill": {
     "duration": 0.066005,
     "end_time": "2020-11-02T21:01:51.577679",
     "exception": false,
     "start_time": "2020-11-02T21:01:51.511674",
     "status": "completed"
    },
    "tags": []
   },
   "source": [
    "### Question 4 : What are the Passengers' survival/drowned distribution for passengers with parents / children on board?"
   ]
  },
  {
   "cell_type": "code",
   "execution_count": 21,
   "metadata": {
    "execution": {
     "iopub.execute_input": "2020-11-02T21:01:51.712436Z",
     "iopub.status.busy": "2020-11-02T21:01:51.711710Z",
     "iopub.status.idle": "2020-11-02T21:01:52.093650Z",
     "shell.execute_reply": "2020-11-02T21:01:52.092982Z"
    },
    "papermill": {
     "duration": 0.45354,
     "end_time": "2020-11-02T21:01:52.093768",
     "exception": false,
     "start_time": "2020-11-02T21:01:51.640228",
     "status": "completed"
    },
    "tags": []
   },
   "outputs": [
    {
     "data": {
      "text/plain": [
       "<matplotlib.legend.Legend at 0x7fe55a9c5b20>"
      ]
     },
     "execution_count": 21,
     "metadata": {},
     "output_type": "execute_result"
    },
    {
     "data": {
      "image/png": "[encoded data removed]",
      "text/plain": [
       "<Figure size 1440x576 with 2 Axes>"
      ]
     },
     "metadata": {
      "needs_background": "light"
     },
     "output_type": "display_data"
    }
   ],
   "source": [
    "fig, (ax1,ax2) = plt.subplots(1,2, figsize=(20,8)) \n",
    "\n",
    "grouped_by_family = train_df.groupby([\"Parch\"])[\"Survived\"].value_counts()\n",
    "grouped_by_family.unstack().plot.bar(stacked=True, color=['#99CCFF', '#BCE2C8'], rot=0,ax=ax1, title=\"Number of survived/drowned passengers per number of parents/children on board\")\n",
    "plt.legend(( 'Drowned', 'Survived'), loc=(1.04,0))\n",
    "ax1.legend(('Drowned', 'Survived'))\n",
    "\n",
    "grouped_by_family_norm = train_df.groupby([\"Parch\"])[\"Survived\"].value_counts(normalize=True)\n",
    "grouped_by_family_norm.unstack().plot.bar(stacked=True, color=['#99CCFF', '#BCE2C8'], rot=0,ax=ax2, title=\"Proportion of survived/drowned passengers per number of parents/children on board\")\n",
    "ax2.legend(('Drowned', 'Survived'))"
   ]
  },
  {
   "cell_type": "markdown",
   "metadata": {
    "papermill": {
     "duration": 0.061093,
     "end_time": "2020-11-02T21:01:52.216484",
     "exception": false,
     "start_time": "2020-11-02T21:01:52.155391",
     "status": "completed"
    },
    "tags": []
   },
   "source": [
    "#### Question 4 Comment:\n",
    "> We can see that the majority of the passengers traveled without children/parents. If traveling with children/parents, the chances of surviving have not been significantly higher."
   ]
  },
  {
   "cell_type": "markdown",
   "metadata": {
    "papermill": {
     "duration": 0.109844,
     "end_time": "2020-11-02T21:01:52.389572",
     "exception": false,
     "start_time": "2020-11-02T21:01:52.279728",
     "status": "completed"
    },
    "tags": []
   },
   "source": [
    "### Question 5: What is the proportion of survivors and non-survivors among siblings and spouse(except mistresses and fiancés )?"
   ]
  },
  {
   "cell_type": "code",
   "execution_count": 22,
   "metadata": {
    "execution": {
     "iopub.execute_input": "2020-11-02T21:01:52.529138Z",
     "iopub.status.busy": "2020-11-02T21:01:52.528162Z",
     "iopub.status.idle": "2020-11-02T21:01:52.722911Z",
     "shell.execute_reply": "2020-11-02T21:01:52.722250Z"
    },
    "papermill": {
     "duration": 0.267127,
     "end_time": "2020-11-02T21:01:52.723077",
     "exception": false,
     "start_time": "2020-11-02T21:01:52.455950",
     "status": "completed"
    },
    "tags": []
   },
   "outputs": [
    {
     "data": {
      "image/png": "[encoded data removed]",
      "text/plain": [
       "<Figure size 720x576 with 1 Axes>"
      ]
     },
     "metadata": {
      "needs_background": "light"
     },
     "output_type": "display_data"
    }
   ],
   "source": [
    "grouped_by_sibsp = train_df.groupby('SibSp')['Survived'].value_counts(normalize=True).unstack()\n",
    "grouped_by_sibsp.plot(kind='bar', color=[\"#99CCFF\", \"#BCE2C8\"], stacked=True, rot=0, figsize=(10,8), title=\"Number of survived/drowned passengers per number of siblings/spouses on board\")\n",
    "plt.legend(( 'Drowned', 'Survived'))\n",
    "\n",
    "plt.xlabel('Number of siblings/spouses')\n",
    "plt.ylabel('%')\n",
    "plt.show()"
   ]
  },
  {
   "cell_type": "markdown",
   "metadata": {
    "papermill": {
     "duration": 0.066643,
     "end_time": "2020-11-02T21:01:52.858131",
     "exception": false,
     "start_time": "2020-11-02T21:01:52.791488",
     "status": "completed"
    },
    "tags": []
   },
   "source": [
    "#### Question 5 Comment:\n",
    ">We can observe that the percentage of survivors that traveled with siblings/spouses of size 1 and 2 is bigger compared to single travelers. On the contrary when traveling with starting 3 siblings/spouses the percentage of surviving decreases."
   ]
  },
  {
   "cell_type": "markdown",
   "metadata": {
    "papermill": {
     "duration": 0.062004,
     "end_time": "2020-11-02T21:01:52.984172",
     "exception": false,
     "start_time": "2020-11-02T21:01:52.922168",
     "status": "completed"
    },
    "tags": []
   },
   "source": [
    "### Visualization"
   ]
  },
  {
   "cell_type": "code",
   "execution_count": 23,
   "metadata": {
    "execution": {
     "iopub.execute_input": "2020-11-02T21:01:53.139369Z",
     "iopub.status.busy": "2020-11-02T21:01:53.138617Z",
     "iopub.status.idle": "2020-11-02T21:01:53.159202Z",
     "shell.execute_reply": "2020-11-02T21:01:53.158336Z"
    },
    "papermill": {
     "duration": 0.10218,
     "end_time": "2020-11-02T21:01:53.159349",
     "exception": false,
     "start_time": "2020-11-02T21:01:53.057169",
     "status": "completed"
    },
    "tags": []
   },
   "outputs": [
    {
     "data": {
      "text/html": [
       "<div>\n",
       "<style scoped>\n",
       "    .dataframe tbody tr th:only-of-type {\n",
       "        vertical-align: middle;\n",
       "    }\n",
       "\n",
       "    .dataframe tbody tr th {\n",
       "        vertical-align: top;\n",
       "    }\n",
       "\n",
       "    .dataframe thead th {\n",
       "        text-align: right;\n",
       "    }\n",
       "</style>\n",
       "<table border=\"1\" class=\"dataframe\">\n",
       "  <thead>\n",
       "    <tr style=\"text-align: right;\">\n",
       "      <th></th>\n",
       "      <th>PassengerId</th>\n",
       "      <th>Survived</th>\n",
       "      <th>Pclass</th>\n",
       "      <th>Sex</th>\n",
       "      <th>Age</th>\n",
       "      <th>SibSp</th>\n",
       "      <th>Parch</th>\n",
       "      <th>Fare</th>\n",
       "      <th>Sex_data</th>\n",
       "      <th>Embarked_data</th>\n",
       "    </tr>\n",
       "  </thead>\n",
       "  <tbody>\n",
       "    <tr>\n",
       "      <th>PassengerId</th>\n",
       "      <td>1.000000</td>\n",
       "      <td>-0.005007</td>\n",
       "      <td>-0.035144</td>\n",
       "      <td>-0.042939</td>\n",
       "      <td>0.039529</td>\n",
       "      <td>-0.057527</td>\n",
       "      <td>-0.001652</td>\n",
       "      <td>0.012658</td>\n",
       "      <td>NaN</td>\n",
       "      <td>-0.030444</td>\n",
       "    </tr>\n",
       "    <tr>\n",
       "      <th>Survived</th>\n",
       "      <td>-0.005007</td>\n",
       "      <td>1.000000</td>\n",
       "      <td>-0.338481</td>\n",
       "      <td>0.543351</td>\n",
       "      <td>-0.060291</td>\n",
       "      <td>-0.035322</td>\n",
       "      <td>0.081629</td>\n",
       "      <td>0.257307</td>\n",
       "      <td>NaN</td>\n",
       "      <td>0.111203</td>\n",
       "    </tr>\n",
       "    <tr>\n",
       "      <th>Pclass</th>\n",
       "      <td>-0.035144</td>\n",
       "      <td>-0.338481</td>\n",
       "      <td>1.000000</td>\n",
       "      <td>-0.131900</td>\n",
       "      <td>-0.414682</td>\n",
       "      <td>0.083081</td>\n",
       "      <td>0.018443</td>\n",
       "      <td>-0.549500</td>\n",
       "      <td>NaN</td>\n",
       "      <td>0.040138</td>\n",
       "    </tr>\n",
       "    <tr>\n",
       "      <th>Sex</th>\n",
       "      <td>-0.042939</td>\n",
       "      <td>0.543351</td>\n",
       "      <td>-0.131900</td>\n",
       "      <td>1.000000</td>\n",
       "      <td>-0.104584</td>\n",
       "      <td>0.114631</td>\n",
       "      <td>0.245489</td>\n",
       "      <td>0.182333</td>\n",
       "      <td>NaN</td>\n",
       "      <td>0.121266</td>\n",
       "    </tr>\n",
       "    <tr>\n",
       "      <th>Age</th>\n",
       "      <td>0.039529</td>\n",
       "      <td>-0.060291</td>\n",
       "      <td>-0.414682</td>\n",
       "      <td>-0.104584</td>\n",
       "      <td>1.000000</td>\n",
       "      <td>-0.250248</td>\n",
       "      <td>-0.175708</td>\n",
       "      <td>0.123250</td>\n",
       "      <td>NaN</td>\n",
       "      <td>-0.053629</td>\n",
       "    </tr>\n",
       "    <tr>\n",
       "      <th>SibSp</th>\n",
       "      <td>-0.057527</td>\n",
       "      <td>-0.035322</td>\n",
       "      <td>0.083081</td>\n",
       "      <td>0.114631</td>\n",
       "      <td>-0.250248</td>\n",
       "      <td>1.000000</td>\n",
       "      <td>0.414838</td>\n",
       "      <td>0.159651</td>\n",
       "      <td>NaN</td>\n",
       "      <td>-0.061591</td>\n",
       "    </tr>\n",
       "    <tr>\n",
       "      <th>Parch</th>\n",
       "      <td>-0.001652</td>\n",
       "      <td>0.081629</td>\n",
       "      <td>0.018443</td>\n",
       "      <td>0.245489</td>\n",
       "      <td>-0.175708</td>\n",
       "      <td>0.414838</td>\n",
       "      <td>1.000000</td>\n",
       "      <td>0.216225</td>\n",
       "      <td>NaN</td>\n",
       "      <td>-0.080277</td>\n",
       "    </tr>\n",
       "    <tr>\n",
       "      <th>Fare</th>\n",
       "      <td>0.012658</td>\n",
       "      <td>0.257307</td>\n",
       "      <td>-0.549500</td>\n",
       "      <td>0.182333</td>\n",
       "      <td>0.123250</td>\n",
       "      <td>0.159651</td>\n",
       "      <td>0.216225</td>\n",
       "      <td>1.000000</td>\n",
       "      <td>NaN</td>\n",
       "      <td>0.065492</td>\n",
       "    </tr>\n",
       "    <tr>\n",
       "      <th>Sex_data</th>\n",
       "      <td>NaN</td>\n",
       "      <td>NaN</td>\n",
       "      <td>NaN</td>\n",
       "      <td>NaN</td>\n",
       "      <td>NaN</td>\n",
       "      <td>NaN</td>\n",
       "      <td>NaN</td>\n",
       "      <td>NaN</td>\n",
       "      <td>NaN</td>\n",
       "      <td>NaN</td>\n",
       "    </tr>\n",
       "    <tr>\n",
       "      <th>Embarked_data</th>\n",
       "      <td>-0.030444</td>\n",
       "      <td>0.111203</td>\n",
       "      <td>0.040138</td>\n",
       "      <td>0.121266</td>\n",
       "      <td>-0.053629</td>\n",
       "      <td>-0.061591</td>\n",
       "      <td>-0.080277</td>\n",
       "      <td>0.065492</td>\n",
       "      <td>NaN</td>\n",
       "      <td>1.000000</td>\n",
       "    </tr>\n",
       "  </tbody>\n",
       "</table>\n",
       "</div>"
      ],
      "text/plain": [
       "               PassengerId  Survived    Pclass       Sex       Age     SibSp  \\\n",
       "PassengerId       1.000000 -0.005007 -0.035144 -0.042939  0.039529 -0.057527   \n",
       "Survived         -0.005007  1.000000 -0.338481  0.543351 -0.060291 -0.035322   \n",
       "Pclass           -0.035144 -0.338481  1.000000 -0.131900 -0.414682  0.083081   \n",
       "Sex              -0.042939  0.543351 -0.131900  1.000000 -0.104584  0.114631   \n",
       "Age               0.039529 -0.060291 -0.414682 -0.104584  1.000000 -0.250248   \n",
       "SibSp            -0.057527 -0.035322  0.083081  0.114631 -0.250248  1.000000   \n",
       "Parch            -0.001652  0.081629  0.018443  0.245489 -0.175708  0.414838   \n",
       "Fare              0.012658  0.257307 -0.549500  0.182333  0.123250  0.159651   \n",
       "Sex_data               NaN       NaN       NaN       NaN       NaN       NaN   \n",
       "Embarked_data    -0.030444  0.111203  0.040138  0.121266 -0.053629 -0.061591   \n",
       "\n",
       "                  Parch      Fare  Sex_data  Embarked_data  \n",
       "PassengerId   -0.001652  0.012658       NaN      -0.030444  \n",
       "Survived       0.081629  0.257307       NaN       0.111203  \n",
       "Pclass         0.018443 -0.549500       NaN       0.040138  \n",
       "Sex            0.245489  0.182333       NaN       0.121266  \n",
       "Age           -0.175708  0.123250       NaN      -0.053629  \n",
       "SibSp          0.414838  0.159651       NaN      -0.061591  \n",
       "Parch          1.000000  0.216225       NaN      -0.080277  \n",
       "Fare           0.216225  1.000000       NaN       0.065492  \n",
       "Sex_data            NaN       NaN       NaN            NaN  \n",
       "Embarked_data -0.080277  0.065492       NaN       1.000000  "
      ]
     },
     "execution_count": 23,
     "metadata": {},
     "output_type": "execute_result"
    }
   ],
   "source": [
    "#Sex and Embarked columns to check if there's any correlation between them and the Survived data\n",
    "\n",
    "train_df['Sex_data'] = train_df['Sex'].map({'male': 1,'female': 0})\n",
    "train_df['Embarked_data'] = train_df['Embarked'].map({'S': 0,'C': 1, 'Q': 2})\n",
    "train_df.corr()"
   ]
  },
  {
   "cell_type": "code",
   "execution_count": 24,
   "metadata": {
    "execution": {
     "iopub.execute_input": "2020-11-02T21:01:53.300140Z",
     "iopub.status.busy": "2020-11-02T21:01:53.299413Z",
     "iopub.status.idle": "2020-11-02T21:01:53.557883Z",
     "shell.execute_reply": "2020-11-02T21:01:53.557262Z"
    },
    "papermill": {
     "duration": 0.329473,
     "end_time": "2020-11-02T21:01:53.557996",
     "exception": false,
     "start_time": "2020-11-02T21:01:53.228523",
     "status": "completed"
    },
    "tags": []
   },
   "outputs": [
    {
     "data": {
      "text/plain": [
       "Text(0.5, 1.0, 'Correlation')"
      ]
     },
     "execution_count": 24,
     "metadata": {},
     "output_type": "execute_result"
    },
    {
     "data": {
      "image/png": "[encoded data removed]",
      "text/plain": [
       "<Figure size 432x288 with 2 Axes>"
      ]
     },
     "metadata": {
      "needs_background": "light"
     },
     "output_type": "display_data"
    }
   ],
   "source": [
    "sns.heatmap(train_df.corr(), cmap='icefire')\n",
    "plt.title('Correlation', fontsize=24)\n",
    "#In our analysis we see a low correlation between embarked and sex."
   ]
  },
  {
   "cell_type": "code",
   "execution_count": 25,
   "metadata": {
    "execution": {
     "iopub.execute_input": "2020-11-02T21:01:53.697693Z",
     "iopub.status.busy": "2020-11-02T21:01:53.696438Z",
     "iopub.status.idle": "2020-11-02T21:01:53.700760Z",
     "shell.execute_reply": "2020-11-02T21:01:53.700160Z"
    },
    "papermill": {
     "duration": 0.077955,
     "end_time": "2020-11-02T21:01:53.700873",
     "exception": false,
     "start_time": "2020-11-02T21:01:53.622918",
     "status": "completed"
    },
    "tags": []
   },
   "outputs": [
    {
     "data": {
      "text/plain": [
       "0    549\n",
       "1    342\n",
       "Name: Survived, dtype: int64"
      ]
     },
     "execution_count": 25,
     "metadata": {},
     "output_type": "execute_result"
    }
   ],
   "source": [
    "#Visualization of 'Survived' (Target column)\n",
    "train_df.Survived.value_counts()"
   ]
  },
  {
   "cell_type": "code",
   "execution_count": 26,
   "metadata": {
    "execution": {
     "iopub.execute_input": "2020-11-02T21:01:53.850435Z",
     "iopub.status.busy": "2020-11-02T21:01:53.849408Z",
     "iopub.status.idle": "2020-11-02T21:01:53.956611Z",
     "shell.execute_reply": "2020-11-02T21:01:53.955899Z"
    },
    "papermill": {
     "duration": 0.189913,
     "end_time": "2020-11-02T21:01:53.956736",
     "exception": false,
     "start_time": "2020-11-02T21:01:53.766823",
     "status": "completed"
    },
    "tags": []
   },
   "outputs": [
    {
     "data": {
      "text/plain": [
       "Text(0, 0.5, 'Passenger Count')"
      ]
     },
     "execution_count": 26,
     "metadata": {},
     "output_type": "execute_result"
    },
    {
     "data": {
      "image/png": "[encoded data removed]",
      "text/plain": [
       "<Figure size 432x288 with 1 Axes>"
      ]
     },
     "metadata": {
      "needs_background": "light"
     },
     "output_type": "display_data"
    }
   ],
   "source": [
    "train = train_df.Survived.value_counts().plot(kind='bar')\n",
    "train.set_xlabel('Survived or not')\n",
    "train.set_ylabel('Passenger Count')\n"
   ]
  },
  {
   "cell_type": "markdown",
   "metadata": {
    "papermill": {
     "duration": 0.070783,
     "end_time": "2020-11-02T21:01:54.094819",
     "exception": false,
     "start_time": "2020-11-02T21:01:54.024036",
     "status": "completed"
    },
    "tags": []
   },
   "source": [
    "*Based on the information we have, we can see that only 342 people out of 891 passengers survived on our graph."
   ]
  },
  {
   "cell_type": "code",
   "execution_count": 27,
   "metadata": {
    "execution": {
     "iopub.execute_input": "2020-11-02T21:01:54.239098Z",
     "iopub.status.busy": "2020-11-02T21:01:54.236624Z",
     "iopub.status.idle": "2020-11-02T21:01:54.366001Z",
     "shell.execute_reply": "2020-11-02T21:01:54.365426Z"
    },
    "papermill": {
     "duration": 0.205916,
     "end_time": "2020-11-02T21:01:54.366152",
     "exception": false,
     "start_time": "2020-11-02T21:01:54.160236",
     "status": "completed"
    },
    "tags": []
   },
   "outputs": [
    {
     "data": {
      "text/plain": [
       "Text(0, 0.5, 'Survival Probability')"
      ]
     },
     "execution_count": 27,
     "metadata": {},
     "output_type": "execute_result"
    },
    {
     "data": {
      "image/png": "[encoded data removed]",
      "text/plain": [
       "<Figure size 432x288 with 1 Axes>"
      ]
     },
     "metadata": {
      "needs_background": "light"
     },
     "output_type": "display_data"
    }
   ],
   "source": [
    "train = train_df[['Pclass', 'Survived']].groupby('Pclass').mean().Survived.plot(kind='bar')\n",
    "train.set_xlabel('Pclass')\n",
    "train.set_ylabel('Survival Probability')"
   ]
  },
  {
   "cell_type": "markdown",
   "metadata": {
    "papermill": {
     "duration": 0.06781,
     "end_time": "2020-11-02T21:01:54.506013",
     "exception": false,
     "start_time": "2020-11-02T21:01:54.438203",
     "status": "completed"
    },
    "tags": []
   },
   "source": [
    "*Based on the information we have, we can see that first class has the most survived passengers."
   ]
  },
  {
   "cell_type": "code",
   "execution_count": 28,
   "metadata": {
    "execution": {
     "iopub.execute_input": "2020-11-02T21:01:54.653882Z",
     "iopub.status.busy": "2020-11-02T21:01:54.652954Z",
     "iopub.status.idle": "2020-11-02T21:01:54.799570Z",
     "shell.execute_reply": "2020-11-02T21:01:54.798961Z"
    },
    "papermill": {
     "duration": 0.223519,
     "end_time": "2020-11-02T21:01:54.799697",
     "exception": false,
     "start_time": "2020-11-02T21:01:54.576178",
     "status": "completed"
    },
    "tags": []
   },
   "outputs": [
    {
     "data": {
      "text/plain": [
       "<AxesSubplot:xlabel='Sex'>"
      ]
     },
     "execution_count": 28,
     "metadata": {},
     "output_type": "execute_result"
    },
    {
     "data": {
      "image/png": "[encoded data removed]",
      "text/plain": [
       "<Figure size 432x288 with 1 Axes>"
      ]
     },
     "metadata": {
      "needs_background": "light"
     },
     "output_type": "display_data"
    }
   ],
   "source": [
    "#Survival per Age/Sex\n",
    "grouped_by_sex = train_df.groupby([\"Sex\"])[\"Survived\"].value_counts()\n",
    "grouped_by_sex.unstack().plot.bar(stacked=True, color=['#99CCFF', '#BCE2C8'], rot=0)"
   ]
  },
  {
   "cell_type": "markdown",
   "metadata": {
    "papermill": {
     "duration": 0.068069,
     "end_time": "2020-11-02T21:01:54.943233",
     "exception": false,
     "start_time": "2020-11-02T21:01:54.875164",
     "status": "completed"
    },
    "tags": []
   },
   "source": [
    "> <a id='ml'></a>\n",
    "## Applying Several ML Algorithms"
   ]
  },
  {
   "cell_type": "markdown",
   "metadata": {
    "papermill": {
     "duration": 0.068258,
     "end_time": "2020-11-02T21:01:55.084584",
     "exception": false,
     "start_time": "2020-11-02T21:01:55.016326",
     "status": "completed"
    },
    "tags": []
   },
   "source": [
    "### Before the start Ml apply we will change the columns into the numerical values. And we will edit test data to get better predict."
   ]
  },
  {
   "cell_type": "code",
   "execution_count": 29,
   "metadata": {
    "execution": {
     "iopub.execute_input": "2020-11-02T21:01:55.229228Z",
     "iopub.status.busy": "2020-11-02T21:01:55.228486Z",
     "iopub.status.idle": "2020-11-02T21:01:55.249848Z",
     "shell.execute_reply": "2020-11-02T21:01:55.248931Z"
    },
    "papermill": {
     "duration": 0.098215,
     "end_time": "2020-11-02T21:01:55.250083",
     "exception": false,
     "start_time": "2020-11-02T21:01:55.151868",
     "status": "completed"
    },
    "tags": []
   },
   "outputs": [
    {
     "data": {
      "text/html": [
       "<div>\n",
       "<style scoped>\n",
       "    .dataframe tbody tr th:only-of-type {\n",
       "        vertical-align: middle;\n",
       "    }\n",
       "\n",
       "    .dataframe tbody tr th {\n",
       "        vertical-align: top;\n",
       "    }\n",
       "\n",
       "    .dataframe thead th {\n",
       "        text-align: right;\n",
       "    }\n",
       "</style>\n",
       "<table border=\"1\" class=\"dataframe\">\n",
       "  <thead>\n",
       "    <tr style=\"text-align: right;\">\n",
       "      <th></th>\n",
       "      <th>PassengerId</th>\n",
       "      <th>Pclass</th>\n",
       "      <th>Name</th>\n",
       "      <th>Sex</th>\n",
       "      <th>Age</th>\n",
       "      <th>SibSp</th>\n",
       "      <th>Parch</th>\n",
       "      <th>Ticket</th>\n",
       "      <th>Fare</th>\n",
       "      <th>Cabin</th>\n",
       "      <th>Embarked</th>\n",
       "    </tr>\n",
       "  </thead>\n",
       "  <tbody>\n",
       "    <tr>\n",
       "      <th>0</th>\n",
       "      <td>892</td>\n",
       "      <td>3</td>\n",
       "      <td>Kelly, Mr. James</td>\n",
       "      <td>male</td>\n",
       "      <td>34.5</td>\n",
       "      <td>0</td>\n",
       "      <td>0</td>\n",
       "      <td>330911</td>\n",
       "      <td>7.8292</td>\n",
       "      <td>NaN</td>\n",
       "      <td>Q</td>\n",
       "    </tr>\n",
       "    <tr>\n",
       "      <th>1</th>\n",
       "      <td>893</td>\n",
       "      <td>3</td>\n",
       "      <td>Wilkes, Mrs. James (Ellen Needs)</td>\n",
       "      <td>female</td>\n",
       "      <td>47.0</td>\n",
       "      <td>1</td>\n",
       "      <td>0</td>\n",
       "      <td>363272</td>\n",
       "      <td>7.0000</td>\n",
       "      <td>NaN</td>\n",
       "      <td>S</td>\n",
       "    </tr>\n",
       "    <tr>\n",
       "      <th>2</th>\n",
       "      <td>894</td>\n",
       "      <td>2</td>\n",
       "      <td>Myles, Mr. Thomas Francis</td>\n",
       "      <td>male</td>\n",
       "      <td>62.0</td>\n",
       "      <td>0</td>\n",
       "      <td>0</td>\n",
       "      <td>240276</td>\n",
       "      <td>9.6875</td>\n",
       "      <td>NaN</td>\n",
       "      <td>Q</td>\n",
       "    </tr>\n",
       "    <tr>\n",
       "      <th>3</th>\n",
       "      <td>895</td>\n",
       "      <td>3</td>\n",
       "      <td>Wirz, Mr. Albert</td>\n",
       "      <td>male</td>\n",
       "      <td>27.0</td>\n",
       "      <td>0</td>\n",
       "      <td>0</td>\n",
       "      <td>315154</td>\n",
       "      <td>8.6625</td>\n",
       "      <td>NaN</td>\n",
       "      <td>S</td>\n",
       "    </tr>\n",
       "    <tr>\n",
       "      <th>4</th>\n",
       "      <td>896</td>\n",
       "      <td>3</td>\n",
       "      <td>Hirvonen, Mrs. Alexander (Helga E Lindqvist)</td>\n",
       "      <td>female</td>\n",
       "      <td>22.0</td>\n",
       "      <td>1</td>\n",
       "      <td>1</td>\n",
       "      <td>3101298</td>\n",
       "      <td>12.2875</td>\n",
       "      <td>NaN</td>\n",
       "      <td>S</td>\n",
       "    </tr>\n",
       "  </tbody>\n",
       "</table>\n",
       "</div>"
      ],
      "text/plain": [
       "   PassengerId  Pclass                                          Name     Sex  \\\n",
       "0          892       3                              Kelly, Mr. James    male   \n",
       "1          893       3              Wilkes, Mrs. James (Ellen Needs)  female   \n",
       "2          894       2                     Myles, Mr. Thomas Francis    male   \n",
       "3          895       3                              Wirz, Mr. Albert    male   \n",
       "4          896       3  Hirvonen, Mrs. Alexander (Helga E Lindqvist)  female   \n",
       "\n",
       "    Age  SibSp  Parch   Ticket     Fare Cabin Embarked  \n",
       "0  34.5      0      0   330911   7.8292   NaN        Q  \n",
       "1  47.0      1      0   363272   7.0000   NaN        S  \n",
       "2  62.0      0      0   240276   9.6875   NaN        Q  \n",
       "3  27.0      0      0   315154   8.6625   NaN        S  \n",
       "4  22.0      1      1  3101298  12.2875   NaN        S  "
      ]
     },
     "execution_count": 29,
     "metadata": {},
     "output_type": "execute_result"
    }
   ],
   "source": [
    "# Let's read Test Data and look our train data that we edited in EDA section.\n",
    "test_df = pd.read_csv(\"test.csv\")\n",
    "test_df.head()"
   ]
  },
  {
   "cell_type": "code",
   "execution_count": 30,
   "metadata": {
    "execution": {
     "iopub.execute_input": "2020-11-02T21:01:55.413998Z",
     "iopub.status.busy": "2020-11-02T21:01:55.413198Z",
     "iopub.status.idle": "2020-11-02T21:01:55.418888Z",
     "shell.execute_reply": "2020-11-02T21:01:55.418347Z"
    },
    "papermill": {
     "duration": 0.10012,
     "end_time": "2020-11-02T21:01:55.419004",
     "exception": false,
     "start_time": "2020-11-02T21:01:55.318884",
     "status": "completed"
    },
    "tags": []
   },
   "outputs": [
    {
     "data": {
      "text/html": [
       "<div>\n",
       "<style scoped>\n",
       "    .dataframe tbody tr th:only-of-type {\n",
       "        vertical-align: middle;\n",
       "    }\n",
       "\n",
       "    .dataframe tbody tr th {\n",
       "        vertical-align: top;\n",
       "    }\n",
       "\n",
       "    .dataframe thead th {\n",
       "        text-align: right;\n",
       "    }\n",
       "</style>\n",
       "<table border=\"1\" class=\"dataframe\">\n",
       "  <thead>\n",
       "    <tr style=\"text-align: right;\">\n",
       "      <th></th>\n",
       "      <th>PassengerId</th>\n",
       "      <th>Survived</th>\n",
       "      <th>Pclass</th>\n",
       "      <th>Name</th>\n",
       "      <th>Sex</th>\n",
       "      <th>Age</th>\n",
       "      <th>SibSp</th>\n",
       "      <th>Parch</th>\n",
       "      <th>Fare</th>\n",
       "      <th>Embarked</th>\n",
       "      <th>Age_Range</th>\n",
       "      <th>Sex_data</th>\n",
       "      <th>Embarked_data</th>\n",
       "    </tr>\n",
       "  </thead>\n",
       "  <tbody>\n",
       "    <tr>\n",
       "      <th>0</th>\n",
       "      <td>1</td>\n",
       "      <td>0</td>\n",
       "      <td>3</td>\n",
       "      <td>Braund, Mr. Owen Harris</td>\n",
       "      <td>0</td>\n",
       "      <td>22</td>\n",
       "      <td>1</td>\n",
       "      <td>0</td>\n",
       "      <td>7.2500</td>\n",
       "      <td>S</td>\n",
       "      <td>18-29</td>\n",
       "      <td>NaN</td>\n",
       "      <td>0</td>\n",
       "    </tr>\n",
       "    <tr>\n",
       "      <th>1</th>\n",
       "      <td>2</td>\n",
       "      <td>1</td>\n",
       "      <td>1</td>\n",
       "      <td>Cumings, Mrs. John Bradley (Florence Briggs Th...</td>\n",
       "      <td>1</td>\n",
       "      <td>38</td>\n",
       "      <td>1</td>\n",
       "      <td>0</td>\n",
       "      <td>71.2833</td>\n",
       "      <td>C</td>\n",
       "      <td>30-39</td>\n",
       "      <td>NaN</td>\n",
       "      <td>1</td>\n",
       "    </tr>\n",
       "    <tr>\n",
       "      <th>2</th>\n",
       "      <td>3</td>\n",
       "      <td>1</td>\n",
       "      <td>3</td>\n",
       "      <td>Heikkinen, Miss. Laina</td>\n",
       "      <td>1</td>\n",
       "      <td>26</td>\n",
       "      <td>0</td>\n",
       "      <td>0</td>\n",
       "      <td>7.9250</td>\n",
       "      <td>S</td>\n",
       "      <td>18-29</td>\n",
       "      <td>NaN</td>\n",
       "      <td>0</td>\n",
       "    </tr>\n",
       "    <tr>\n",
       "      <th>3</th>\n",
       "      <td>4</td>\n",
       "      <td>1</td>\n",
       "      <td>1</td>\n",
       "      <td>Futrelle, Mrs. Jacques Heath (Lily May Peel)</td>\n",
       "      <td>1</td>\n",
       "      <td>35</td>\n",
       "      <td>1</td>\n",
       "      <td>0</td>\n",
       "      <td>53.1000</td>\n",
       "      <td>S</td>\n",
       "      <td>30-39</td>\n",
       "      <td>NaN</td>\n",
       "      <td>0</td>\n",
       "    </tr>\n",
       "    <tr>\n",
       "      <th>4</th>\n",
       "      <td>5</td>\n",
       "      <td>0</td>\n",
       "      <td>3</td>\n",
       "      <td>Allen, Mr. William Henry</td>\n",
       "      <td>0</td>\n",
       "      <td>35</td>\n",
       "      <td>0</td>\n",
       "      <td>0</td>\n",
       "      <td>8.0500</td>\n",
       "      <td>S</td>\n",
       "      <td>30-39</td>\n",
       "      <td>NaN</td>\n",
       "      <td>0</td>\n",
       "    </tr>\n",
       "    <tr>\n",
       "      <th>...</th>\n",
       "      <td>...</td>\n",
       "      <td>...</td>\n",
       "      <td>...</td>\n",
       "      <td>...</td>\n",
       "      <td>...</td>\n",
       "      <td>...</td>\n",
       "      <td>...</td>\n",
       "      <td>...</td>\n",
       "      <td>...</td>\n",
       "      <td>...</td>\n",
       "      <td>...</td>\n",
       "      <td>...</td>\n",
       "      <td>...</td>\n",
       "    </tr>\n",
       "    <tr>\n",
       "      <th>886</th>\n",
       "      <td>887</td>\n",
       "      <td>0</td>\n",
       "      <td>2</td>\n",
       "      <td>Montvila, Rev. Juozas</td>\n",
       "      <td>0</td>\n",
       "      <td>27</td>\n",
       "      <td>0</td>\n",
       "      <td>0</td>\n",
       "      <td>13.0000</td>\n",
       "      <td>S</td>\n",
       "      <td>18-29</td>\n",
       "      <td>NaN</td>\n",
       "      <td>0</td>\n",
       "    </tr>\n",
       "    <tr>\n",
       "      <th>887</th>\n",
       "      <td>888</td>\n",
       "      <td>1</td>\n",
       "      <td>1</td>\n",
       "      <td>Graham, Miss. Margaret Edith</td>\n",
       "      <td>1</td>\n",
       "      <td>19</td>\n",
       "      <td>0</td>\n",
       "      <td>0</td>\n",
       "      <td>30.0000</td>\n",
       "      <td>S</td>\n",
       "      <td>18-29</td>\n",
       "      <td>NaN</td>\n",
       "      <td>0</td>\n",
       "    </tr>\n",
       "    <tr>\n",
       "      <th>888</th>\n",
       "      <td>889</td>\n",
       "      <td>0</td>\n",
       "      <td>3</td>\n",
       "      <td>Johnston, Miss. Catherine Helen \"Carrie\"</td>\n",
       "      <td>1</td>\n",
       "      <td>21</td>\n",
       "      <td>1</td>\n",
       "      <td>2</td>\n",
       "      <td>23.4500</td>\n",
       "      <td>S</td>\n",
       "      <td>18-29</td>\n",
       "      <td>NaN</td>\n",
       "      <td>0</td>\n",
       "    </tr>\n",
       "    <tr>\n",
       "      <th>889</th>\n",
       "      <td>890</td>\n",
       "      <td>1</td>\n",
       "      <td>1</td>\n",
       "      <td>Behr, Mr. Karl Howell</td>\n",
       "      <td>0</td>\n",
       "      <td>26</td>\n",
       "      <td>0</td>\n",
       "      <td>0</td>\n",
       "      <td>30.0000</td>\n",
       "      <td>C</td>\n",
       "      <td>18-29</td>\n",
       "      <td>NaN</td>\n",
       "      <td>1</td>\n",
       "    </tr>\n",
       "    <tr>\n",
       "      <th>890</th>\n",
       "      <td>891</td>\n",
       "      <td>0</td>\n",
       "      <td>3</td>\n",
       "      <td>Dooley, Mr. Patrick</td>\n",
       "      <td>0</td>\n",
       "      <td>32</td>\n",
       "      <td>0</td>\n",
       "      <td>0</td>\n",
       "      <td>7.7500</td>\n",
       "      <td>Q</td>\n",
       "      <td>30-39</td>\n",
       "      <td>NaN</td>\n",
       "      <td>2</td>\n",
       "    </tr>\n",
       "  </tbody>\n",
       "</table>\n",
       "<p>891 rows × 13 columns</p>\n",
       "</div>"
      ],
      "text/plain": [
       "     PassengerId  Survived  Pclass  \\\n",
       "0              1         0       3   \n",
       "1              2         1       1   \n",
       "2              3         1       3   \n",
       "3              4         1       1   \n",
       "4              5         0       3   \n",
       "..           ...       ...     ...   \n",
       "886          887         0       2   \n",
       "887          888         1       1   \n",
       "888          889         0       3   \n",
       "889          890         1       1   \n",
       "890          891         0       3   \n",
       "\n",
       "                                                  Name  Sex  Age  SibSp  \\\n",
       "0                              Braund, Mr. Owen Harris    0   22      1   \n",
       "1    Cumings, Mrs. John Bradley (Florence Briggs Th...    1   38      1   \n",
       "2                               Heikkinen, Miss. Laina    1   26      0   \n",
       "3         Futrelle, Mrs. Jacques Heath (Lily May Peel)    1   35      1   \n",
       "4                             Allen, Mr. William Henry    0   35      0   \n",
       "..                                                 ...  ...  ...    ...   \n",
       "886                              Montvila, Rev. Juozas    0   27      0   \n",
       "887                       Graham, Miss. Margaret Edith    1   19      0   \n",
       "888           Johnston, Miss. Catherine Helen \"Carrie\"    1   21      1   \n",
       "889                              Behr, Mr. Karl Howell    0   26      0   \n",
       "890                                Dooley, Mr. Patrick    0   32      0   \n",
       "\n",
       "     Parch     Fare Embarked Age_Range  Sex_data  Embarked_data  \n",
       "0        0   7.2500        S     18-29       NaN              0  \n",
       "1        0  71.2833        C     30-39       NaN              1  \n",
       "2        0   7.9250        S     18-29       NaN              0  \n",
       "3        0  53.1000        S     30-39       NaN              0  \n",
       "4        0   8.0500        S     30-39       NaN              0  \n",
       "..     ...      ...      ...       ...       ...            ...  \n",
       "886      0  13.0000        S     18-29       NaN              0  \n",
       "887      0  30.0000        S     18-29       NaN              0  \n",
       "888      2  23.4500        S     18-29       NaN              0  \n",
       "889      0  30.0000        C     18-29       NaN              1  \n",
       "890      0   7.7500        Q     30-39       NaN              2  \n",
       "\n",
       "[891 rows x 13 columns]"
      ]
     },
     "execution_count": 30,
     "metadata": {},
     "output_type": "execute_result"
    }
   ],
   "source": [
    "train_df"
   ]
  },
  {
   "cell_type": "code",
   "execution_count": 31,
   "metadata": {
    "execution": {
     "iopub.execute_input": "2020-11-02T21:01:55.570465Z",
     "iopub.status.busy": "2020-11-02T21:01:55.569466Z",
     "iopub.status.idle": "2020-11-02T21:01:55.572126Z",
     "shell.execute_reply": "2020-11-02T21:01:55.572612Z"
    },
    "papermill": {
     "duration": 0.0816,
     "end_time": "2020-11-02T21:01:55.572754",
     "exception": false,
     "start_time": "2020-11-02T21:01:55.491154",
     "status": "completed"
    },
    "tags": []
   },
   "outputs": [],
   "source": [
    "# Delete some columns that are we will not use\n",
    "train_df = train_df.drop(['Sex_data'], axis=1)\n",
    "test_df = test_df.drop(['Ticket', 'Cabin'], axis=1)"
   ]
  },
  {
   "cell_type": "code",
   "execution_count": 32,
   "metadata": {
    "execution": {
     "iopub.execute_input": "2020-11-02T21:01:55.727736Z",
     "iopub.status.busy": "2020-11-02T21:01:55.726823Z",
     "iopub.status.idle": "2020-11-02T21:01:55.730006Z",
     "shell.execute_reply": "2020-11-02T21:01:55.730621Z"
    },
    "papermill": {
     "duration": 0.087855,
     "end_time": "2020-11-02T21:01:55.730760",
     "exception": false,
     "start_time": "2020-11-02T21:01:55.642905",
     "status": "completed"
    },
    "tags": []
   },
   "outputs": [
    {
     "name": "stdout",
     "output_type": "stream",
     "text": [
      "<class 'pandas.core.frame.DataFrame'>\n",
      "RangeIndex: 418 entries, 0 to 417\n",
      "Data columns (total 9 columns):\n",
      " #   Column       Non-Null Count  Dtype  \n",
      "---  ------       --------------  -----  \n",
      " 0   PassengerId  418 non-null    int64  \n",
      " 1   Pclass       418 non-null    int64  \n",
      " 2   Name         418 non-null    object \n",
      " 3   Sex          418 non-null    object \n",
      " 4   Age          332 non-null    float64\n",
      " 5   SibSp        418 non-null    int64  \n",
      " 6   Parch        418 non-null    int64  \n",
      " 7   Fare         417 non-null    float64\n",
      " 8   Embarked     418 non-null    object \n",
      "dtypes: float64(2), int64(4), object(3)\n",
      "memory usage: 29.5+ KB\n"
     ]
    }
   ],
   "source": [
    "# Let's look at missings columns for test data \n",
    "test_df.info()"
   ]
  },
  {
   "cell_type": "code",
   "execution_count": 33,
   "metadata": {
    "execution": {
     "iopub.execute_input": "2020-11-02T21:01:55.895360Z",
     "iopub.status.busy": "2020-11-02T21:01:55.894410Z",
     "iopub.status.idle": "2020-11-02T21:01:55.898114Z",
     "shell.execute_reply": "2020-11-02T21:01:55.897435Z"
    },
    "papermill": {
     "duration": 0.0971,
     "end_time": "2020-11-02T21:01:55.898268",
     "exception": false,
     "start_time": "2020-11-02T21:01:55.801168",
     "status": "completed"
    },
    "tags": []
   },
   "outputs": [],
   "source": [
    "# Call our function to fill age column as the same way\n",
    "test_df['Sex'] = test_df['Sex'].map( {'female': 1, 'male': 0} ).astype(int)\n",
    "find_ages(test_df)"
   ]
  },
  {
   "cell_type": "code",
   "execution_count": 34,
   "metadata": {
    "execution": {
     "iopub.execute_input": "2020-11-02T21:01:56.064851Z",
     "iopub.status.busy": "2020-11-02T21:01:56.063869Z",
     "iopub.status.idle": "2020-11-02T21:01:56.068469Z",
     "shell.execute_reply": "2020-11-02T21:01:56.067894Z"
    },
    "papermill": {
     "duration": 0.099276,
     "end_time": "2020-11-02T21:01:56.068590",
     "exception": false,
     "start_time": "2020-11-02T21:01:55.969314",
     "status": "completed"
    },
    "tags": []
   },
   "outputs": [
    {
     "data": {
      "text/html": [
       "<div>\n",
       "<style scoped>\n",
       "    .dataframe tbody tr th:only-of-type {\n",
       "        vertical-align: middle;\n",
       "    }\n",
       "\n",
       "    .dataframe tbody tr th {\n",
       "        vertical-align: top;\n",
       "    }\n",
       "\n",
       "    .dataframe thead th {\n",
       "        text-align: right;\n",
       "    }\n",
       "</style>\n",
       "<table border=\"1\" class=\"dataframe\">\n",
       "  <thead>\n",
       "    <tr style=\"text-align: right;\">\n",
       "      <th></th>\n",
       "      <th>PassengerId</th>\n",
       "      <th>Pclass</th>\n",
       "      <th>Name</th>\n",
       "      <th>Sex</th>\n",
       "      <th>Age</th>\n",
       "      <th>SibSp</th>\n",
       "      <th>Parch</th>\n",
       "      <th>Fare</th>\n",
       "      <th>Embarked</th>\n",
       "    </tr>\n",
       "  </thead>\n",
       "  <tbody>\n",
       "    <tr>\n",
       "      <th>152</th>\n",
       "      <td>1044</td>\n",
       "      <td>3</td>\n",
       "      <td>Storey, Mr. Thomas</td>\n",
       "      <td>0</td>\n",
       "      <td>60</td>\n",
       "      <td>0</td>\n",
       "      <td>0</td>\n",
       "      <td>NaN</td>\n",
       "      <td>S</td>\n",
       "    </tr>\n",
       "  </tbody>\n",
       "</table>\n",
       "</div>"
      ],
      "text/plain": [
       "     PassengerId  Pclass                Name  Sex  Age  SibSp  Parch  Fare  \\\n",
       "152         1044       3  Storey, Mr. Thomas    0   60      0      0   NaN   \n",
       "\n",
       "    Embarked  \n",
       "152        S  "
      ]
     },
     "execution_count": 34,
     "metadata": {},
     "output_type": "execute_result"
    }
   ],
   "source": [
    "test_df[test_df.isna().any(axis=1)].head()"
   ]
  },
  {
   "cell_type": "code",
   "execution_count": 35,
   "metadata": {
    "execution": {
     "iopub.execute_input": "2020-11-02T21:01:56.224531Z",
     "iopub.status.busy": "2020-11-02T21:01:56.223491Z",
     "iopub.status.idle": "2020-11-02T21:01:56.226610Z",
     "shell.execute_reply": "2020-11-02T21:01:56.225966Z"
    },
    "papermill": {
     "duration": 0.082436,
     "end_time": "2020-11-02T21:01:56.226740",
     "exception": false,
     "start_time": "2020-11-02T21:01:56.144304",
     "status": "completed"
    },
    "tags": []
   },
   "outputs": [],
   "source": [
    "df_new = test_df[test_df[\"Pclass\"] == 3]\n",
    "fare_median = df_new[\"Fare\"].median()\n",
    "\n",
    "test_df[\"Fare\"] = test_df[\"Fare\"].fillna(fare_median) "
   ]
  },
  {
   "cell_type": "code",
   "execution_count": 36,
   "metadata": {
    "execution": {
     "iopub.execute_input": "2020-11-02T21:01:56.387749Z",
     "iopub.status.busy": "2020-11-02T21:01:56.386931Z",
     "iopub.status.idle": "2020-11-02T21:01:56.391262Z",
     "shell.execute_reply": "2020-11-02T21:01:56.390518Z"
    },
    "papermill": {
     "duration": 0.088913,
     "end_time": "2020-11-02T21:01:56.391411",
     "exception": false,
     "start_time": "2020-11-02T21:01:56.302498",
     "status": "completed"
    },
    "tags": []
   },
   "outputs": [
    {
     "name": "stdout",
     "output_type": "stream",
     "text": [
      "<class 'pandas.core.frame.DataFrame'>\n",
      "RangeIndex: 418 entries, 0 to 417\n",
      "Data columns (total 9 columns):\n",
      " #   Column       Non-Null Count  Dtype  \n",
      "---  ------       --------------  -----  \n",
      " 0   PassengerId  418 non-null    int64  \n",
      " 1   Pclass       418 non-null    int64  \n",
      " 2   Name         418 non-null    object \n",
      " 3   Sex          418 non-null    int64  \n",
      " 4   Age          418 non-null    int64  \n",
      " 5   SibSp        418 non-null    int64  \n",
      " 6   Parch        418 non-null    int64  \n",
      " 7   Fare         418 non-null    float64\n",
      " 8   Embarked     418 non-null    object \n",
      "dtypes: float64(1), int64(6), object(2)\n",
      "memory usage: 29.5+ KB\n"
     ]
    }
   ],
   "source": [
    "test_df.info()"
   ]
  },
  {
   "cell_type": "code",
   "execution_count": 37,
   "metadata": {
    "execution": {
     "iopub.execute_input": "2020-11-02T21:01:56.568942Z",
     "iopub.status.busy": "2020-11-02T21:01:56.568273Z",
     "iopub.status.idle": "2020-11-02T21:01:56.570627Z",
     "shell.execute_reply": "2020-11-02T21:01:56.571096Z"
    },
    "papermill": {
     "duration": 0.102431,
     "end_time": "2020-11-02T21:01:56.571255",
     "exception": false,
     "start_time": "2020-11-02T21:01:56.468824",
     "status": "completed"
    },
    "tags": []
   },
   "outputs": [],
   "source": [
    "# Add to title columns it will effect our model\n",
    "def add_title(df):\n",
    "    df['Title'] = df.Name.str.extract(' ([A-Za-z]+)\\.', expand=False)\n",
    "    df['Title'] = df['Title'].replace(['Lady', 'Countess','Capt', 'Col','Don', 'Dr', 'Major', 'Rev', 'Sir', 'Jonkheer', 'Dona'], 'Rare')\n",
    "\n",
    "    df['Title'] = df['Title'].replace('Mlle', 'Miss')\n",
    "    df['Title'] = df['Title'].replace('Ms', 'Miss')\n",
    "    df['Title'] = df['Title'].replace('Mme', 'Mrs')\n",
    "\n",
    "add_title(train_df)\n",
    "add_title(test_df)\n"
   ]
  },
  {
   "cell_type": "code",
   "execution_count": 38,
   "metadata": {
    "execution": {
     "iopub.execute_input": "2020-11-02T21:01:56.738017Z",
     "iopub.status.busy": "2020-11-02T21:01:56.737230Z",
     "iopub.status.idle": "2020-11-02T21:01:56.740341Z",
     "shell.execute_reply": "2020-11-02T21:01:56.739690Z"
    },
    "papermill": {
     "duration": 0.090061,
     "end_time": "2020-11-02T21:01:56.740464",
     "exception": false,
     "start_time": "2020-11-02T21:01:56.650403",
     "status": "completed"
    },
    "tags": []
   },
   "outputs": [],
   "source": [
    "# Make numerical value for title \n",
    "def num_title(df):\n",
    "    title_mapping = {\"Mr\": 1, \"Miss\": 2, \"Mrs\": 3, \"Master\": 4, \"Rare\": 5}\n",
    "\n",
    "    df['Title'] = df['Title'].map(title_mapping)\n",
    "    df['Title'] = df['Title'].fillna(0)\n",
    "\n",
    "num_title(train_df)\n",
    "num_title(test_df)"
   ]
  },
  {
   "cell_type": "code",
   "execution_count": 39,
   "metadata": {
    "execution": {
     "iopub.execute_input": "2020-11-02T21:01:56.899298Z",
     "iopub.status.busy": "2020-11-02T21:01:56.898625Z",
     "iopub.status.idle": "2020-11-02T21:01:56.915670Z",
     "shell.execute_reply": "2020-11-02T21:01:56.914781Z"
    },
    "papermill": {
     "duration": 0.099816,
     "end_time": "2020-11-02T21:01:56.915800",
     "exception": false,
     "start_time": "2020-11-02T21:01:56.815984",
     "status": "completed"
    },
    "tags": []
   },
   "outputs": [
    {
     "data": {
      "text/html": [
       "<div>\n",
       "<style scoped>\n",
       "    .dataframe tbody tr th:only-of-type {\n",
       "        vertical-align: middle;\n",
       "    }\n",
       "\n",
       "    .dataframe tbody tr th {\n",
       "        vertical-align: top;\n",
       "    }\n",
       "\n",
       "    .dataframe thead th {\n",
       "        text-align: right;\n",
       "    }\n",
       "</style>\n",
       "<table border=\"1\" class=\"dataframe\">\n",
       "  <thead>\n",
       "    <tr style=\"text-align: right;\">\n",
       "      <th></th>\n",
       "      <th>PassengerId</th>\n",
       "      <th>Survived</th>\n",
       "      <th>Pclass</th>\n",
       "      <th>Sex</th>\n",
       "      <th>Age</th>\n",
       "      <th>SibSp</th>\n",
       "      <th>Parch</th>\n",
       "      <th>Fare</th>\n",
       "      <th>Embarked_data</th>\n",
       "      <th>Title</th>\n",
       "    </tr>\n",
       "  </thead>\n",
       "  <tbody>\n",
       "    <tr>\n",
       "      <th>PassengerId</th>\n",
       "      <td>1.000000</td>\n",
       "      <td>-0.005007</td>\n",
       "      <td>-0.035144</td>\n",
       "      <td>-0.042939</td>\n",
       "      <td>0.039529</td>\n",
       "      <td>-0.057527</td>\n",
       "      <td>-0.001652</td>\n",
       "      <td>0.012658</td>\n",
       "      <td>-0.030444</td>\n",
       "      <td>0.003878</td>\n",
       "    </tr>\n",
       "    <tr>\n",
       "      <th>Survived</th>\n",
       "      <td>-0.005007</td>\n",
       "      <td>1.000000</td>\n",
       "      <td>-0.338481</td>\n",
       "      <td>0.543351</td>\n",
       "      <td>-0.060291</td>\n",
       "      <td>-0.035322</td>\n",
       "      <td>0.081629</td>\n",
       "      <td>0.257307</td>\n",
       "      <td>0.111203</td>\n",
       "      <td>0.407753</td>\n",
       "    </tr>\n",
       "    <tr>\n",
       "      <th>Pclass</th>\n",
       "      <td>-0.035144</td>\n",
       "      <td>-0.338481</td>\n",
       "      <td>1.000000</td>\n",
       "      <td>-0.131900</td>\n",
       "      <td>-0.414682</td>\n",
       "      <td>0.083081</td>\n",
       "      <td>0.018443</td>\n",
       "      <td>-0.549500</td>\n",
       "      <td>0.040138</td>\n",
       "      <td>-0.173929</td>\n",
       "    </tr>\n",
       "    <tr>\n",
       "      <th>Sex</th>\n",
       "      <td>-0.042939</td>\n",
       "      <td>0.543351</td>\n",
       "      <td>-0.131900</td>\n",
       "      <td>1.000000</td>\n",
       "      <td>-0.104584</td>\n",
       "      <td>0.114631</td>\n",
       "      <td>0.245489</td>\n",
       "      <td>0.182333</td>\n",
       "      <td>0.121266</td>\n",
       "      <td>0.502713</td>\n",
       "    </tr>\n",
       "    <tr>\n",
       "      <th>Age</th>\n",
       "      <td>0.039529</td>\n",
       "      <td>-0.060291</td>\n",
       "      <td>-0.414682</td>\n",
       "      <td>-0.104584</td>\n",
       "      <td>1.000000</td>\n",
       "      <td>-0.250248</td>\n",
       "      <td>-0.175708</td>\n",
       "      <td>0.123250</td>\n",
       "      <td>-0.053629</td>\n",
       "      <td>-0.093425</td>\n",
       "    </tr>\n",
       "    <tr>\n",
       "      <th>SibSp</th>\n",
       "      <td>-0.057527</td>\n",
       "      <td>-0.035322</td>\n",
       "      <td>0.083081</td>\n",
       "      <td>0.114631</td>\n",
       "      <td>-0.250248</td>\n",
       "      <td>1.000000</td>\n",
       "      <td>0.414838</td>\n",
       "      <td>0.159651</td>\n",
       "      <td>-0.061591</td>\n",
       "      <td>0.269623</td>\n",
       "    </tr>\n",
       "    <tr>\n",
       "      <th>Parch</th>\n",
       "      <td>-0.001652</td>\n",
       "      <td>0.081629</td>\n",
       "      <td>0.018443</td>\n",
       "      <td>0.245489</td>\n",
       "      <td>-0.175708</td>\n",
       "      <td>0.414838</td>\n",
       "      <td>1.000000</td>\n",
       "      <td>0.216225</td>\n",
       "      <td>-0.080277</td>\n",
       "      <td>0.315784</td>\n",
       "    </tr>\n",
       "    <tr>\n",
       "      <th>Fare</th>\n",
       "      <td>0.012658</td>\n",
       "      <td>0.257307</td>\n",
       "      <td>-0.549500</td>\n",
       "      <td>0.182333</td>\n",
       "      <td>0.123250</td>\n",
       "      <td>0.159651</td>\n",
       "      <td>0.216225</td>\n",
       "      <td>1.000000</td>\n",
       "      <td>0.065492</td>\n",
       "      <td>0.136310</td>\n",
       "    </tr>\n",
       "    <tr>\n",
       "      <th>Embarked_data</th>\n",
       "      <td>-0.030444</td>\n",
       "      <td>0.111203</td>\n",
       "      <td>0.040138</td>\n",
       "      <td>0.121266</td>\n",
       "      <td>-0.053629</td>\n",
       "      <td>-0.061591</td>\n",
       "      <td>-0.080277</td>\n",
       "      <td>0.065492</td>\n",
       "      <td>1.000000</td>\n",
       "      <td>0.048012</td>\n",
       "    </tr>\n",
       "    <tr>\n",
       "      <th>Title</th>\n",
       "      <td>0.003878</td>\n",
       "      <td>0.407753</td>\n",
       "      <td>-0.173929</td>\n",
       "      <td>0.502713</td>\n",
       "      <td>-0.093425</td>\n",
       "      <td>0.269623</td>\n",
       "      <td>0.315784</td>\n",
       "      <td>0.136310</td>\n",
       "      <td>0.048012</td>\n",
       "      <td>1.000000</td>\n",
       "    </tr>\n",
       "  </tbody>\n",
       "</table>\n",
       "</div>"
      ],
      "text/plain": [
       "               PassengerId  Survived    Pclass       Sex       Age     SibSp  \\\n",
       "PassengerId       1.000000 -0.005007 -0.035144 -0.042939  0.039529 -0.057527   \n",
       "Survived         -0.005007  1.000000 -0.338481  0.543351 -0.060291 -0.035322   \n",
       "Pclass           -0.035144 -0.338481  1.000000 -0.131900 -0.414682  0.083081   \n",
       "Sex              -0.042939  0.543351 -0.131900  1.000000 -0.104584  0.114631   \n",
       "Age               0.039529 -0.060291 -0.414682 -0.104584  1.000000 -0.250248   \n",
       "SibSp            -0.057527 -0.035322  0.083081  0.114631 -0.250248  1.000000   \n",
       "Parch            -0.001652  0.081629  0.018443  0.245489 -0.175708  0.414838   \n",
       "Fare              0.012658  0.257307 -0.549500  0.182333  0.123250  0.159651   \n",
       "Embarked_data    -0.030444  0.111203  0.040138  0.121266 -0.053629 -0.061591   \n",
       "Title             0.003878  0.407753 -0.173929  0.502713 -0.093425  0.269623   \n",
       "\n",
       "                  Parch      Fare  Embarked_data     Title  \n",
       "PassengerId   -0.001652  0.012658      -0.030444  0.003878  \n",
       "Survived       0.081629  0.257307       0.111203  0.407753  \n",
       "Pclass         0.018443 -0.549500       0.040138 -0.173929  \n",
       "Sex            0.245489  0.182333       0.121266  0.502713  \n",
       "Age           -0.175708  0.123250      -0.053629 -0.093425  \n",
       "SibSp          0.414838  0.159651      -0.061591  0.269623  \n",
       "Parch          1.000000  0.216225      -0.080277  0.315784  \n",
       "Fare           0.216225  1.000000       0.065492  0.136310  \n",
       "Embarked_data -0.080277  0.065492       1.000000  0.048012  \n",
       "Title          0.315784  0.136310       0.048012  1.000000  "
      ]
     },
     "execution_count": 39,
     "metadata": {},
     "output_type": "execute_result"
    }
   ],
   "source": [
    "#Let's look at corr between title and survived\n",
    "train_df.corr()\n",
    "\n",
    "# As we can see there is too much corr with it.\n"
   ]
  },
  {
   "cell_type": "code",
   "execution_count": 40,
   "metadata": {
    "execution": {
     "iopub.execute_input": "2020-11-02T21:01:57.067674Z",
     "iopub.status.busy": "2020-11-02T21:01:57.066677Z",
     "iopub.status.idle": "2020-11-02T21:01:57.069801Z",
     "shell.execute_reply": "2020-11-02T21:01:57.069250Z"
    },
    "papermill": {
     "duration": 0.083184,
     "end_time": "2020-11-02T21:01:57.069919",
     "exception": false,
     "start_time": "2020-11-02T21:01:56.986735",
     "status": "completed"
    },
    "tags": []
   },
   "outputs": [],
   "source": [
    "# Now we can delete name column\n",
    "train_df = train_df.drop(['Name'], axis=1)\n",
    "test_df = test_df.drop(['Name'], axis=1)"
   ]
  },
  {
   "cell_type": "code",
   "execution_count": 41,
   "metadata": {
    "execution": {
     "iopub.execute_input": "2020-11-02T21:01:57.241435Z",
     "iopub.status.busy": "2020-11-02T21:01:57.232759Z",
     "iopub.status.idle": "2020-11-02T21:01:57.244619Z",
     "shell.execute_reply": "2020-11-02T21:01:57.243950Z"
    },
    "papermill": {
     "duration": 0.101996,
     "end_time": "2020-11-02T21:01:57.244735",
     "exception": false,
     "start_time": "2020-11-02T21:01:57.142739",
     "status": "completed"
    },
    "tags": []
   },
   "outputs": [],
   "source": [
    "# We should creat age band get better predict.\n",
    "\n",
    "def age_range(df):\n",
    "    df.loc[ df['Age'] <= 16, 'Age'] = 0\n",
    "    df.loc[(df['Age'] > 16) & (df['Age'] <= 32), 'Age'] = 1\n",
    "    df.loc[(df['Age'] > 32) & (df['Age'] <= 48), 'Age'] = 2\n",
    "    df.loc[(df['Age'] > 48) & (df['Age'] <= 64), 'Age'] = 3\n",
    "    df.loc[ df['Age'] > 64, 'Age']\n",
    "\n",
    "age_range(train_df)\n",
    "age_range(test_df)\n",
    "train_df = train_df.drop(['Age_Range'], axis=1)\n"
   ]
  },
  {
   "cell_type": "code",
   "execution_count": 42,
   "metadata": {
    "execution": {
     "iopub.execute_input": "2020-11-02T21:01:57.405542Z",
     "iopub.status.busy": "2020-11-02T21:01:57.400931Z",
     "iopub.status.idle": "2020-11-02T21:01:57.409447Z",
     "shell.execute_reply": "2020-11-02T21:01:57.409940Z"
    },
    "papermill": {
     "duration": 0.091608,
     "end_time": "2020-11-02T21:01:57.410123",
     "exception": false,
     "start_time": "2020-11-02T21:01:57.318515",
     "status": "completed"
    },
    "tags": []
   },
   "outputs": [
    {
     "data": {
      "text/html": [
       "<div>\n",
       "<style scoped>\n",
       "    .dataframe tbody tr th:only-of-type {\n",
       "        vertical-align: middle;\n",
       "    }\n",
       "\n",
       "    .dataframe tbody tr th {\n",
       "        vertical-align: top;\n",
       "    }\n",
       "\n",
       "    .dataframe thead th {\n",
       "        text-align: right;\n",
       "    }\n",
       "</style>\n",
       "<table border=\"1\" class=\"dataframe\">\n",
       "  <thead>\n",
       "    <tr style=\"text-align: right;\">\n",
       "      <th></th>\n",
       "      <th>PassengerId</th>\n",
       "      <th>Survived</th>\n",
       "      <th>Pclass</th>\n",
       "      <th>Sex</th>\n",
       "      <th>Age</th>\n",
       "      <th>SibSp</th>\n",
       "      <th>Parch</th>\n",
       "      <th>Fare</th>\n",
       "      <th>Embarked</th>\n",
       "      <th>Embarked_data</th>\n",
       "      <th>Title</th>\n",
       "    </tr>\n",
       "  </thead>\n",
       "  <tbody>\n",
       "    <tr>\n",
       "      <th>0</th>\n",
       "      <td>1</td>\n",
       "      <td>0</td>\n",
       "      <td>3</td>\n",
       "      <td>0</td>\n",
       "      <td>1</td>\n",
       "      <td>1</td>\n",
       "      <td>0</td>\n",
       "      <td>7.2500</td>\n",
       "      <td>S</td>\n",
       "      <td>0</td>\n",
       "      <td>1</td>\n",
       "    </tr>\n",
       "    <tr>\n",
       "      <th>1</th>\n",
       "      <td>2</td>\n",
       "      <td>1</td>\n",
       "      <td>1</td>\n",
       "      <td>1</td>\n",
       "      <td>2</td>\n",
       "      <td>1</td>\n",
       "      <td>0</td>\n",
       "      <td>71.2833</td>\n",
       "      <td>C</td>\n",
       "      <td>1</td>\n",
       "      <td>3</td>\n",
       "    </tr>\n",
       "    <tr>\n",
       "      <th>2</th>\n",
       "      <td>3</td>\n",
       "      <td>1</td>\n",
       "      <td>3</td>\n",
       "      <td>1</td>\n",
       "      <td>1</td>\n",
       "      <td>0</td>\n",
       "      <td>0</td>\n",
       "      <td>7.9250</td>\n",
       "      <td>S</td>\n",
       "      <td>0</td>\n",
       "      <td>2</td>\n",
       "    </tr>\n",
       "    <tr>\n",
       "      <th>3</th>\n",
       "      <td>4</td>\n",
       "      <td>1</td>\n",
       "      <td>1</td>\n",
       "      <td>1</td>\n",
       "      <td>2</td>\n",
       "      <td>1</td>\n",
       "      <td>0</td>\n",
       "      <td>53.1000</td>\n",
       "      <td>S</td>\n",
       "      <td>0</td>\n",
       "      <td>3</td>\n",
       "    </tr>\n",
       "    <tr>\n",
       "      <th>4</th>\n",
       "      <td>5</td>\n",
       "      <td>0</td>\n",
       "      <td>3</td>\n",
       "      <td>0</td>\n",
       "      <td>2</td>\n",
       "      <td>0</td>\n",
       "      <td>0</td>\n",
       "      <td>8.0500</td>\n",
       "      <td>S</td>\n",
       "      <td>0</td>\n",
       "      <td>1</td>\n",
       "    </tr>\n",
       "  </tbody>\n",
       "</table>\n",
       "</div>"
      ],
      "text/plain": [
       "   PassengerId  Survived  Pclass  Sex  Age  SibSp  Parch     Fare Embarked  \\\n",
       "0            1         0       3    0    1      1      0   7.2500        S   \n",
       "1            2         1       1    1    2      1      0  71.2833        C   \n",
       "2            3         1       3    1    1      0      0   7.9250        S   \n",
       "3            4         1       1    1    2      1      0  53.1000        S   \n",
       "4            5         0       3    0    2      0      0   8.0500        S   \n",
       "\n",
       "   Embarked_data  Title  \n",
       "0              0      1  \n",
       "1              1      3  \n",
       "2              0      2  \n",
       "3              0      3  \n",
       "4              0      1  "
      ]
     },
     "execution_count": 42,
     "metadata": {},
     "output_type": "execute_result"
    }
   ],
   "source": [
    "train_df.head()\n"
   ]
  },
  {
   "cell_type": "code",
   "execution_count": 43,
   "metadata": {
    "execution": {
     "iopub.execute_input": "2020-11-02T21:01:57.573859Z",
     "iopub.status.busy": "2020-11-02T21:01:57.569774Z",
     "iopub.status.idle": "2020-11-02T21:01:57.577983Z",
     "shell.execute_reply": "2020-11-02T21:01:57.577393Z"
    },
    "papermill": {
     "duration": 0.091758,
     "end_time": "2020-11-02T21:01:57.578117",
     "exception": false,
     "start_time": "2020-11-02T21:01:57.486359",
     "status": "completed"
    },
    "tags": []
   },
   "outputs": [
    {
     "data": {
      "text/html": [
       "<div>\n",
       "<style scoped>\n",
       "    .dataframe tbody tr th:only-of-type {\n",
       "        vertical-align: middle;\n",
       "    }\n",
       "\n",
       "    .dataframe tbody tr th {\n",
       "        vertical-align: top;\n",
       "    }\n",
       "\n",
       "    .dataframe thead th {\n",
       "        text-align: right;\n",
       "    }\n",
       "</style>\n",
       "<table border=\"1\" class=\"dataframe\">\n",
       "  <thead>\n",
       "    <tr style=\"text-align: right;\">\n",
       "      <th></th>\n",
       "      <th>PassengerId</th>\n",
       "      <th>Pclass</th>\n",
       "      <th>Sex</th>\n",
       "      <th>Age</th>\n",
       "      <th>SibSp</th>\n",
       "      <th>Parch</th>\n",
       "      <th>Fare</th>\n",
       "      <th>Embarked</th>\n",
       "      <th>Title</th>\n",
       "    </tr>\n",
       "  </thead>\n",
       "  <tbody>\n",
       "    <tr>\n",
       "      <th>0</th>\n",
       "      <td>892</td>\n",
       "      <td>3</td>\n",
       "      <td>0</td>\n",
       "      <td>2</td>\n",
       "      <td>0</td>\n",
       "      <td>0</td>\n",
       "      <td>7.8292</td>\n",
       "      <td>Q</td>\n",
       "      <td>1</td>\n",
       "    </tr>\n",
       "    <tr>\n",
       "      <th>1</th>\n",
       "      <td>893</td>\n",
       "      <td>3</td>\n",
       "      <td>1</td>\n",
       "      <td>2</td>\n",
       "      <td>1</td>\n",
       "      <td>0</td>\n",
       "      <td>7.0000</td>\n",
       "      <td>S</td>\n",
       "      <td>3</td>\n",
       "    </tr>\n",
       "    <tr>\n",
       "      <th>2</th>\n",
       "      <td>894</td>\n",
       "      <td>2</td>\n",
       "      <td>0</td>\n",
       "      <td>3</td>\n",
       "      <td>0</td>\n",
       "      <td>0</td>\n",
       "      <td>9.6875</td>\n",
       "      <td>Q</td>\n",
       "      <td>1</td>\n",
       "    </tr>\n",
       "    <tr>\n",
       "      <th>3</th>\n",
       "      <td>895</td>\n",
       "      <td>3</td>\n",
       "      <td>0</td>\n",
       "      <td>1</td>\n",
       "      <td>0</td>\n",
       "      <td>0</td>\n",
       "      <td>8.6625</td>\n",
       "      <td>S</td>\n",
       "      <td>1</td>\n",
       "    </tr>\n",
       "    <tr>\n",
       "      <th>4</th>\n",
       "      <td>896</td>\n",
       "      <td>3</td>\n",
       "      <td>1</td>\n",
       "      <td>1</td>\n",
       "      <td>1</td>\n",
       "      <td>1</td>\n",
       "      <td>12.2875</td>\n",
       "      <td>S</td>\n",
       "      <td>3</td>\n",
       "    </tr>\n",
       "  </tbody>\n",
       "</table>\n",
       "</div>"
      ],
      "text/plain": [
       "   PassengerId  Pclass  Sex  Age  SibSp  Parch     Fare Embarked  Title\n",
       "0          892       3    0    2      0      0   7.8292        Q      1\n",
       "1          893       3    1    2      1      0   7.0000        S      3\n",
       "2          894       2    0    3      0      0   9.6875        Q      1\n",
       "3          895       3    0    1      0      0   8.6625        S      1\n",
       "4          896       3    1    1      1      1  12.2875        S      3"
      ]
     },
     "execution_count": 43,
     "metadata": {},
     "output_type": "execute_result"
    }
   ],
   "source": [
    "test_df.head()"
   ]
  },
  {
   "cell_type": "code",
   "execution_count": 44,
   "metadata": {
    "execution": {
     "iopub.execute_input": "2020-11-02T21:01:57.735399Z",
     "iopub.status.busy": "2020-11-02T21:01:57.734493Z",
     "iopub.status.idle": "2020-11-02T21:01:57.737630Z",
     "shell.execute_reply": "2020-11-02T21:01:57.736997Z"
    },
    "papermill": {
     "duration": 0.086733,
     "end_time": "2020-11-02T21:01:57.737756",
     "exception": false,
     "start_time": "2020-11-02T21:01:57.651023",
     "status": "completed"
    },
    "tags": []
   },
   "outputs": [],
   "source": [
    "train_df = train_df.drop([\"Embarked\"], axis=1)"
   ]
  },
  {
   "cell_type": "code",
   "execution_count": 45,
   "metadata": {
    "execution": {
     "iopub.execute_input": "2020-11-02T21:01:57.895025Z",
     "iopub.status.busy": "2020-11-02T21:01:57.894020Z",
     "iopub.status.idle": "2020-11-02T21:01:57.897206Z",
     "shell.execute_reply": "2020-11-02T21:01:57.896573Z"
    },
    "papermill": {
     "duration": 0.083946,
     "end_time": "2020-11-02T21:01:57.897350",
     "exception": false,
     "start_time": "2020-11-02T21:01:57.813404",
     "status": "completed"
    },
    "tags": []
   },
   "outputs": [],
   "source": [
    "# Let's make embarked numerical value for test data set\n",
    "test_df['Embarked_data'] = test_df['Embarked'].map({'S': 0,'C': 1, 'Q': 2})"
   ]
  },
  {
   "cell_type": "code",
   "execution_count": 46,
   "metadata": {
    "execution": {
     "iopub.execute_input": "2020-11-02T21:01:58.054824Z",
     "iopub.status.busy": "2020-11-02T21:01:58.054023Z",
     "iopub.status.idle": "2020-11-02T21:01:58.056915Z",
     "shell.execute_reply": "2020-11-02T21:01:58.056391Z"
    },
    "papermill": {
     "duration": 0.084682,
     "end_time": "2020-11-02T21:01:58.057062",
     "exception": false,
     "start_time": "2020-11-02T21:01:57.972380",
     "status": "completed"
    },
    "tags": []
   },
   "outputs": [],
   "source": [
    "test_df = test_df.drop([\"Embarked\"], axis=1)"
   ]
  },
  {
   "cell_type": "code",
   "execution_count": 47,
   "metadata": {
    "execution": {
     "iopub.execute_input": "2020-11-02T21:01:58.213704Z",
     "iopub.status.busy": "2020-11-02T21:01:58.212953Z",
     "iopub.status.idle": "2020-11-02T21:01:58.215565Z",
     "shell.execute_reply": "2020-11-02T21:01:58.216025Z"
    },
    "papermill": {
     "duration": 0.08579,
     "end_time": "2020-11-02T21:01:58.216216",
     "exception": false,
     "start_time": "2020-11-02T21:01:58.130426",
     "status": "completed"
    },
    "tags": []
   },
   "outputs": [],
   "source": [
    "# We also do not need passengerid in train data for predict \n",
    "train_df = train_df.drop([\"PassengerId\"], axis=1)\n"
   ]
  },
  {
   "cell_type": "code",
   "execution_count": 48,
   "metadata": {
    "execution": {
     "iopub.execute_input": "2020-11-02T21:01:58.385581Z",
     "iopub.status.busy": "2020-11-02T21:01:58.382777Z",
     "iopub.status.idle": "2020-11-02T21:01:58.397641Z",
     "shell.execute_reply": "2020-11-02T21:01:58.396972Z"
    },
    "papermill": {
     "duration": 0.105644,
     "end_time": "2020-11-02T21:01:58.397768",
     "exception": false,
     "start_time": "2020-11-02T21:01:58.292124",
     "status": "completed"
    },
    "tags": []
   },
   "outputs": [
    {
     "data": {
      "text/html": [
       "<div>\n",
       "<style scoped>\n",
       "    .dataframe tbody tr th:only-of-type {\n",
       "        vertical-align: middle;\n",
       "    }\n",
       "\n",
       "    .dataframe tbody tr th {\n",
       "        vertical-align: top;\n",
       "    }\n",
       "\n",
       "    .dataframe thead th {\n",
       "        text-align: right;\n",
       "    }\n",
       "</style>\n",
       "<table border=\"1\" class=\"dataframe\">\n",
       "  <thead>\n",
       "    <tr style=\"text-align: right;\">\n",
       "      <th></th>\n",
       "      <th>FareBand</th>\n",
       "      <th>Survived</th>\n",
       "    </tr>\n",
       "  </thead>\n",
       "  <tbody>\n",
       "    <tr>\n",
       "      <th>0</th>\n",
       "      <td>(-0.001, 7.91]</td>\n",
       "      <td>0.197309</td>\n",
       "    </tr>\n",
       "    <tr>\n",
       "      <th>1</th>\n",
       "      <td>(7.91, 14.454]</td>\n",
       "      <td>0.303571</td>\n",
       "    </tr>\n",
       "    <tr>\n",
       "      <th>2</th>\n",
       "      <td>(14.454, 31.0]</td>\n",
       "      <td>0.454955</td>\n",
       "    </tr>\n",
       "    <tr>\n",
       "      <th>3</th>\n",
       "      <td>(31.0, 512.329]</td>\n",
       "      <td>0.581081</td>\n",
       "    </tr>\n",
       "  </tbody>\n",
       "</table>\n",
       "</div>"
      ],
      "text/plain": [
       "          FareBand  Survived\n",
       "0   (-0.001, 7.91]  0.197309\n",
       "1   (7.91, 14.454]  0.303571\n",
       "2   (14.454, 31.0]  0.454955\n",
       "3  (31.0, 512.329]  0.581081"
      ]
     },
     "execution_count": 48,
     "metadata": {},
     "output_type": "execute_result"
    }
   ],
   "source": [
    "# We can create fareband before to create range we sholud look how many band we can create?\n",
    "train_df['FareBand'] = pd.qcut(train_df['Fare'], 4)\n",
    "train_df[['FareBand', 'Survived']].groupby(['FareBand'], as_index=False).mean().sort_values(by='FareBand', ascending=True)\n",
    "# I tried to 4,5,6 ranges but after for survived rate near to similar to others so we should choose 4 bands."
   ]
  },
  {
   "cell_type": "code",
   "execution_count": 49,
   "metadata": {
    "execution": {
     "iopub.execute_input": "2020-11-02T21:01:58.573268Z",
     "iopub.status.busy": "2020-11-02T21:01:58.564621Z",
     "iopub.status.idle": "2020-11-02T21:01:58.577785Z",
     "shell.execute_reply": "2020-11-02T21:01:58.577177Z"
    },
    "papermill": {
     "duration": 0.104255,
     "end_time": "2020-11-02T21:01:58.577898",
     "exception": false,
     "start_time": "2020-11-02T21:01:58.473643",
     "status": "completed"
    },
    "tags": []
   },
   "outputs": [
    {
     "data": {
      "text/html": [
       "<div>\n",
       "<style scoped>\n",
       "    .dataframe tbody tr th:only-of-type {\n",
       "        vertical-align: middle;\n",
       "    }\n",
       "\n",
       "    .dataframe tbody tr th {\n",
       "        vertical-align: top;\n",
       "    }\n",
       "\n",
       "    .dataframe thead th {\n",
       "        text-align: right;\n",
       "    }\n",
       "</style>\n",
       "<table border=\"1\" class=\"dataframe\">\n",
       "  <thead>\n",
       "    <tr style=\"text-align: right;\">\n",
       "      <th></th>\n",
       "      <th>Survived</th>\n",
       "      <th>Pclass</th>\n",
       "      <th>Sex</th>\n",
       "      <th>Age</th>\n",
       "      <th>SibSp</th>\n",
       "      <th>Parch</th>\n",
       "      <th>Fare</th>\n",
       "      <th>Embarked_data</th>\n",
       "      <th>Title</th>\n",
       "    </tr>\n",
       "  </thead>\n",
       "  <tbody>\n",
       "    <tr>\n",
       "      <th>0</th>\n",
       "      <td>0</td>\n",
       "      <td>3</td>\n",
       "      <td>0</td>\n",
       "      <td>1</td>\n",
       "      <td>1</td>\n",
       "      <td>0</td>\n",
       "      <td>0</td>\n",
       "      <td>0</td>\n",
       "      <td>1</td>\n",
       "    </tr>\n",
       "    <tr>\n",
       "      <th>1</th>\n",
       "      <td>1</td>\n",
       "      <td>1</td>\n",
       "      <td>1</td>\n",
       "      <td>2</td>\n",
       "      <td>1</td>\n",
       "      <td>0</td>\n",
       "      <td>3</td>\n",
       "      <td>1</td>\n",
       "      <td>3</td>\n",
       "    </tr>\n",
       "    <tr>\n",
       "      <th>2</th>\n",
       "      <td>1</td>\n",
       "      <td>3</td>\n",
       "      <td>1</td>\n",
       "      <td>1</td>\n",
       "      <td>0</td>\n",
       "      <td>0</td>\n",
       "      <td>1</td>\n",
       "      <td>0</td>\n",
       "      <td>2</td>\n",
       "    </tr>\n",
       "    <tr>\n",
       "      <th>3</th>\n",
       "      <td>1</td>\n",
       "      <td>1</td>\n",
       "      <td>1</td>\n",
       "      <td>2</td>\n",
       "      <td>1</td>\n",
       "      <td>0</td>\n",
       "      <td>3</td>\n",
       "      <td>0</td>\n",
       "      <td>3</td>\n",
       "    </tr>\n",
       "    <tr>\n",
       "      <th>4</th>\n",
       "      <td>0</td>\n",
       "      <td>3</td>\n",
       "      <td>0</td>\n",
       "      <td>2</td>\n",
       "      <td>0</td>\n",
       "      <td>0</td>\n",
       "      <td>1</td>\n",
       "      <td>0</td>\n",
       "      <td>1</td>\n",
       "    </tr>\n",
       "    <tr>\n",
       "      <th>5</th>\n",
       "      <td>0</td>\n",
       "      <td>3</td>\n",
       "      <td>0</td>\n",
       "      <td>1</td>\n",
       "      <td>0</td>\n",
       "      <td>0</td>\n",
       "      <td>1</td>\n",
       "      <td>2</td>\n",
       "      <td>1</td>\n",
       "    </tr>\n",
       "    <tr>\n",
       "      <th>6</th>\n",
       "      <td>0</td>\n",
       "      <td>1</td>\n",
       "      <td>0</td>\n",
       "      <td>3</td>\n",
       "      <td>0</td>\n",
       "      <td>0</td>\n",
       "      <td>3</td>\n",
       "      <td>0</td>\n",
       "      <td>1</td>\n",
       "    </tr>\n",
       "    <tr>\n",
       "      <th>7</th>\n",
       "      <td>0</td>\n",
       "      <td>3</td>\n",
       "      <td>0</td>\n",
       "      <td>0</td>\n",
       "      <td>3</td>\n",
       "      <td>1</td>\n",
       "      <td>2</td>\n",
       "      <td>0</td>\n",
       "      <td>4</td>\n",
       "    </tr>\n",
       "    <tr>\n",
       "      <th>8</th>\n",
       "      <td>1</td>\n",
       "      <td>3</td>\n",
       "      <td>1</td>\n",
       "      <td>1</td>\n",
       "      <td>0</td>\n",
       "      <td>2</td>\n",
       "      <td>1</td>\n",
       "      <td>0</td>\n",
       "      <td>3</td>\n",
       "    </tr>\n",
       "    <tr>\n",
       "      <th>9</th>\n",
       "      <td>1</td>\n",
       "      <td>2</td>\n",
       "      <td>1</td>\n",
       "      <td>0</td>\n",
       "      <td>1</td>\n",
       "      <td>0</td>\n",
       "      <td>2</td>\n",
       "      <td>1</td>\n",
       "      <td>3</td>\n",
       "    </tr>\n",
       "  </tbody>\n",
       "</table>\n",
       "</div>"
      ],
      "text/plain": [
       "   Survived  Pclass  Sex  Age  SibSp  Parch  Fare  Embarked_data  Title\n",
       "0         0       3    0    1      1      0     0              0      1\n",
       "1         1       1    1    2      1      0     3              1      3\n",
       "2         1       3    1    1      0      0     1              0      2\n",
       "3         1       1    1    2      1      0     3              0      3\n",
       "4         0       3    0    2      0      0     1              0      1\n",
       "5         0       3    0    1      0      0     1              2      1\n",
       "6         0       1    0    3      0      0     3              0      1\n",
       "7         0       3    0    0      3      1     2              0      4\n",
       "8         1       3    1    1      0      2     1              0      3\n",
       "9         1       2    1    0      1      0     2              1      3"
      ]
     },
     "execution_count": 49,
     "metadata": {},
     "output_type": "execute_result"
    }
   ],
   "source": [
    "def create_fare(df):\n",
    "    df.loc[ df['Fare'] <= 7.91, 'Fare'] = 0\n",
    "    df.loc[(df['Fare'] > 7.91) & (df['Fare'] <= 14.454), 'Fare'] = 1\n",
    "    df.loc[(df['Fare'] > 14.454) & (df['Fare'] <= 31), 'Fare']   = 2\n",
    "    df.loc[ df['Fare'] > 31, 'Fare'] = 3\n",
    "    df['Fare'] = df['Fare'].astype(int)\n",
    "\n",
    "create_fare(train_df)\n",
    "create_fare(test_df)\n",
    "train_df = train_df.drop(['FareBand'], axis=1)\n",
    "\n",
    "    \n",
    "train_df.head(10)"
   ]
  },
  {
   "cell_type": "code",
   "execution_count": 50,
   "metadata": {
    "execution": {
     "iopub.execute_input": "2020-11-02T21:01:58.731348Z",
     "iopub.status.busy": "2020-11-02T21:01:58.730669Z",
     "iopub.status.idle": "2020-11-02T21:01:58.745959Z",
     "shell.execute_reply": "2020-11-02T21:01:58.745423Z"
    },
    "papermill": {
     "duration": 0.093481,
     "end_time": "2020-11-02T21:01:58.746092",
     "exception": false,
     "start_time": "2020-11-02T21:01:58.652611",
     "status": "completed"
    },
    "tags": []
   },
   "outputs": [
    {
     "data": {
      "text/html": [
       "<div>\n",
       "<style scoped>\n",
       "    .dataframe tbody tr th:only-of-type {\n",
       "        vertical-align: middle;\n",
       "    }\n",
       "\n",
       "    .dataframe tbody tr th {\n",
       "        vertical-align: top;\n",
       "    }\n",
       "\n",
       "    .dataframe thead th {\n",
       "        text-align: right;\n",
       "    }\n",
       "</style>\n",
       "<table border=\"1\" class=\"dataframe\">\n",
       "  <thead>\n",
       "    <tr style=\"text-align: right;\">\n",
       "      <th></th>\n",
       "      <th>Survived</th>\n",
       "      <th>Pclass</th>\n",
       "      <th>Sex</th>\n",
       "      <th>Age</th>\n",
       "      <th>SibSp</th>\n",
       "      <th>Parch</th>\n",
       "      <th>Fare</th>\n",
       "      <th>Embarked_data</th>\n",
       "      <th>Title</th>\n",
       "    </tr>\n",
       "  </thead>\n",
       "  <tbody>\n",
       "    <tr>\n",
       "      <th>Survived</th>\n",
       "      <td>1.000000</td>\n",
       "      <td>-0.338481</td>\n",
       "      <td>0.543351</td>\n",
       "      <td>-0.065095</td>\n",
       "      <td>-0.035322</td>\n",
       "      <td>0.081629</td>\n",
       "      <td>0.295875</td>\n",
       "      <td>0.111203</td>\n",
       "      <td>0.407753</td>\n",
       "    </tr>\n",
       "    <tr>\n",
       "      <th>Pclass</th>\n",
       "      <td>-0.338481</td>\n",
       "      <td>1.000000</td>\n",
       "      <td>-0.131900</td>\n",
       "      <td>-0.119955</td>\n",
       "      <td>0.083081</td>\n",
       "      <td>0.018443</td>\n",
       "      <td>-0.628459</td>\n",
       "      <td>0.040138</td>\n",
       "      <td>-0.173929</td>\n",
       "    </tr>\n",
       "    <tr>\n",
       "      <th>Sex</th>\n",
       "      <td>0.543351</td>\n",
       "      <td>-0.131900</td>\n",
       "      <td>1.000000</td>\n",
       "      <td>-0.086719</td>\n",
       "      <td>0.114631</td>\n",
       "      <td>0.245489</td>\n",
       "      <td>0.248940</td>\n",
       "      <td>0.121266</td>\n",
       "      <td>0.502713</td>\n",
       "    </tr>\n",
       "    <tr>\n",
       "      <th>Age</th>\n",
       "      <td>-0.065095</td>\n",
       "      <td>-0.119955</td>\n",
       "      <td>-0.086719</td>\n",
       "      <td>1.000000</td>\n",
       "      <td>-0.066396</td>\n",
       "      <td>-0.043457</td>\n",
       "      <td>0.026774</td>\n",
       "      <td>0.038205</td>\n",
       "      <td>-0.042927</td>\n",
       "    </tr>\n",
       "    <tr>\n",
       "      <th>SibSp</th>\n",
       "      <td>-0.035322</td>\n",
       "      <td>0.083081</td>\n",
       "      <td>0.114631</td>\n",
       "      <td>-0.066396</td>\n",
       "      <td>1.000000</td>\n",
       "      <td>0.414838</td>\n",
       "      <td>0.394248</td>\n",
       "      <td>-0.061591</td>\n",
       "      <td>0.269623</td>\n",
       "    </tr>\n",
       "    <tr>\n",
       "      <th>Parch</th>\n",
       "      <td>0.081629</td>\n",
       "      <td>0.018443</td>\n",
       "      <td>0.245489</td>\n",
       "      <td>-0.043457</td>\n",
       "      <td>0.414838</td>\n",
       "      <td>1.000000</td>\n",
       "      <td>0.393048</td>\n",
       "      <td>-0.080277</td>\n",
       "      <td>0.315784</td>\n",
       "    </tr>\n",
       "    <tr>\n",
       "      <th>Fare</th>\n",
       "      <td>0.295875</td>\n",
       "      <td>-0.628459</td>\n",
       "      <td>0.248940</td>\n",
       "      <td>0.026774</td>\n",
       "      <td>0.394248</td>\n",
       "      <td>0.393048</td>\n",
       "      <td>1.000000</td>\n",
       "      <td>-0.086303</td>\n",
       "      <td>0.341665</td>\n",
       "    </tr>\n",
       "    <tr>\n",
       "      <th>Embarked_data</th>\n",
       "      <td>0.111203</td>\n",
       "      <td>0.040138</td>\n",
       "      <td>0.121266</td>\n",
       "      <td>0.038205</td>\n",
       "      <td>-0.061591</td>\n",
       "      <td>-0.080277</td>\n",
       "      <td>-0.086303</td>\n",
       "      <td>1.000000</td>\n",
       "      <td>0.048012</td>\n",
       "    </tr>\n",
       "    <tr>\n",
       "      <th>Title</th>\n",
       "      <td>0.407753</td>\n",
       "      <td>-0.173929</td>\n",
       "      <td>0.502713</td>\n",
       "      <td>-0.042927</td>\n",
       "      <td>0.269623</td>\n",
       "      <td>0.315784</td>\n",
       "      <td>0.341665</td>\n",
       "      <td>0.048012</td>\n",
       "      <td>1.000000</td>\n",
       "    </tr>\n",
       "  </tbody>\n",
       "</table>\n",
       "</div>"
      ],
      "text/plain": [
       "               Survived    Pclass       Sex       Age     SibSp     Parch  \\\n",
       "Survived       1.000000 -0.338481  0.543351 -0.065095 -0.035322  0.081629   \n",
       "Pclass        -0.338481  1.000000 -0.131900 -0.119955  0.083081  0.018443   \n",
       "Sex            0.543351 -0.131900  1.000000 -0.086719  0.114631  0.245489   \n",
       "Age           -0.065095 -0.119955 -0.086719  1.000000 -0.066396 -0.043457   \n",
       "SibSp         -0.035322  0.083081  0.114631 -0.066396  1.000000  0.414838   \n",
       "Parch          0.081629  0.018443  0.245489 -0.043457  0.414838  1.000000   \n",
       "Fare           0.295875 -0.628459  0.248940  0.026774  0.394248  0.393048   \n",
       "Embarked_data  0.111203  0.040138  0.121266  0.038205 -0.061591 -0.080277   \n",
       "Title          0.407753 -0.173929  0.502713 -0.042927  0.269623  0.315784   \n",
       "\n",
       "                   Fare  Embarked_data     Title  \n",
       "Survived       0.295875       0.111203  0.407753  \n",
       "Pclass        -0.628459       0.040138 -0.173929  \n",
       "Sex            0.248940       0.121266  0.502713  \n",
       "Age            0.026774       0.038205 -0.042927  \n",
       "SibSp          0.394248      -0.061591  0.269623  \n",
       "Parch          0.393048      -0.080277  0.315784  \n",
       "Fare           1.000000      -0.086303  0.341665  \n",
       "Embarked_data -0.086303       1.000000  0.048012  \n",
       "Title          0.341665       0.048012  1.000000  "
      ]
     },
     "execution_count": 50,
     "metadata": {},
     "output_type": "execute_result"
    }
   ],
   "source": [
    "train_df.corr()"
   ]
  },
  {
   "cell_type": "code",
   "execution_count": 51,
   "metadata": {
    "execution": {
     "iopub.execute_input": "2020-11-02T21:01:58.910385Z",
     "iopub.status.busy": "2020-11-02T21:01:58.906789Z",
     "iopub.status.idle": "2020-11-02T21:01:58.914588Z",
     "shell.execute_reply": "2020-11-02T21:01:58.913949Z"
    },
    "papermill": {
     "duration": 0.091212,
     "end_time": "2020-11-02T21:01:58.914705",
     "exception": false,
     "start_time": "2020-11-02T21:01:58.823493",
     "status": "completed"
    },
    "tags": []
   },
   "outputs": [
    {
     "data": {
      "text/html": [
       "<div>\n",
       "<style scoped>\n",
       "    .dataframe tbody tr th:only-of-type {\n",
       "        vertical-align: middle;\n",
       "    }\n",
       "\n",
       "    .dataframe tbody tr th {\n",
       "        vertical-align: top;\n",
       "    }\n",
       "\n",
       "    .dataframe thead th {\n",
       "        text-align: right;\n",
       "    }\n",
       "</style>\n",
       "<table border=\"1\" class=\"dataframe\">\n",
       "  <thead>\n",
       "    <tr style=\"text-align: right;\">\n",
       "      <th></th>\n",
       "      <th>PassengerId</th>\n",
       "      <th>Pclass</th>\n",
       "      <th>Sex</th>\n",
       "      <th>Age</th>\n",
       "      <th>SibSp</th>\n",
       "      <th>Parch</th>\n",
       "      <th>Fare</th>\n",
       "      <th>Title</th>\n",
       "      <th>Embarked_data</th>\n",
       "    </tr>\n",
       "  </thead>\n",
       "  <tbody>\n",
       "    <tr>\n",
       "      <th>0</th>\n",
       "      <td>892</td>\n",
       "      <td>3</td>\n",
       "      <td>0</td>\n",
       "      <td>2</td>\n",
       "      <td>0</td>\n",
       "      <td>0</td>\n",
       "      <td>0</td>\n",
       "      <td>1</td>\n",
       "      <td>2</td>\n",
       "    </tr>\n",
       "    <tr>\n",
       "      <th>1</th>\n",
       "      <td>893</td>\n",
       "      <td>3</td>\n",
       "      <td>1</td>\n",
       "      <td>2</td>\n",
       "      <td>1</td>\n",
       "      <td>0</td>\n",
       "      <td>0</td>\n",
       "      <td>3</td>\n",
       "      <td>0</td>\n",
       "    </tr>\n",
       "    <tr>\n",
       "      <th>2</th>\n",
       "      <td>894</td>\n",
       "      <td>2</td>\n",
       "      <td>0</td>\n",
       "      <td>3</td>\n",
       "      <td>0</td>\n",
       "      <td>0</td>\n",
       "      <td>1</td>\n",
       "      <td>1</td>\n",
       "      <td>2</td>\n",
       "    </tr>\n",
       "    <tr>\n",
       "      <th>3</th>\n",
       "      <td>895</td>\n",
       "      <td>3</td>\n",
       "      <td>0</td>\n",
       "      <td>1</td>\n",
       "      <td>0</td>\n",
       "      <td>0</td>\n",
       "      <td>1</td>\n",
       "      <td>1</td>\n",
       "      <td>0</td>\n",
       "    </tr>\n",
       "    <tr>\n",
       "      <th>4</th>\n",
       "      <td>896</td>\n",
       "      <td>3</td>\n",
       "      <td>1</td>\n",
       "      <td>1</td>\n",
       "      <td>1</td>\n",
       "      <td>1</td>\n",
       "      <td>1</td>\n",
       "      <td>3</td>\n",
       "      <td>0</td>\n",
       "    </tr>\n",
       "  </tbody>\n",
       "</table>\n",
       "</div>"
      ],
      "text/plain": [
       "   PassengerId  Pclass  Sex  Age  SibSp  Parch  Fare  Title  Embarked_data\n",
       "0          892       3    0    2      0      0     0      1              2\n",
       "1          893       3    1    2      1      0     0      3              0\n",
       "2          894       2    0    3      0      0     1      1              2\n",
       "3          895       3    0    1      0      0     1      1              0\n",
       "4          896       3    1    1      1      1     1      3              0"
      ]
     },
     "execution_count": 51,
     "metadata": {},
     "output_type": "execute_result"
    }
   ],
   "source": [
    "test_df.head()"
   ]
  },
  {
   "cell_type": "code",
   "execution_count": 52,
   "metadata": {
    "execution": {
     "iopub.execute_input": "2020-11-02T21:01:59.083852Z",
     "iopub.status.busy": "2020-11-02T21:01:59.083155Z",
     "iopub.status.idle": "2020-11-02T21:01:59.086874Z",
     "shell.execute_reply": "2020-11-02T21:01:59.086265Z"
    },
    "papermill": {
     "duration": 0.09249,
     "end_time": "2020-11-02T21:01:59.086998",
     "exception": false,
     "start_time": "2020-11-02T21:01:58.994508",
     "status": "completed"
    },
    "tags": []
   },
   "outputs": [],
   "source": [
    "X = train_df.drop(\"Survived\", axis=1)\n",
    "Y = train_df[\"Survived\"]"
   ]
  },
  {
   "cell_type": "markdown",
   "metadata": {
    "papermill": {
     "duration": 0.083268,
     "end_time": "2020-11-02T21:01:59.256186",
     "exception": false,
     "start_time": "2020-11-02T21:01:59.172918",
     "status": "completed"
    },
    "tags": []
   },
   "source": [
    "### Starting ML modeling "
   ]
  },
  {
   "cell_type": "code",
   "execution_count": 53,
   "metadata": {
    "execution": {
     "iopub.execute_input": "2020-11-02T21:01:59.441282Z",
     "iopub.status.busy": "2020-11-02T21:01:59.440516Z",
     "iopub.status.idle": "2020-11-02T21:01:59.450460Z",
     "shell.execute_reply": "2020-11-02T21:01:59.449750Z"
    },
    "papermill": {
     "duration": 0.107948,
     "end_time": "2020-11-02T21:01:59.450582",
     "exception": false,
     "start_time": "2020-11-02T21:01:59.342634",
     "status": "completed"
    },
    "tags": []
   },
   "outputs": [],
   "source": [
    "X_tr, X_ts, Y_tr, Y_ts =  train_test_split(X,Y, test_size=0.2, random_state=1) \n",
    "#Feature scaling\n",
    "sc_X = StandardScaler()\n",
    "X_tr = pd.DataFrame(sc_X.fit_transform(X_tr),columns = X_tr.columns)\n",
    "X_ts = pd.DataFrame(sc_X.fit_transform(X_ts),columns = X_ts.columns)\n"
   ]
  },
  {
   "cell_type": "markdown",
   "metadata": {
    "papermill": {
     "duration": 0.078572,
     "end_time": "2020-11-02T21:01:59.607533",
     "exception": false,
     "start_time": "2020-11-02T21:01:59.528961",
     "status": "completed"
    },
    "tags": []
   },
   "source": [
    "#### KNN"
   ]
  },
  {
   "cell_type": "code",
   "execution_count": 54,
   "metadata": {
    "execution": {
     "iopub.execute_input": "2020-11-02T21:01:59.790676Z",
     "iopub.status.busy": "2020-11-02T21:01:59.789620Z",
     "iopub.status.idle": "2020-11-02T21:02:01.608882Z",
     "shell.execute_reply": "2020-11-02T21:02:01.608360Z"
    },
    "papermill": {
     "duration": 1.914739,
     "end_time": "2020-11-02T21:02:01.609002",
     "exception": false,
     "start_time": "2020-11-02T21:01:59.694263",
     "status": "completed"
    },
    "tags": []
   },
   "outputs": [
    {
     "name": "stdout",
     "output_type": "stream",
     "text": [
      "The max accuracy is % 87.22 with 3 neighbors.\n"
     ]
    }
   ],
   "source": [
    "list_neighbors = {}\n",
    "\n",
    "for i in range(1,40):\n",
    "\n",
    "    knn = KNeighborsClassifier(n_neighbors = i)\n",
    "    knn.fit(X_tr, Y_tr)\n",
    "    Y_pred_knn = knn.predict(X_ts)\n",
    "    accuracy_knn = round(knn.score(X_tr, Y_tr) * 100, 2)\n",
    "    #print(\"Number of neigbors: \" + str(i)+ \" Accuracy is = \" + str(accuracy_knn))\n",
    "    list_neighbors[i] = accuracy_knn\n",
    "    \n",
    "max_key = max(list_neighbors, key=list_neighbors.get)\n",
    "all_values = list_neighbors.values()\n",
    "max_value_knn = max(all_values)\n",
    "print(\"The max accuracy is % \" + str(max_value_knn) + \" with \" + str(max_key) + \" neighbors.\")\n",
    "\n"
   ]
  },
  {
   "cell_type": "code",
   "execution_count": 55,
   "metadata": {
    "execution": {
     "iopub.execute_input": "2020-11-02T21:02:01.782924Z",
     "iopub.status.busy": "2020-11-02T21:02:01.776352Z",
     "iopub.status.idle": "2020-11-02T21:02:01.971150Z",
     "shell.execute_reply": "2020-11-02T21:02:01.970634Z"
    },
    "papermill": {
     "duration": 0.284292,
     "end_time": "2020-11-02T21:02:01.971270",
     "exception": false,
     "start_time": "2020-11-02T21:02:01.686978",
     "status": "completed"
    },
    "tags": []
   },
   "outputs": [
    {
     "data": {
      "text/plain": [
       "Text(0.5, 1.0, 'Accuracy vs K-value')"
      ]
     },
     "execution_count": 55,
     "metadata": {},
     "output_type": "execute_result"
    },
    {
     "data": {
      "image/png": "[encoded data removed]",
      "text/plain": [
       "<Figure size 1080x576 with 1 Axes>"
      ]
     },
     "metadata": {},
     "output_type": "display_data"
    }
   ],
   "source": [
    "plt.style.use('ggplot')\n",
    "plt.subplots(figsize = (15,8))\n",
    "accuracies = []\n",
    "for k in range(1,40):\n",
    "    accuracies.append(list_neighbors[k])\n",
    "plt.plot(range(1,40), accuracies , linewidth=3 , linestyle = 'dashdot', color = 'black', marker = 'p',markersize=9, markerfacecolor = 'red')\n",
    "\n",
    "plt.xlabel('K-value',fontsize=14)\n",
    "plt.ylabel('Accuracy',fontsize=14)\n",
    "plt.title('Accuracy vs K-value', fontsize=20)"
   ]
  },
  {
   "cell_type": "markdown",
   "metadata": {
    "papermill": {
     "duration": 0.078528,
     "end_time": "2020-11-02T21:02:02.130718",
     "exception": false,
     "start_time": "2020-11-02T21:02:02.052190",
     "status": "completed"
    },
    "tags": []
   },
   "source": [
    "#### Logistic Regression"
   ]
  },
  {
   "cell_type": "code",
   "execution_count": 56,
   "metadata": {
    "execution": {
     "iopub.execute_input": "2020-11-02T21:02:02.299013Z",
     "iopub.status.busy": "2020-11-02T21:02:02.298154Z",
     "iopub.status.idle": "2020-11-02T21:02:02.316112Z",
     "shell.execute_reply": "2020-11-02T21:02:02.315505Z"
    },
    "papermill": {
     "duration": 0.107342,
     "end_time": "2020-11-02T21:02:02.316244",
     "exception": false,
     "start_time": "2020-11-02T21:02:02.208902",
     "status": "completed"
    },
    "tags": []
   },
   "outputs": [
    {
     "name": "stdout",
     "output_type": "stream",
     "text": [
      "80.62\n"
     ]
    }
   ],
   "source": [
    "\n",
    "logreg = LogisticRegression()\n",
    "logreg.fit(X_tr, Y_tr)\n",
    "Y_pred = logreg.predict(X_ts)\n",
    "accuracy_log = round(logreg.score(X_tr, Y_tr) * 100, 2)\n",
    "print(accuracy_log)\n"
   ]
  },
  {
   "cell_type": "markdown",
   "metadata": {
    "papermill": {
     "duration": 0.081886,
     "end_time": "2020-11-02T21:02:02.487395",
     "exception": false,
     "start_time": "2020-11-02T21:02:02.405509",
     "status": "completed"
    },
    "tags": []
   },
   "source": [
    "#### Linear Discriminant Analysis"
   ]
  },
  {
   "cell_type": "code",
   "execution_count": 57,
   "metadata": {
    "execution": {
     "iopub.execute_input": "2020-11-02T21:02:02.666694Z",
     "iopub.status.busy": "2020-11-02T21:02:02.665935Z",
     "iopub.status.idle": "2020-11-02T21:02:02.713500Z",
     "shell.execute_reply": "2020-11-02T21:02:02.712803Z"
    },
    "papermill": {
     "duration": 0.140758,
     "end_time": "2020-11-02T21:02:02.713660",
     "exception": false,
     "start_time": "2020-11-02T21:02:02.572902",
     "status": "completed"
    },
    "tags": []
   },
   "outputs": [
    {
     "name": "stdout",
     "output_type": "stream",
     "text": [
      "80.48\n"
     ]
    }
   ],
   "source": [
    "lda = LinearDiscriminantAnalysis()\n",
    "lda.fit(X_tr, Y_tr)\n",
    "Y_pred = lda.predict(X_ts)\n",
    "accuracy_lda = round(lda.score(X_tr, Y_tr) * 100, 2)\n",
    "print(accuracy_lda)\n"
   ]
  },
  {
   "cell_type": "markdown",
   "metadata": {
    "papermill": {
     "duration": 0.082817,
     "end_time": "2020-11-02T21:02:02.883903",
     "exception": false,
     "start_time": "2020-11-02T21:02:02.801086",
     "status": "completed"
    },
    "tags": []
   },
   "source": [
    "#### Compering ML Models"
   ]
  },
  {
   "cell_type": "code",
   "execution_count": 58,
   "metadata": {
    "execution": {
     "iopub.execute_input": "2020-11-02T21:02:03.069657Z",
     "iopub.status.busy": "2020-11-02T21:02:03.064504Z",
     "iopub.status.idle": "2020-11-02T21:02:03.172083Z",
     "shell.execute_reply": "2020-11-02T21:02:03.171352Z"
    },
    "papermill": {
     "duration": 0.204587,
     "end_time": "2020-11-02T21:02:03.172214",
     "exception": false,
     "start_time": "2020-11-02T21:02:02.967627",
     "status": "completed"
    },
    "tags": []
   },
   "outputs": [
    {
     "data": {
      "image/png": "[encoded data removed]",
      "text/plain": [
       "<Figure size 432x288 with 1 Axes>"
      ]
     },
     "metadata": {},
     "output_type": "display_data"
    }
   ],
   "source": [
    "label = ['KNN','Logreg','Lda']\n",
    "list_accuracy = [max_value_knn,accuracy_log,accuracy_lda]\n",
    "def plot_bar_x():\n",
    "    # this is for plotting purpose\n",
    "    index = np.arange(len(label))\n",
    "    plt.bar(index, list_accuracy)\n",
    "    plt.xlabel('Models', fontsize=9)\n",
    "    plt.ylabel('Percentage % ', fontsize=9)\n",
    "    plt.xticks(index, label, fontsize=10, rotation=30)\n",
    "    plt.title('Compare Models')\n",
    "    plt.show()\n",
    "    \n",
    "plot_bar_x()"
   ]
  },
  {
   "cell_type": "code",
   "execution_count": 59,
   "metadata": {
    "execution": {
     "iopub.execute_input": "2020-11-02T21:02:03.348845Z",
     "iopub.status.busy": "2020-11-02T21:02:03.347419Z",
     "iopub.status.idle": "2020-11-02T21:02:03.513160Z",
     "shell.execute_reply": "2020-11-02T21:02:03.512496Z"
    },
    "papermill": {
     "duration": 0.258545,
     "end_time": "2020-11-02T21:02:03.513284",
     "exception": false,
     "start_time": "2020-11-02T21:02:03.254739",
     "status": "completed"
    },
    "tags": []
   },
   "outputs": [
    {
     "data": {
      "image/png": "[encoded data removed]",
      "text/plain": [
       "<Figure size 432x288 with 2 Axes>"
      ]
     },
     "metadata": {},
     "output_type": "display_data"
    }
   ],
   "source": [
    "ax = plt.axes()\n",
    "cf_knn = pd.crosstab(Y_ts, Y_pred_knn, rownames=['Actual'], colnames=['Predicted'])\n",
    "sns.heatmap(cf_knn, annot=True)\n",
    "ax.set_title('KNN Confusion Matrix')\n",
    "plt.show()"
   ]
  },
  {
   "cell_type": "code",
   "execution_count": 60,
   "metadata": {
    "execution": {
     "iopub.execute_input": "2020-11-02T21:02:03.691589Z",
     "iopub.status.busy": "2020-11-02T21:02:03.690805Z",
     "iopub.status.idle": "2020-11-02T21:02:03.695813Z",
     "shell.execute_reply": "2020-11-02T21:02:03.695099Z"
    },
    "papermill": {
     "duration": 0.100409,
     "end_time": "2020-11-02T21:02:03.695945",
     "exception": false,
     "start_time": "2020-11-02T21:02:03.595536",
     "status": "completed"
    },
    "tags": []
   },
   "outputs": [
    {
     "data": {
      "text/plain": [
       "((891, 8), (891,), (418, 8))"
      ]
     },
     "execution_count": 60,
     "metadata": {},
     "output_type": "execute_result"
    }
   ],
   "source": [
    "# Let's predict with our test data\n",
    "X_tr = train_df.drop(\"Survived\", axis=1)\n",
    "Y_tr = train_df[\"Survived\"]\n",
    "X_ts  = test_df.drop(\"PassengerId\", axis=1).copy()\n",
    "X_tr.shape, Y_tr.shape, X_ts.shape"
   ]
  },
  {
   "cell_type": "code",
   "execution_count": 61,
   "metadata": {
    "execution": {
     "iopub.execute_input": "2020-11-02T21:02:03.874860Z",
     "iopub.status.busy": "2020-11-02T21:02:03.873915Z",
     "iopub.status.idle": "2020-11-02T21:02:06.446481Z",
     "shell.execute_reply": "2020-11-02T21:02:06.446986Z"
    },
    "papermill": {
     "duration": 2.669052,
     "end_time": "2020-11-02T21:02:06.447172",
     "exception": false,
     "start_time": "2020-11-02T21:02:03.778120",
     "status": "completed"
    },
    "tags": []
   },
   "outputs": [
    {
     "name": "stdout",
     "output_type": "stream",
     "text": [
      "The max accuracy is % 85.97 with 3 neighbors.\n"
     ]
    }
   ],
   "source": [
    "list_neighbors = {}\n",
    "\n",
    "for i in range(1,40):\n",
    "\n",
    "    knn = KNeighborsClassifier(n_neighbors = i)\n",
    "    knn.fit(X_tr, Y_tr)\n",
    "    Y_pred_knn = knn.predict(X_ts)\n",
    "    accuracy_knn = round(knn.score(X_tr, Y_tr) * 100, 2)\n",
    "    #print(\"Number of neigbors: \" + str(i)+ \" Accuracy is = \" + str(accuracy_knn))\n",
    "    list_neighbors[i] = accuracy_knn\n",
    "    \n",
    "    \n",
    "max_key = max(list_neighbors, key=list_neighbors.get)\n",
    "all_values = list_neighbors.values()\n",
    "max_value_knn_test = max(all_values)\n",
    "print(\"The max accuracy is % \" + str(max_value_knn_test) + \" with \" + str(max_key) + \" neighbors.\")"
   ]
  },
  {
   "cell_type": "code",
   "execution_count": 62,
   "metadata": {
    "execution": {
     "iopub.execute_input": "2020-11-02T21:02:06.630695Z",
     "iopub.status.busy": "2020-11-02T21:02:06.629988Z",
     "iopub.status.idle": "2020-11-02T21:02:06.655472Z",
     "shell.execute_reply": "2020-11-02T21:02:06.654780Z"
    },
    "papermill": {
     "duration": 0.121199,
     "end_time": "2020-11-02T21:02:06.655611",
     "exception": false,
     "start_time": "2020-11-02T21:02:06.534412",
     "status": "completed"
    },
    "tags": []
   },
   "outputs": [
    {
     "name": "stdout",
     "output_type": "stream",
     "text": [
      "79.69\n"
     ]
    }
   ],
   "source": [
    "logreg = LogisticRegression()\n",
    "logreg.fit(X_tr, Y_tr)\n",
    "Y_pred = logreg.predict(X_ts)\n",
    "accuracy_log_test = round(logreg.score(X_tr, Y_tr) * 100, 2)\n",
    "print(accuracy_log_test)"
   ]
  },
  {
   "cell_type": "code",
   "execution_count": 63,
   "metadata": {
    "execution": {
     "iopub.execute_input": "2020-11-02T21:02:06.838875Z",
     "iopub.status.busy": "2020-11-02T21:02:06.837929Z",
     "iopub.status.idle": "2020-11-02T21:02:06.851547Z",
     "shell.execute_reply": "2020-11-02T21:02:06.852061Z"
    },
    "papermill": {
     "duration": 0.107509,
     "end_time": "2020-11-02T21:02:06.852226",
     "exception": false,
     "start_time": "2020-11-02T21:02:06.744717",
     "status": "completed"
    },
    "tags": []
   },
   "outputs": [
    {
     "name": "stdout",
     "output_type": "stream",
     "text": [
      "79.57\n"
     ]
    }
   ],
   "source": [
    "lda = LinearDiscriminantAnalysis()\n",
    "lda.fit(X_tr, Y_tr)\n",
    "Y_pred = lda.predict(X_ts)\n",
    "accuracy_lda_test = round(lda.score(X_tr, Y_tr) * 100, 2)\n",
    "print(accuracy_lda_test)"
   ]
  },
  {
   "cell_type": "code",
   "execution_count": 64,
   "metadata": {
    "execution": {
     "iopub.execute_input": "2020-11-02T21:02:07.036944Z",
     "iopub.status.busy": "2020-11-02T21:02:07.031013Z",
     "iopub.status.idle": "2020-11-02T21:02:07.157478Z",
     "shell.execute_reply": "2020-11-02T21:02:07.156814Z"
    },
    "papermill": {
     "duration": 0.218678,
     "end_time": "2020-11-02T21:02:07.157597",
     "exception": false,
     "start_time": "2020-11-02T21:02:06.938919",
     "status": "completed"
    },
    "tags": []
   },
   "outputs": [
    {
     "data": {
      "image/png": "[encoded data removed]",
      "text/plain": [
       "<Figure size 432x288 with 1 Axes>"
      ]
     },
     "metadata": {},
     "output_type": "display_data"
    }
   ],
   "source": [
    "label = ['KNN','KNN_Test','Logreg','Logreg_Test','Lda','Lda_Test']\n",
    "list_accuracy = [max_value_knn,max_value_knn_test,accuracy_log,accuracy_log_test,accuracy_lda,accuracy_lda_test]\n",
    "def plot_bar_x():\n",
    "    # this is for plotting purpose\n",
    "    index = np.arange(len(label))\n",
    "    plt.bar(index, list_accuracy)\n",
    "    plt.xlabel('Models', fontsize=9)\n",
    "    plt.ylabel('Percentage % ', fontsize=9)\n",
    "    plt.xticks(index, label, fontsize=10, rotation=30)\n",
    "    plt.title('Compare Models with Test Data and Train Data')\n",
    "    plt.show()\n",
    "    \n",
    "plot_bar_x()"
   ]
  },
  {
   "cell_type": "markdown",
   "metadata": {
    "papermill": {
     "duration": 0.089502,
     "end_time": "2020-11-02T21:02:07.339978",
     "exception": false,
     "start_time": "2020-11-02T21:02:07.250476",
     "status": "completed"
    },
    "tags": []
   },
   "source": [
    "#### As we can see on the plot there is no big different between train data set and test data set.We observe changes approximately %1 accuracy.\n"
   ]
  },
  {
   "cell_type": "markdown",
   "metadata": {
    "papermill": {
     "duration": 0.086375,
     "end_time": "2020-11-02T21:02:07.510651",
     "exception": false,
     "start_time": "2020-11-02T21:02:07.424276",
     "status": "completed"
    },
    "tags": []
   },
   "source": [
    "### Now we will take diffrent sample size from train data set to look our effects of sample.\n"
   ]
  },
  {
   "cell_type": "code",
   "execution_count": 65,
   "metadata": {
    "execution": {
     "iopub.execute_input": "2020-11-02T21:02:07.698547Z",
     "iopub.status.busy": "2020-11-02T21:02:07.695996Z",
     "iopub.status.idle": "2020-11-02T21:02:08.184006Z",
     "shell.execute_reply": "2020-11-02T21:02:08.183475Z"
    },
    "papermill": {
     "duration": 0.586549,
     "end_time": "2020-11-02T21:02:08.184145",
     "exception": false,
     "start_time": "2020-11-02T21:02:07.597596",
     "status": "completed"
    },
    "tags": []
   },
   "outputs": [
    {
     "name": "stdout",
     "output_type": "stream",
     "text": [
      "Sample size of test for KNN  :0.1, Accuracy is : 85.14\n",
      "Sample size of test for Log  :0.1, Accuracy is : 80.52\n",
      "Sample size of test for Lda  :0.1, Accuracy is : 80.15\n",
      "Sample size of test for KNN  :0.2, Accuracy is : 87.22\n",
      "Sample size of test for Log  :0.2, Accuracy is : 80.62\n",
      "Sample size of test for Lda  :0.2, Accuracy is : 80.48\n",
      "Sample size of test for KNN  :0.3, Accuracy is : 85.23\n",
      "Sample size of test for Log  :0.3, Accuracy is : 81.54\n",
      "Sample size of test for Lda  :0.3, Accuracy is : 80.9\n",
      "Sample size of test for KNN  :0.4, Accuracy is : 88.01\n",
      "Sample size of test for Log  :0.4, Accuracy is : 82.4\n",
      "Sample size of test for Lda  :0.4, Accuracy is : 82.02\n",
      "Sample size of test for KNN  :0.5, Accuracy is : 88.31\n",
      "Sample size of test for Log  :0.5, Accuracy is : 82.92\n",
      "Sample size of test for Lda  :0.5, Accuracy is : 82.7\n",
      "Sample size of test for KNN  :0.6, Accuracy is : 88.76\n",
      "Sample size of test for Log  :0.6, Accuracy is : 83.71\n",
      "Sample size of test for Lda  :0.6, Accuracy is : 83.43\n",
      "Sample size of test for KNN  :0.7, Accuracy is : 88.39\n",
      "Sample size of test for Log  :0.7, Accuracy is : 82.4\n",
      "Sample size of test for Lda  :0.7, Accuracy is : 81.27\n",
      "Sample size of test for KNN  :0.8, Accuracy is : 89.89\n",
      "Sample size of test for Log  :0.8, Accuracy is : 82.58\n",
      "Sample size of test for Lda  :0.8, Accuracy is : 82.58\n",
      "Sample size of test for KNN  :0.9, Accuracy is : 80.9\n",
      "Sample size of test for Log  :0.9, Accuracy is : 80.9\n",
      "Sample size of test for Lda  :0.9, Accuracy is : 79.78\n"
     ]
    }
   ],
   "source": [
    "knn_accs=[]\n",
    "log_accs=[]\n",
    "lda_accs=[]\n",
    "for j in range(9):\n",
    "    size = (j+1)/10\n",
    "    X_tr, X_ts, Y_tr, Y_ts =  train_test_split(X,Y, test_size=size, random_state=1) \n",
    "    #Feature scaling\n",
    "    sc_X = StandardScaler()\n",
    "    X_tr = sc_X.fit_transform(X_tr)\n",
    "    X_ts = sc_X.fit_transform(X_ts)\n",
    "    #Knn\n",
    "    knn = KNeighborsClassifier(n_neighbors = 3)\n",
    "    knn.fit(X_tr, Y_tr)\n",
    "    Y_pred_knn = knn.predict(X_ts)\n",
    "    accuracy_knn = round(knn.score(X_tr, Y_tr) * 100, 2)\n",
    "    knn_accs.append(accuracy_knn)\n",
    "    print(\"Sample size of test for KNN  :\" + str(size)+ \", Accuracy is : \" + str(accuracy_knn)  )\n",
    "    #Logreg\n",
    "    logreg = LogisticRegression()\n",
    "    logreg.fit(X_tr, Y_tr)\n",
    "    Y_pred = logreg.predict(X_ts)\n",
    "    accuracy_log = round(logreg.score(X_tr, Y_tr) * 100, 2)\n",
    "    log_accs.append(accuracy_log)\n",
    "    print(\"Sample size of test for Log  :\" + str(size)+ \", Accuracy is : \" + str(accuracy_log)  )\n",
    "    #Lda\n",
    "    lda = LinearDiscriminantAnalysis()\n",
    "    lda.fit(X_tr, Y_tr)\n",
    "    Y_pred = lda.predict(X_ts)\n",
    "    accuracy_lda= round(lda.score(X_tr, Y_tr) * 100, 2)\n",
    "    lda_accs.append(accuracy_lda)\n",
    "    print(\"Sample size of test for Lda  :\" + str(size)+ \", Accuracy is : \" + str(accuracy_lda)  )\n",
    "    \n",
    "    \n",
    "    \n"
   ]
  },
  {
   "cell_type": "code",
   "execution_count": 66,
   "metadata": {
    "execution": {
     "iopub.execute_input": "2020-11-02T21:02:08.372301Z",
     "iopub.status.busy": "2020-11-02T21:02:08.371475Z",
     "iopub.status.idle": "2020-11-02T21:02:08.374382Z",
     "shell.execute_reply": "2020-11-02T21:02:08.373704Z"
    },
    "papermill": {
     "duration": 0.100705,
     "end_time": "2020-11-02T21:02:08.374524",
     "exception": false,
     "start_time": "2020-11-02T21:02:08.273819",
     "status": "completed"
    },
    "tags": []
   },
   "outputs": [],
   "source": [
    "def plot_sample(model,accs):\n",
    "    \n",
    "    plt.style.use('ggplot')\n",
    "    plt.subplots(figsize = (15,8))\n",
    "    sample = [ ]\n",
    "    for i in range(9):\n",
    "        sample.append((i+1)/10)\n",
    "\n",
    "    plt.plot(sample, accs , linewidth=3 , linestyle = 'dashed', color = 'gray', marker = 'D',markersize=9, markerfacecolor = 'blue')\n",
    "    title = 'Accuracy vs Sample Size on '+ model\n",
    "    plt.xlabel('Sample Size',fontsize=14)\n",
    "    plt.ylabel('Accuracy',fontsize=14)\n",
    "    plt.title(title, fontsize=20)"
   ]
  },
  {
   "cell_type": "code",
   "execution_count": 67,
   "metadata": {
    "execution": {
     "iopub.execute_input": "2020-11-02T21:02:08.556384Z",
     "iopub.status.busy": "2020-11-02T21:02:08.555576Z",
     "iopub.status.idle": "2020-11-02T21:02:08.729348Z",
     "shell.execute_reply": "2020-11-02T21:02:08.728797Z"
    },
    "papermill": {
     "duration": 0.267796,
     "end_time": "2020-11-02T21:02:08.729462",
     "exception": false,
     "start_time": "2020-11-02T21:02:08.461666",
     "status": "completed"
    },
    "tags": []
   },
   "outputs": [
    {
     "data": {
      "image/png": "[encoded data removed]",
      "text/plain": [
       "<Figure size 1080x576 with 1 Axes>"
      ]
     },
     "metadata": {},
     "output_type": "display_data"
    }
   ],
   "source": [
    "plot_sample(\"KNN\",knn_accs)"
   ]
  },
  {
   "cell_type": "code",
   "execution_count": 68,
   "metadata": {
    "execution": {
     "iopub.execute_input": "2020-11-02T21:02:08.917366Z",
     "iopub.status.busy": "2020-11-02T21:02:08.916599Z",
     "iopub.status.idle": "2020-11-02T21:02:09.104381Z",
     "shell.execute_reply": "2020-11-02T21:02:09.103732Z"
    },
    "papermill": {
     "duration": 0.289382,
     "end_time": "2020-11-02T21:02:09.104498",
     "exception": false,
     "start_time": "2020-11-02T21:02:08.815116",
     "status": "completed"
    },
    "tags": []
   },
   "outputs": [
    {
     "data": {
      "image/png": "[encoded data removed]",
      "text/plain": [
       "<Figure size 1080x576 with 1 Axes>"
      ]
     },
     "metadata": {},
     "output_type": "display_data"
    }
   ],
   "source": [
    "plot_sample(\"Logreg\",log_accs)"
   ]
  },
  {
   "cell_type": "code",
   "execution_count": 69,
   "metadata": {
    "execution": {
     "iopub.execute_input": "2020-11-02T21:02:09.295610Z",
     "iopub.status.busy": "2020-11-02T21:02:09.292532Z",
     "iopub.status.idle": "2020-11-02T21:02:09.491990Z",
     "shell.execute_reply": "2020-11-02T21:02:09.491462Z"
    },
    "papermill": {
     "duration": 0.299669,
     "end_time": "2020-11-02T21:02:09.492139",
     "exception": false,
     "start_time": "2020-11-02T21:02:09.192470",
     "status": "completed"
    },
    "tags": []
   },
   "outputs": [
    {
     "data": {
      "image/png": "[encoded data removed]",
      "text/plain": [
       "<Figure size 1080x576 with 1 Axes>"
      ]
     },
     "metadata": {},
     "output_type": "display_data"
    }
   ],
   "source": [
    "plot_sample(\"Lda\",lda_accs)"
   ]
  },
  {
   "cell_type": "markdown",
   "metadata": {
    "papermill": {
     "duration": 0.089883,
     "end_time": "2020-11-02T21:02:09.671079",
     "exception": false,
     "start_time": "2020-11-02T21:02:09.581196",
     "status": "completed"
    },
    "tags": []
   },
   "source": [
    "### We will look as well to find which columns our indicators."
   ]
  },
  {
   "cell_type": "code",
   "execution_count": 70,
   "metadata": {
    "execution": {
     "iopub.execute_input": "2020-11-02T21:02:09.859941Z",
     "iopub.status.busy": "2020-11-02T21:02:09.858946Z",
     "iopub.status.idle": "2020-11-02T21:02:09.863391Z",
     "shell.execute_reply": "2020-11-02T21:02:09.862729Z"
    },
    "papermill": {
     "duration": 0.10172,
     "end_time": "2020-11-02T21:02:09.863514",
     "exception": false,
     "start_time": "2020-11-02T21:02:09.761794",
     "status": "completed"
    },
    "tags": []
   },
   "outputs": [
    {
     "data": {
      "text/plain": [
       "['Pclass', 'Sex', 'Age', 'SibSp', 'Parch', 'Fare', 'Embarked_data', 'Title']"
      ]
     },
     "execution_count": 70,
     "metadata": {},
     "output_type": "execute_result"
    }
   ],
   "source": [
    "columns = []\n",
    "train_df_new = train_df.copy()\n",
    "for col in train_df_new.columns: \n",
    "    columns.append(col)\n",
    "columns.pop(0)\n",
    "columns"
   ]
  },
  {
   "cell_type": "code",
   "execution_count": 71,
   "metadata": {
    "execution": {
     "iopub.execute_input": "2020-11-02T21:02:10.064138Z",
     "iopub.status.busy": "2020-11-02T21:02:10.063226Z",
     "iopub.status.idle": "2020-11-02T21:02:10.068218Z",
     "shell.execute_reply": "2020-11-02T21:02:10.067603Z"
    },
    "papermill": {
     "duration": 0.110447,
     "end_time": "2020-11-02T21:02:10.068361",
     "exception": false,
     "start_time": "2020-11-02T21:02:09.957914",
     "status": "completed"
    },
    "tags": []
   },
   "outputs": [
    {
     "data": {
      "text/html": [
       "<div>\n",
       "<style scoped>\n",
       "    .dataframe tbody tr th:only-of-type {\n",
       "        vertical-align: middle;\n",
       "    }\n",
       "\n",
       "    .dataframe tbody tr th {\n",
       "        vertical-align: top;\n",
       "    }\n",
       "\n",
       "    .dataframe thead th {\n",
       "        text-align: right;\n",
       "    }\n",
       "</style>\n",
       "<table border=\"1\" class=\"dataframe\">\n",
       "  <thead>\n",
       "    <tr style=\"text-align: right;\">\n",
       "      <th></th>\n",
       "      <th>Survived</th>\n",
       "      <th>Sex</th>\n",
       "      <th>Age</th>\n",
       "      <th>SibSp</th>\n",
       "      <th>Parch</th>\n",
       "      <th>Fare</th>\n",
       "      <th>Embarked_data</th>\n",
       "      <th>Title</th>\n",
       "    </tr>\n",
       "  </thead>\n",
       "  <tbody>\n",
       "    <tr>\n",
       "      <th>0</th>\n",
       "      <td>0</td>\n",
       "      <td>0</td>\n",
       "      <td>1</td>\n",
       "      <td>1</td>\n",
       "      <td>0</td>\n",
       "      <td>0</td>\n",
       "      <td>0</td>\n",
       "      <td>1</td>\n",
       "    </tr>\n",
       "    <tr>\n",
       "      <th>1</th>\n",
       "      <td>1</td>\n",
       "      <td>1</td>\n",
       "      <td>2</td>\n",
       "      <td>1</td>\n",
       "      <td>0</td>\n",
       "      <td>3</td>\n",
       "      <td>1</td>\n",
       "      <td>3</td>\n",
       "    </tr>\n",
       "    <tr>\n",
       "      <th>2</th>\n",
       "      <td>1</td>\n",
       "      <td>1</td>\n",
       "      <td>1</td>\n",
       "      <td>0</td>\n",
       "      <td>0</td>\n",
       "      <td>1</td>\n",
       "      <td>0</td>\n",
       "      <td>2</td>\n",
       "    </tr>\n",
       "    <tr>\n",
       "      <th>3</th>\n",
       "      <td>1</td>\n",
       "      <td>1</td>\n",
       "      <td>2</td>\n",
       "      <td>1</td>\n",
       "      <td>0</td>\n",
       "      <td>3</td>\n",
       "      <td>0</td>\n",
       "      <td>3</td>\n",
       "    </tr>\n",
       "    <tr>\n",
       "      <th>4</th>\n",
       "      <td>0</td>\n",
       "      <td>0</td>\n",
       "      <td>2</td>\n",
       "      <td>0</td>\n",
       "      <td>0</td>\n",
       "      <td>1</td>\n",
       "      <td>0</td>\n",
       "      <td>1</td>\n",
       "    </tr>\n",
       "    <tr>\n",
       "      <th>...</th>\n",
       "      <td>...</td>\n",
       "      <td>...</td>\n",
       "      <td>...</td>\n",
       "      <td>...</td>\n",
       "      <td>...</td>\n",
       "      <td>...</td>\n",
       "      <td>...</td>\n",
       "      <td>...</td>\n",
       "    </tr>\n",
       "    <tr>\n",
       "      <th>886</th>\n",
       "      <td>0</td>\n",
       "      <td>0</td>\n",
       "      <td>1</td>\n",
       "      <td>0</td>\n",
       "      <td>0</td>\n",
       "      <td>1</td>\n",
       "      <td>0</td>\n",
       "      <td>5</td>\n",
       "    </tr>\n",
       "    <tr>\n",
       "      <th>887</th>\n",
       "      <td>1</td>\n",
       "      <td>1</td>\n",
       "      <td>1</td>\n",
       "      <td>0</td>\n",
       "      <td>0</td>\n",
       "      <td>2</td>\n",
       "      <td>0</td>\n",
       "      <td>2</td>\n",
       "    </tr>\n",
       "    <tr>\n",
       "      <th>888</th>\n",
       "      <td>0</td>\n",
       "      <td>1</td>\n",
       "      <td>1</td>\n",
       "      <td>1</td>\n",
       "      <td>2</td>\n",
       "      <td>2</td>\n",
       "      <td>0</td>\n",
       "      <td>2</td>\n",
       "    </tr>\n",
       "    <tr>\n",
       "      <th>889</th>\n",
       "      <td>1</td>\n",
       "      <td>0</td>\n",
       "      <td>1</td>\n",
       "      <td>0</td>\n",
       "      <td>0</td>\n",
       "      <td>2</td>\n",
       "      <td>1</td>\n",
       "      <td>1</td>\n",
       "    </tr>\n",
       "    <tr>\n",
       "      <th>890</th>\n",
       "      <td>0</td>\n",
       "      <td>0</td>\n",
       "      <td>1</td>\n",
       "      <td>0</td>\n",
       "      <td>0</td>\n",
       "      <td>0</td>\n",
       "      <td>2</td>\n",
       "      <td>1</td>\n",
       "    </tr>\n",
       "  </tbody>\n",
       "</table>\n",
       "<p>891 rows × 8 columns</p>\n",
       "</div>"
      ],
      "text/plain": [
       "     Survived  Sex  Age  SibSp  Parch  Fare  Embarked_data  Title\n",
       "0           0    0    1      1      0     0              0      1\n",
       "1           1    1    2      1      0     3              1      3\n",
       "2           1    1    1      0      0     1              0      2\n",
       "3           1    1    2      1      0     3              0      3\n",
       "4           0    0    2      0      0     1              0      1\n",
       "..        ...  ...  ...    ...    ...   ...            ...    ...\n",
       "886         0    0    1      0      0     1              0      5\n",
       "887         1    1    1      0      0     2              0      2\n",
       "888         0    1    1      1      2     2              0      2\n",
       "889         1    0    1      0      0     2              1      1\n",
       "890         0    0    1      0      0     0              2      1\n",
       "\n",
       "[891 rows x 8 columns]"
      ]
     },
     "execution_count": 71,
     "metadata": {},
     "output_type": "execute_result"
    }
   ],
   "source": [
    "i = 'Pclass'\n",
    "train_df_new.drop(i, axis=1)"
   ]
  },
  {
   "cell_type": "code",
   "execution_count": 72,
   "metadata": {
    "execution": {
     "iopub.execute_input": "2020-11-02T21:02:10.278376Z",
     "iopub.status.busy": "2020-11-02T21:02:10.277633Z",
     "iopub.status.idle": "2020-11-02T21:02:10.695088Z",
     "shell.execute_reply": "2020-11-02T21:02:10.695669Z"
    },
    "papermill": {
     "duration": 0.531201,
     "end_time": "2020-11-02T21:02:10.695820",
     "exception": false,
     "start_time": "2020-11-02T21:02:10.164619",
     "status": "completed"
    },
    "tags": []
   },
   "outputs": [],
   "source": [
    "a_knn = {}\n",
    "a_log = {}\n",
    "a_lda = {}\n",
    "for i in columns:\n",
    "    train_df_1 = train_df.copy()\n",
    "    i = str(i)\n",
    "    train_df_1.drop(i, axis=1, inplace=True )\n",
    "    X = train_df_1.drop(\"Survived\", axis=1)\n",
    "    Y = train_df_1[\"Survived\"]\n",
    "    \n",
    "    X_tr, X_ts, Y_tr, Y_ts =  train_test_split(X,Y, test_size=0.2, random_state=1) \n",
    "    #Feature scaling\n",
    "    sc_X = StandardScaler()\n",
    "    X_tr = sc_X.fit_transform(X_tr)\n",
    "    X_ts = sc_X.fit_transform(X_ts)\n",
    "    \n",
    "    #Knn\n",
    "    knn = KNeighborsClassifier(n_neighbors = 3)\n",
    "    knn.fit(X_tr, Y_tr)\n",
    "    Y_pred_knn = knn.predict(X_ts)\n",
    "    accuracy_knn = round(knn.score(X_tr, Y_tr) * 100, 2)\n",
    "    a_knn[i]=(87.22-accuracy_knn)\n",
    "    #Logreg\n",
    "    logreg = LogisticRegression()\n",
    "    logreg.fit(X_tr, Y_tr)\n",
    "    Y_pred = logreg.predict(X_ts)\n",
    "    accuracy_log = round(logreg.score(X_tr, Y_tr) * 100, 2)\n",
    "    a_log[i] = (80.62-accuracy_log)\n",
    "    #Lda\n",
    "    lda = LinearDiscriminantAnalysis()\n",
    "    lda.fit(X_tr, Y_tr)\n",
    "    Y_pred = lda.predict(X_ts)\n",
    "    accuracy_lda= round(lda.score(X_tr, Y_tr) * 100, 2)\n",
    "    a_lda[i] = (80.48-accuracy_lda)\n"
   ]
  },
  {
   "cell_type": "code",
   "execution_count": 73,
   "metadata": {
    "execution": {
     "iopub.execute_input": "2020-11-02T21:02:10.895152Z",
     "iopub.status.busy": "2020-11-02T21:02:10.889500Z",
     "iopub.status.idle": "2020-11-02T21:02:11.318205Z",
     "shell.execute_reply": "2020-11-02T21:02:11.317483Z"
    },
    "papermill": {
     "duration": 0.527745,
     "end_time": "2020-11-02T21:02:11.318361",
     "exception": false,
     "start_time": "2020-11-02T21:02:10.790616",
     "status": "completed"
    },
    "tags": []
   },
   "outputs": [
    {
     "data": {
      "image/png": "[encoded data removed]",
      "text/plain": [
       "<Figure size 1800x360 with 3 Axes>"
      ]
     },
     "metadata": {},
     "output_type": "display_data"
    }
   ],
   "source": [
    "fig, ((ax1,ax2,ax3)) = plt.subplots(1, 3,figsize=(25, 5), sharex=True, sharey=True)\n",
    "\n",
    "ax1.bar(a_knn.keys(), a_knn.values())\n",
    "ax2.bar(a_log.keys(), a_log.values())\n",
    "ax3.bar(a_lda.keys(), a_lda.values())\n",
    "ax1.title.set_text('KNN Indicators')\n",
    "ax2.title.set_text('Logreg Indicators')\n",
    "ax3.title.set_text('Lda Indicators')\n",
    "\n",
    "plt.show()"
   ]
  },
  {
   "cell_type": "code",
   "execution_count": 74,
   "metadata": {
    "execution": {
     "iopub.execute_input": "2020-11-02T21:02:11.523637Z",
     "iopub.status.busy": "2020-11-02T21:02:11.516722Z",
     "iopub.status.idle": "2020-11-02T21:02:11.569779Z",
     "shell.execute_reply": "2020-11-02T21:02:11.570279Z"
    },
    "papermill": {
     "duration": 0.153163,
     "end_time": "2020-11-02T21:02:11.570447",
     "exception": false,
     "start_time": "2020-11-02T21:02:11.417284",
     "status": "completed"
    },
    "tags": []
   },
   "outputs": [
    {
     "name": "stdout",
     "output_type": "stream",
     "text": [
      "84.97\n",
      "80.2\n",
      "80.2\n"
     ]
    }
   ],
   "source": [
    "# As we can see at below our indicators are four column: Pclass, Sex, Sibsp, and Title.\n",
    "# Now we will look at accuracy with 4 columns.\n",
    "\n",
    "train_df_2 = train_df.copy()\n",
    "train_df_2.drop([\"Age\"], axis=1, inplace=True )\n",
    "train_df_2.drop([\"Parch\"], axis=1, inplace=True )\n",
    "train_df_2.drop([\"Fare\"], axis=1, inplace=True )\n",
    "train_df_2.drop([\"Embarked_data\"], axis=1, inplace=True )\n",
    "X = train_df_2.drop(\"Survived\", axis=1)\n",
    "Y = train_df_2[\"Survived\"]\n",
    "#KNN\n",
    "knn = KNeighborsClassifier(n_neighbors = 3)\n",
    "knn.fit(X_tr, Y_tr)\n",
    "Y_pred_knn = knn.predict(X_ts)\n",
    "accuracy_knn = round(knn.score(X_tr, Y_tr) * 100, 2)\n",
    "#Logreg\n",
    "logreg = LogisticRegression()\n",
    "logreg.fit(X_tr, Y_tr)\n",
    "Y_pred = logreg.predict(X_ts)\n",
    "accuracy_log = round(logreg.score(X_tr, Y_tr) * 100, 2)\n",
    "#Lda\n",
    "lda = LinearDiscriminantAnalysis()\n",
    "lda.fit(X_tr, Y_tr)\n",
    "Y_pred = lda.predict(X_ts)\n",
    "accuracy_lda= round(lda.score(X_tr, Y_tr) * 100, 2)\n",
    "\n",
    "\n",
    "print(accuracy_knn)\n",
    "print(accuracy_log)\n",
    "print(accuracy_lda)"
   ]
  },
  {
   "cell_type": "code",
   "execution_count": 75,
   "metadata": {
    "execution": {
     "iopub.execute_input": "2020-11-02T21:02:11.775373Z",
     "iopub.status.busy": "2020-11-02T21:02:11.774644Z",
     "iopub.status.idle": "2020-11-02T21:02:13.411080Z",
     "shell.execute_reply": "2020-11-02T21:02:13.410346Z"
    },
    "papermill": {
     "duration": 1.745813,
     "end_time": "2020-11-02T21:02:13.411237",
     "exception": false,
     "start_time": "2020-11-02T21:02:11.665424",
     "status": "completed"
    },
    "tags": []
   },
   "outputs": [
    {
     "data": {
      "image/png": "[encoded data removed]",
      "text/plain": [
       "<Figure size 432x288 with 1 Axes>"
      ]
     },
     "metadata": {},
     "output_type": "display_data"
    },
    {
     "data": {
      "image/png": "[encoded data removed]",
      "text/plain": [
       "<Figure size 432x288 with 1 Axes>"
      ]
     },
     "metadata": {},
     "output_type": "display_data"
    },
    {
     "data": {
      "image/png": "[encoded data removed]",
      "text/plain": [
       "<Figure size 432x288 with 1 Axes>"
      ]
     },
     "metadata": {},
     "output_type": "display_data"
    }
   ],
   "source": [
    "\n",
    "from sklearn.model_selection import learning_curve\n",
    "def plot_curve(clf,title):\n",
    "\n",
    "    train_sizes,train_scores,test_scores = learning_curve(clf,X,Y,random_state = 1,cv = 5)\n",
    "\n",
    "    plt.figure()\n",
    "    plt.title(title)\n",
    "\n",
    "    ylim = (0.7, 1.01)\n",
    "    if ylim is not None:\n",
    "        plt.ylim(*ylim)\n",
    "\n",
    "    plt.xlabel(\"Training examples\")\n",
    "    plt.ylabel(\"Score\")\n",
    "\n",
    "    train_scores_mean = np.mean(train_scores, axis=1)\n",
    "    train_scores_std = np.std(train_scores, axis=1)\n",
    "    test_scores_mean = np.mean(test_scores, axis=1)\n",
    "    test_scores_std = np.std(test_scores, axis=1)\n",
    "    plt.grid()\n",
    "\n",
    "    plt.fill_between(train_sizes, train_scores_mean - train_scores_std,\n",
    "                train_scores_mean + train_scores_std, alpha=0.1,\n",
    "                color=\"r\")\n",
    "    plt.fill_between(train_sizes, test_scores_mean - test_scores_std,\n",
    "                test_scores_mean + test_scores_std, alpha=0.1, color=\"g\")\n",
    "    plt.plot(train_sizes, train_scores_mean, 'o-', color=\"r\",\n",
    "        label=\"Training score\")\n",
    "    plt.plot(train_sizes, test_scores_mean, 'o-', color=\"g\",\n",
    "        label=\"Cross-validation score\")\n",
    "\n",
    "    plt.legend(loc=\"best\")\n",
    "    plt.show()\n",
    "\n",
    "plot_curve(LogisticRegression(),'Learning Curve of Logistic Regression')\n",
    "plot_curve(KNeighborsClassifier(),'Learning Curve of KNN')\n",
    "plot_curve(LinearDiscriminantAnalysis(),'Learning Curve of LinearDiscriminantAnalysis')\n"
   ]
  },
  {
   "cell_type": "code",
   "execution_count": 76,
   "metadata": {
    "execution": {
     "iopub.execute_input": "2020-11-02T21:02:13.627805Z",
     "iopub.status.busy": "2020-11-02T21:02:13.621811Z",
     "iopub.status.idle": "2020-11-02T21:02:13.963561Z",
     "shell.execute_reply": "2020-11-02T21:02:13.962761Z"
    },
    "papermill": {
     "duration": 0.453221,
     "end_time": "2020-11-02T21:02:13.963703",
     "exception": false,
     "start_time": "2020-11-02T21:02:13.510482",
     "status": "completed"
    },
    "tags": []
   },
   "outputs": [
    {
     "name": "stdout",
     "output_type": "stream",
     "text": [
      "Optimal nr of features: 4\n",
      "Best features: Index(['Pclass', 'Sex', 'SibSp', 'Title'], dtype='object')\n"
     ]
    },
    {
     "data": {
      "image/png": "[encoded data removed]",
      "text/plain": [
       "<Figure size 432x288 with 1 Axes>"
      ]
     },
     "metadata": {},
     "output_type": "display_data"
    },
    {
     "data": {
      "text/html": [
       "<div>\n",
       "<style scoped>\n",
       "    .dataframe tbody tr th:only-of-type {\n",
       "        vertical-align: middle;\n",
       "    }\n",
       "\n",
       "    .dataframe tbody tr th {\n",
       "        vertical-align: top;\n",
       "    }\n",
       "\n",
       "    .dataframe thead th {\n",
       "        text-align: right;\n",
       "    }\n",
       "</style>\n",
       "<table border=\"1\" class=\"dataframe\">\n",
       "  <thead>\n",
       "    <tr style=\"text-align: right;\">\n",
       "      <th></th>\n",
       "      <th>Model</th>\n",
       "      <th>Score</th>\n",
       "      <th>Score_rfe</th>\n",
       "      <th>Score_rfecv</th>\n",
       "    </tr>\n",
       "  </thead>\n",
       "  <tbody>\n",
       "    <tr>\n",
       "      <th>0</th>\n",
       "      <td>KNN</td>\n",
       "      <td>84.97</td>\n",
       "      <td>74.30</td>\n",
       "      <td>77.09</td>\n",
       "    </tr>\n",
       "    <tr>\n",
       "      <th>1</th>\n",
       "      <td>Logistic Regression</td>\n",
       "      <td>80.20</td>\n",
       "      <td>77.65</td>\n",
       "      <td>77.09</td>\n",
       "    </tr>\n",
       "    <tr>\n",
       "      <th>2</th>\n",
       "      <td>LDA</td>\n",
       "      <td>80.20</td>\n",
       "      <td>77.65</td>\n",
       "      <td>78.21</td>\n",
       "    </tr>\n",
       "  </tbody>\n",
       "</table>\n",
       "</div>"
      ],
      "text/plain": [
       "                 Model  Score  Score_rfe  Score_rfecv\n",
       "0                  KNN  84.97      74.30        77.09\n",
       "1  Logistic Regression  80.20      77.65        77.09\n",
       "2                  LDA  80.20      77.65        78.21"
      ]
     },
     "execution_count": 76,
     "metadata": {},
     "output_type": "execute_result"
    }
   ],
   "source": [
    "X_tr, X_ts, Y_tr, Y_ts =  train_test_split(X,Y, test_size=0.2, random_state=1) \n",
    "#Feature scaling\n",
    "sc_X = StandardScaler()\n",
    "X_tr = pd.DataFrame(sc_X.fit_transform(X_tr),columns = X_tr.columns)\n",
    "X_ts = pd.DataFrame(sc_X.fit_transform(X_ts),columns = X_ts.columns)\n",
    "#Recursive Feature Elimination\n",
    "\n",
    "from sklearn.feature_selection import RFE\n",
    "from sklearn.metrics import accuracy_score\n",
    "from sklearn.feature_selection import RFECV\n",
    "\n",
    "rfe = RFE(estimator=logreg,step=1)\n",
    "rfe = rfe.fit(X_tr,Y_tr)\n",
    "\n",
    "selected_rfe_features = pd.DataFrame({'Feature':list(X_tr.columns), 'Ranking': rfe.ranking_})\n",
    "selected_rfe_features.sort_values(by='Ranking')\n",
    "\n",
    "\n",
    "# Redefine  X and Y RFE\n",
    "X_train_rfe = rfe.transform(X_tr)\n",
    "X_test_rfe = rfe.transform(X_ts)\n",
    "\n",
    "\n",
    "#Logistic Regression RFE\n",
    "logreg_rfe_model = logreg.fit(X_train_rfe,Y_tr)\n",
    "accuracy_log_rfe = round(accuracy_score(Y_ts,logreg_rfe_model.predict(X_test_rfe))* 100, 2)\n",
    "accuracy_log_rfe\n",
    "\n",
    "\n",
    "#KNN RFE\n",
    "knn_rfe_model = knn.fit(X_train_rfe,Y_tr)\n",
    "accuracy_knn_rfe = round(accuracy_score(Y_ts,knn_rfe_model.predict(X_test_rfe))* 100, 2)\n",
    "accuracy_knn_rfe\n",
    "\n",
    "\n",
    "#LDA RFE\n",
    "lda_rfe_model = lda.fit(X_train_rfe,Y_tr)\n",
    "accuracy_lda_rfe = round(accuracy_score(Y_ts,lda_rfe_model.predict(X_test_rfe))* 100, 2)\n",
    "accuracy_lda_rfe\n",
    "\n",
    "\n",
    "\n",
    "#-------\n",
    "\n",
    "\n",
    "\n",
    "# Recursive feature elimination with cross validation\n",
    "\n",
    "\n",
    "rfecv = RFECV(estimator=logreg,step=1,cv=5,scoring='accuracy')\n",
    "rfecv = rfecv.fit(X_tr, Y_tr)\n",
    "print('Optimal nr of features:', rfecv.n_features_)\n",
    "print('Best features:', X_tr.columns[rfecv.support_])\n",
    "\n",
    "\n",
    "rfecv.grid_scores_\n",
    "\n",
    "\n",
    "plt.figure()\n",
    "plt.xlabel(\"Number of features selected\")\n",
    "plt.ylabel(\"Cross validation score of number of selected features\")\n",
    "plt.plot(range(1,len(rfecv.grid_scores_) + 1),rfecv.grid_scores_)\n",
    "plt.show()\n",
    "\n",
    "\n",
    "# Redefine  X and Y RFECV\n",
    "X_train_rfecv = rfecv.transform(X_tr)\n",
    "X_test_rfecv = rfecv.transform(X_ts)\n",
    "\n",
    "\n",
    "\n",
    "#Logistic Regression RFECV\n",
    "logreg_rfecv_model = logreg.fit(X_train_rfecv, Y_tr)\n",
    "accuracy_log_rfecv = round(accuracy_score(Y_ts,logreg_rfecv_model.predict(X_test_rfecv))* 100, 2)\n",
    "\n",
    "\n",
    "#KNN RFECV\n",
    "knn_rfecv_model = knn.fit(X_train_rfecv, Y_tr)\n",
    "accuracy_knn_rfecv = round(accuracy_score(Y_ts,knn_rfecv_model.predict(X_test_rfecv))* 100, 2)\n",
    "\n",
    "\n",
    "#LDA RFECV\n",
    "lda_rfecv_model = lda.fit(X_train_rfecv, Y_tr)\n",
    "accuracy_lda_rfecv = round(accuracy_score(Y_ts,lda_rfecv_model.predict(X_test_rfecv))* 100, 2)\n",
    "\n",
    "\n",
    "\n",
    "\n",
    "\n",
    "results = pd.DataFrame({\n",
    "    'Model': ['KNN', 'Logistic Regression','LDA'],\n",
    "    'Score': [accuracy_knn, accuracy_log, accuracy_lda],\n",
    "    'Score_rfe': [accuracy_knn_rfe, accuracy_log_rfe, accuracy_lda_rfe],\n",
    "    'Score_rfecv': [accuracy_knn_rfecv, accuracy_log_rfecv, accuracy_lda_rfecv]})\n",
    "\n",
    "#result_df = results.sort_values(by='Score', ascending=False)\n",
    "#result_df = result_df.set_index('Score')\n",
    "results.head(9)\n"
   ]
  },
  {
   "cell_type": "markdown",
   "metadata": {},
   "source": [
    "### Decision Trees"
   ]
  },
  {
   "cell_type": "code",
   "execution_count": 77,
   "metadata": {},
   "outputs": [
    {
     "data": {
      "text/plain": [
       "84.13"
      ]
     },
     "execution_count": 77,
     "metadata": {},
     "output_type": "execute_result"
    }
   ],
   "source": [
    "decision_tree = DecisionTreeClassifier()\n",
    "decision_tree.fit(X_tr, Y_tr)\n",
    "Y_pred = decision_tree.predict(X_ts)\n",
    "acc_decision_tree = round(decision_tree.score(X_tr, Y_tr) * 100, 2)\n",
    "acc_decision_tree"
   ]
  },
  {
   "cell_type": "markdown",
   "metadata": {},
   "source": [
    "#### Gaussian Naive Bayes"
   ]
  },
  {
   "cell_type": "code",
   "execution_count": 78,
   "metadata": {},
   "outputs": [
    {
     "data": {
      "text/plain": [
       "81.88"
      ]
     },
     "execution_count": 78,
     "metadata": {},
     "output_type": "execute_result"
    }
   ],
   "source": [
    "from sklearn.naive_bayes import GaussianNB\n",
    "\n",
    "gaussian = GaussianNB()\n",
    "gaussian.fit(X_tr, Y_tr)\n",
    "Y_pred = gaussian.predict(X_ts)\n",
    "acc_gaussian = round(gaussian.score(X_tr, Y_tr) * 100, 2)\n",
    "acc_gaussian"
   ]
  },
  {
   "cell_type": "code",
   "execution_count": null,
   "metadata": {},
   "outputs": [],
   "source": []
  },
  {
   "cell_type": "code",
   "execution_count": null,
   "metadata": {},
   "outputs": [],
   "source": []
  },
  {
   "cell_type": "code",
   "execution_count": null,
   "metadata": {},
   "outputs": [],
   "source": []
  }
 ],
 "metadata": {
  "kernelspec": {
   "display_name": "Python 3",
   "language": "python",
   "name": "python3"
  },
  "language_info": {
   "codemirror_mode": {
    "name": "ipython",
    "version": 3
   },
   "file_extension": ".py",
   "mimetype": "text/x-python",
   "name": "python",
   "nbconvert_exporter": "python",
   "pygments_lexer": "ipython3",
   "version": "3.8.5"
  },
  "papermill": {
   "duration": 35.329624,
   "end_time": "2020-11-02T21:02:14.175683",
   "environment_variables": {},
   "exception": null,
   "input_path": "__notebook__.ipynb",
   "output_path": "__notebook__.ipynb",
   "parameters": {},
   "start_time": "2020-11-02T21:01:38.846059",
   "version": "2.1.0"
  }
 },
 "nbformat": 4,
 "nbformat_minor": 4
}
